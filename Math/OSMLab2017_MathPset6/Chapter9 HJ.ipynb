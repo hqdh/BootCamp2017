{
 "cells": [
  {
   "cell_type": "code",
   "execution_count": 2,
   "metadata": {
    "collapsed": true
   },
   "outputs": [],
   "source": [
    "import numpy as np\n",
    "import scipy.linalg as la"
   ]
  },
  {
   "cell_type": "markdown",
   "metadata": {},
   "source": [
    "# 9.6"
   ]
  },
  {
   "cell_type": "code",
   "execution_count": 28,
   "metadata": {
    "collapsed": true
   },
   "outputs": [],
   "source": [
    "def jacobian(f, x, h):\n",
    "    n=len(x)\n",
    "    if np.isscalar(f(x)):\n",
    "        m=1\n",
    "        J=np.zeros(n)\n",
    "        for j in range(n):\n",
    "            e=np.zeros(n)\n",
    "            e[j]=1\n",
    "            J[j]=(f(x+h*e)-f(x-h*e))/(2*h)\n",
    "    else:\n",
    "        m=len(f(x))\n",
    "        J=np.zeros((m,n))\n",
    "        for i in range(m):\n",
    "            for j in range(n):\n",
    "                e=np.zeros(n)\n",
    "                e[j]=1\n",
    "                J[i,j]=(f(x+h*e)[i]-f(x-h*e)[i])/(2*h)\n",
    "    return J"
   ]
  },
  {
   "cell_type": "code",
   "execution_count": 52,
   "metadata": {
    "collapsed": true
   },
   "outputs": [],
   "source": [
    "def steepest(x0,Q,b,c,tol=1e-10, maxiter=100):\n",
    "    f= lambda x: (np.dot(x,np.dot(Q,x)))/2-np.dot(b,x)+c\n",
    "    jacobian=lambda x: np.dot((Q.T+Q),x)/2-b\n",
    "    x=f(x0)+x0\n",
    "    xnew=x0\n",
    "    i=0\n",
    "    while np.linalg.norm((xnew-x))>tol and i<maxiter:\n",
    "        x=xnew\n",
    "        alpha= (np.dot(jacobian(x),jacobian(x)))/(np.dot(jacobian(x),np.dot(Q,jacobian(x))))\n",
    "        xnew=x-alpha*jacobian(x)\n",
    "        i+=1\n",
    "    return x"
   ]
  },
  {
   "cell_type": "markdown",
   "metadata": {},
   "source": [
    "# 9.7"
   ]
  },
  {
   "cell_type": "code",
   "execution_count": 54,
   "metadata": {
    "collapsed": true
   },
   "outputs": [],
   "source": [
    "def Df(f, x, Rerr):\n",
    "    n=len(x)\n",
    "    J=np.zeros(n)\n",
    "    h=2*np.sqrt(Rerr)\n",
    "    for j in range(n):\n",
    "        e=np.zeros(n)\n",
    "        e[j]=1\n",
    "        J[j]=(f(x+h*e)-f(x))/h\n",
    "    return J"
   ]
  }
 ],
 "metadata": {
  "kernelspec": {
   "display_name": "Python 3",
   "language": "python",
   "name": "python3"
  },
  "language_info": {
   "codemirror_mode": {
    "name": "ipython",
    "version": 3
   },
   "file_extension": ".py",
   "mimetype": "text/x-python",
   "name": "python",
   "nbconvert_exporter": "python",
   "pygments_lexer": "ipython3",
   "version": "3.6.1"
  }
 },
 "nbformat": 4,
 "nbformat_minor": 2
}
