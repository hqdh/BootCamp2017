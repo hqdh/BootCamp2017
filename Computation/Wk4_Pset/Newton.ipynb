{
 "cells": [
  {
   "cell_type": "code",
   "execution_count": 330,
   "metadata": {
    "collapsed": true
   },
   "outputs": [],
   "source": [
    "import numpy as np\n",
    "from matplotlib import pyplot as plt\n",
    "from scipy import linalg as la\n",
    "from scipy import optimize as opt\n"
   ]
  },
  {
   "cell_type": "markdown",
   "metadata": {},
   "source": [
    "# Problem 1"
   ]
  },
  {
   "cell_type": "code",
   "execution_count": 60,
   "metadata": {
    "collapsed": true
   },
   "outputs": [],
   "source": [
    "def newtonroot(x0, f,fprime ,tol=1e-16, maxiter=1000):\n",
    "    x=f(x0)+x0\n",
    "    xnew=x0\n",
    "    i=0\n",
    "    while abs(xnew-x)>tol and i<maxiter:\n",
    "        x=xnew\n",
    "        xnew=x-f(x)/fprime(x)\n",
    "        i+=1\n",
    "    return xnew"
   ]
  },
  {
   "cell_type": "code",
   "execution_count": 61,
   "metadata": {},
   "outputs": [
    {
     "data": {
      "text/plain": [
       "(0.0, 0.0)"
      ]
     },
     "execution_count": 61,
     "metadata": {},
     "output_type": "execute_result"
    }
   ],
   "source": [
    "f= lambda x: np.exp(x)-2\n",
    "g= lambda x: x**4-3\n",
    "newtonroot(1,f,lambda x: np.exp(x))-np.log(2), newtonroot(1,g, lambda x: 4*x**3)-3**(1/4)"
   ]
  },
  {
   "cell_type": "markdown",
   "metadata": {},
   "source": [
    "# Problem 2"
   ]
  },
  {
   "cell_type": "code",
   "execution_count": 64,
   "metadata": {
    "collapsed": true
   },
   "outputs": [],
   "source": [
    "def func(N1,N2,P1,P2):\n",
    "    f=lambda r: P1*((1+r)**N1-1)-P2*(1-(1+r)**(-N2))\n",
    "    fprime= lambda r: P1*N1*(1+r)**(N1-1)+P2*N2*(1+r)**(-N2-1)\n",
    "    r=newtonroot(0.1,f,fprime)\n",
    "    return r"
   ]
  },
  {
   "cell_type": "code",
   "execution_count": 65,
   "metadata": {},
   "outputs": [
    {
     "data": {
      "text/plain": [
       "0.038778432029673994"
      ]
     },
     "execution_count": 65,
     "metadata": {},
     "output_type": "execute_result"
    }
   ],
   "source": [
    "func(30,20,2000,8000)"
   ]
  },
  {
   "cell_type": "markdown",
   "metadata": {},
   "source": [
    "# Problem 3"
   ]
  },
  {
   "cell_type": "code",
   "execution_count": 96,
   "metadata": {
    "collapsed": true
   },
   "outputs": [],
   "source": [
    "def backtrack(x0, f,fprime ,alpha=1,tol=1e-16, maxiter=1000):\n",
    "    x=f(x0)+x0\n",
    "    xnew=x0\n",
    "    i=0\n",
    "    while abs((xnew-x))>tol and i<maxiter:\n",
    "        x=xnew\n",
    "        xnew=x-alpha*(f(x)/fprime(x))\n",
    "        i+=1\n",
    "    return xnew, i"
   ]
  },
  {
   "cell_type": "code",
   "execution_count": 102,
   "metadata": {},
   "outputs": [
    {
     "name": "stderr",
     "output_type": "stream",
     "text": [
      "/Users/hqdhftw/anaconda/lib/python3.6/site-packages/ipykernel_launcher.py:7: RuntimeWarning: overflow encountered in double_scalars\n",
      "  import sys\n",
      "/Users/hqdhftw/anaconda/lib/python3.6/site-packages/ipykernel_launcher.py:5: RuntimeWarning: invalid value encountered in double_scalars\n",
      "  \"\"\"\n"
     ]
    },
    {
     "data": {
      "text/plain": [
       "(-inf, 9.9999999999983999e-18)"
      ]
     },
     "execution_count": 102,
     "metadata": {},
     "output_type": "execute_result"
    }
   ],
   "source": [
    "f = lambda x: np.sign(x) * np.power(np.abs(x), 1/3)\n",
    "fprime=lambda x: (1/3)*np.sign(x) * np.power(np.abs(x), -2/3)\n",
    "backtrack(0.01,f,fprime)[0], backtrack(0.01,f,fprime,0.3)[0]\n"
   ]
  },
  {
   "cell_type": "markdown",
   "metadata": {},
   "source": [
    "# Problem 4"
   ]
  },
  {
   "cell_type": "code",
   "execution_count": 103,
   "metadata": {},
   "outputs": [],
   "source": [
    "def backtrack_noalpha(x0, f,fprime,tol=1e-16, maxiter=1000):\n",
    "    alpha=np.linspace(0,1,300)\n",
    "    backtrack_vec=np.vectorize(backtrack)\n",
    "    plt.plot(alpha, backtrack_vec(x0,f,fprime,alpha)[1])\n",
    "    plt.xlabel('alpha')\n",
    "    plt.ylabel('No. of iterations')\n",
    "    return plt.show()"
   ]
  },
  {
   "cell_type": "code",
   "execution_count": 104,
   "metadata": {},
   "outputs": [
    {
     "name": "stderr",
     "output_type": "stream",
     "text": [
      "/Users/hqdhftw/anaconda/lib/python3.6/site-packages/ipykernel_launcher.py:7: RuntimeWarning: overflow encountered in double_scalars\n",
      "  import sys\n",
      "/Users/hqdhftw/anaconda/lib/python3.6/site-packages/ipykernel_launcher.py:5: RuntimeWarning: invalid value encountered in double_scalars\n",
      "  \"\"\"\n"
     ]
    },
    {
     "data": {
      "image/png": "[encoded data removed]",
      "text/plain": [
       "<matplotlib.figure.Figure at 0x10e0e8f28>"
      ]
     },
     "metadata": {},
     "output_type": "display_data"
    }
   ],
   "source": [
    "backtrack_noalpha(0.01,f,fprime)"
   ]
  },
  {
   "cell_type": "markdown",
   "metadata": {},
   "source": [
    "# Problem 5"
   ]
  },
  {
   "cell_type": "code",
   "execution_count": 146,
   "metadata": {
    "collapsed": true
   },
   "outputs": [],
   "source": [
    "def jacobian(f, x, h):\n",
    "    n=len(x)\n",
    "    m=len(f(x))\n",
    "    J=np.zeros((m,n))\n",
    "    for i in range(m):\n",
    "        for j in range(n):\n",
    "            e=np.zeros(n)\n",
    "            e[j]=1\n",
    "            J[i,j]=(f(x+h*e)[i]-f(x-h*e)[i])/(2*h)\n",
    "    return J"
   ]
  },
  {
   "cell_type": "code",
   "execution_count": 210,
   "metadata": {},
   "outputs": [],
   "source": [
    "def newtonroot_multi(x0, f,alpha=1, h=1e-6, tol=1e-16, maxiter=1000):\n",
    "    if np.isscalar(f(x0))==True:\n",
    "        fprime=lambda x: (f(x+h)-f(x-h))/(2*h)\n",
    "        return backtrack(x0,f,fprime, alpha)\n",
    "    else:\n",
    "        n=len(x0)\n",
    "        n=len(f(x0))\n",
    "        x=f(x0)+x0\n",
    "        xnew=x0\n",
    "        i=0\n",
    "        while np.all([np.linalg.norm(xnew-x)>tol, i<maxiter, np.linalg.norm(f(xnew))>tol]):\n",
    "            x=xnew\n",
    "            J=jacobian(f, x,h)\n",
    "            y=la.solve(J,f(x))\n",
    "            xnew=x-alpha*y\n",
    "            i+=1\n",
    "        return xnew"
   ]
  },
  {
   "cell_type": "code",
   "execution_count": 201,
   "metadata": {},
   "outputs": [
    {
     "data": {
      "text/plain": [
       "1.1180572835782651e-08"
      ]
     },
     "execution_count": 201,
     "metadata": {},
     "output_type": "execute_result"
    }
   ],
   "source": [
    "newtonroot_multi(0.01,f,alpha=0.1,h=1e-6)[0]"
   ]
  },
  {
   "cell_type": "markdown",
   "metadata": {},
   "source": [
    "# Problem 6"
   ]
  },
  {
   "cell_type": "code",
   "execution_count": 217,
   "metadata": {
    "collapsed": true
   },
   "outputs": [],
   "source": [
    "def bacteria(X, gamma=5, delta=1):\n",
    "    x=X[0]\n",
    "    y=X[1]\n",
    "    return np.array([gamma*x*y-x*(1+y),-x*y+(delta-y)*(1+y)])"
   ]
  },
  {
   "cell_type": "code",
   "execution_count": 343,
   "metadata": {},
   "outputs": [],
   "source": [
    "def crit(x0):\n",
    "    x,y=x0\n",
    "    tol=1e-16\n",
    "    root1=np.array([0,1])\n",
    "    root2=np.array([0,-1])\n",
    "    root3=np.array([3.75,0.25])\n",
    "    a=min(abs(np.linalg.norm(newtonroot_multi(np.array([x,y]),bacteria,alpha=1,h=1e-6)-root1))-tol,\n",
    "                  abs(np.linalg.norm(newtonroot_multi(np.array([x,y]),bacteria,alpha=1,h=1e-6)-root2))-tol)\n",
    "    b=abs(np.linalg.norm(newtonroot_multi(np.array([x,y]),bacteria,alpha=0.55,h=1e-6)-root3))-tol\n",
    "    return np.sqrt(a**2+b**2)"
   ]
  },
  {
   "cell_type": "code",
   "execution_count": 344,
   "metadata": {},
   "outputs": [
    {
     "data": {
      "text/plain": [
       "      fun: 1.4141712716307481e-16\n",
       " hess_inv: <2x2 LbfgsInvHessProduct with dtype=float64>\n",
       "      jac: array([  4.22890445e-13,   3.82605697e-13])\n",
       "  message: b'CONVERGENCE: REL_REDUCTION_OF_F_<=_FACTR*EPSMCH'\n",
       "     nfev: 48\n",
       "      nit: 1\n",
       "   status: 0\n",
       "  success: True\n",
       "        x: array([-0.007 ,  0.2488])"
      ]
     },
     "execution_count": 344,
     "metadata": {},
     "output_type": "execute_result"
    }
   ],
   "source": [
    "opt.minimize(crit,np.array([-0.007,0.2488]), method='L-BFGS-B', tol=1e-16)"
   ]
  },
  {
   "cell_type": "markdown",
   "metadata": {},
   "source": [
    "# Problem 7"
   ]
  },
  {
   "cell_type": "code",
   "execution_count": 371,
   "metadata": {
    "collapsed": true
   },
   "outputs": [],
   "source": [
    "def newton_complex(f, roots, Df, rmin,rmax,imin,imax,res, iters):\n",
    "    x_real=np.linspace(rmin,rmax,res)\n",
    "    x_imag=np.linspace(imin,imax,res)\n",
    "    X_real,X_imag=np.meshgrid(x_real,x_imag)\n",
    "    X_0=X_real+1j*X_imag\n",
    "    i=0\n",
    "    while i<iters:\n",
    "        X_1=X_0-f(X_0)/Df(X_0)\n",
    "        X_0=X_1\n",
    "        i+=1\n",
    "    Y=np.zeros((res,res))\n",
    "    for i in range(res):\n",
    "        for j in range(res):\n",
    "            K=abs(roots-X_0[i,j])\n",
    "            Y[i,j]=float(np.where(K==K.min())[0])\n",
    "    return X_real,X_imag, Y"
   ]
  },
  {
   "cell_type": "code",
   "execution_count": 376,
   "metadata": {},
   "outputs": [],
   "source": [
    "f = lambda x: x**3-1\n",
    "Df=lambda x: 3*x**2\n",
    "rootsf=np.array([1,(-1/2)+1j*(-3/2),(-1/2)+1j*(3/2)])"
   ]
  },
  {
   "cell_type": "code",
   "execution_count": 377,
   "metadata": {},
   "outputs": [
    {
     "data": {
      "image/png": "[encoded data removed]",
      "text/plain": [
       "<matplotlib.figure.Figure at 0x11046e390>"
      ]
     },
     "metadata": {},
     "output_type": "display_data"
    }
   ],
   "source": [
    "X_real,X_imag,Y=newton_complex(f, rootsf, Df, -1.5,1.5,-1.5,1.5,200,50)\n",
    "plt.pcolormesh(X_real,X_imag,Y, cmap='brg')\n",
    "plt.show()"
   ]
  },
  {
   "cell_type": "code",
   "execution_count": 380,
   "metadata": {
    "collapsed": true
   },
   "outputs": [],
   "source": [
    "g=lambda x: x**3-x\n",
    "Dg=lambda x:3*x**2-1\n",
    "rootsg=np.array([-1,0,1])"
   ]
  },
  {
   "cell_type": "code",
   "execution_count": 381,
   "metadata": {},
   "outputs": [
    {
     "data": {
      "image/png": "[encoded data removed]",
      "text/plain": [
       "<matplotlib.figure.Figure at 0x11040fc50>"
      ]
     },
     "metadata": {},
     "output_type": "display_data"
    }
   ],
   "source": [
    "X,Y,Z=newton_complex(g,rootsg,Dg,-1.5,1.5,-1.5,1.5,200,50)\n",
    "plt.pcolormesh(X,Y,Z,cmap='brg')\n",
    "plt.show()"
   ]
  },
  {
   "cell_type": "code",
   "execution_count": null,
   "metadata": {
    "collapsed": true
   },
   "outputs": [],
   "source": []
  }
 ],
 "metadata": {
  "kernelspec": {
   "display_name": "Python 3",
   "language": "python",
   "name": "python3"
  },
  "language_info": {
   "codemirror_mode": {
    "name": "ipython",
    "version": 3
   },
   "file_extension": ".py",
   "mimetype": "text/x-python",
   "name": "python",
   "nbconvert_exporter": "python",
   "pygments_lexer": "ipython3",
   "version": "3.6.1"
  }
 },
 "nbformat": 4,
 "nbformat_minor": 2
}
