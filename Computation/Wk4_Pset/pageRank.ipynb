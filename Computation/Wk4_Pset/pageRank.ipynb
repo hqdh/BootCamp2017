{
 "cells": [
  {
   "cell_type": "code",
   "execution_count": 1,
   "metadata": {
    "collapsed": true
   },
   "outputs": [],
   "source": [
    "import numpy as np\n",
    "from scipy import linalg as la\n",
    "from scipy.sparse import csr_matrix\n",
    "import pandas as pd"
   ]
  },
  {
   "cell_type": "markdown",
   "metadata": {},
   "source": [
    "# Problem 1"
   ]
  },
  {
   "cell_type": "code",
   "execution_count": 2,
   "metadata": {
    "collapsed": true
   },
   "outputs": [],
   "source": [
    "def adjmatrix(filename,N):\n",
    "    A=np.zeros((N,N))\n",
    "    with open(filename, 'r') as file:\n",
    "        for line in file:\n",
    "            try:\n",
    "                line=list(map(int,line.strip().split()))\n",
    "                A[line[0],line[1]]=1\n",
    "            except ValueError:\n",
    "                print('OK.')\n",
    "    A=csr_matrix(A)\n",
    "    return A"
   ]
  },
  {
   "cell_type": "markdown",
   "metadata": {},
   "source": [
    "# Problem 2"
   ]
  },
  {
   "cell_type": "code",
   "execution_count": 29,
   "metadata": {
    "collapsed": true
   },
   "outputs": [],
   "source": [
    "def K(A):\n",
    "    N=len(A[0:])\n",
    "    D=np.ones(N)\n",
    "    for i in range(N):\n",
    "        if sum(A[i,:])==0:\n",
    "            A[i,:]=np.ones(N)\n",
    "        D[i]=sum(A[i,:])\n",
    "    D=np.diag(1/D)\n",
    "    return np.dot(D,A).T"
   ]
  },
  {
   "cell_type": "markdown",
   "metadata": {},
   "source": [
    "# Problem 3"
   ]
  },
  {
   "cell_type": "code",
   "execution_count": 30,
   "metadata": {},
   "outputs": [],
   "source": [
    "def page_rank_iter(A,N=None,d=0.85,tol=1e-5):\n",
    "    if N!= None:\n",
    "        A=A[:N,:N]\n",
    "    if N==None:\n",
    "        n=len(A[0,:])\n",
    "        p=np.ones(n)\n",
    "        pnew=np.zeros(n)\n",
    "        while np.linalg.norm(pnew-p)>tol:\n",
    "            p=pnew\n",
    "            pnew=d*np.dot(K(A),p)+((1-d)/n)*np.ones(n)\n",
    "    return p"
   ]
  },
  {
   "cell_type": "code",
   "execution_count": 54,
   "metadata": {},
   "outputs": [
    {
     "name": "stdout",
     "output_type": "stream",
     "text": [
      "OK.\n"
     ]
    },
    {
     "data": {
      "text/plain": [
       "array([ 0.43865334,  0.02171029,  0.02786154,  0.02171029,  0.02171029,\n",
       "        0.02786154,  0.04585394,  0.39455819])"
      ]
     },
     "execution_count": 54,
     "metadata": {},
     "output_type": "execute_result"
    }
   ],
   "source": [
    "A=csr_matrix.toarray(adjmatrix('matrix.txt',8))\n",
    "page_rank_iter(A)\n"
   ]
  },
  {
   "cell_type": "markdown",
   "metadata": {
    "collapsed": true
   },
   "source": [
    "# Problem 4"
   ]
  },
  {
   "cell_type": "code",
   "execution_count": 52,
   "metadata": {
    "collapsed": true
   },
   "outputs": [],
   "source": [
    "def page_rank_eig(A,N=None,d=0.85,tol=1e-5):\n",
    "    if N!= None:\n",
    "        A=A[:N,:N]\n",
    "    if N==None:\n",
    "        n=len(A[0,:])\n",
    "        E=np.ones((n,n))\n",
    "        B=(d*K(A)+((1-d)/n)*E)\n",
    "        p=la.eig(B)[1][:,0]\n",
    "    return (la.eig(B)[1][:,0])/sum(p)"
   ]
  },
  {
   "cell_type": "code",
   "execution_count": 53,
   "metadata": {},
   "outputs": [
    {
     "data": {
      "text/plain": [
       "array([ 0.43869288,  0.02171029,  0.02786154,  0.02171029,  0.02171029,\n",
       "        0.02786154,  0.04585394,  0.39459924])"
      ]
     },
     "execution_count": 53,
     "metadata": {},
     "output_type": "execute_result"
    }
   ],
   "source": [
    "page_rank_eig(A)"
   ]
  },
  {
   "cell_type": "markdown",
   "metadata": {},
   "source": [
    "# Problem 5"
   ]
  },
  {
   "cell_type": "code",
   "execution_count": 142,
   "metadata": {},
   "outputs": [
    {
     "data": {
      "text/plain": [
       "array(['Duke', 'Butler', 'Louisville', 'Illinois', 'Indiana', 'Miami FL',\n",
       "       'Syracuse', 'Ohio St', 'Michigan St', 'Kansas', 'Minnesota',\n",
       "       'Michigan', 'Georgetown', 'Wisconsin', 'St Louis', 'New Mexico',\n",
       "       'Virginia', 'Marquette', 'Notre Dame', 'NC State',\n",
       "       'VA Commonwealth', 'Oklahoma St', 'Florida', 'Villanova', 'Temple',\n",
       "       'Arizona', 'UNLV', 'Missouri', 'Cincinnati', 'Pittsburgh', 'Xavier',\n",
       "       'UCLA', 'Connecticut', 'Colorado', 'Gonzaga', 'Creighton', 'Oregon',\n",
       "       'San Diego St', 'Oklahoma', 'California', 'Wichita St', 'Maryland',\n",
       "       'La Salle', 'Tennessee', 'Colorado St', 'North Carolina',\n",
       "       'Kentucky', 'Indiana St', 'Mississippi', 'Boise St', 'Charlotte',\n",
       "       'Iowa St', 'Baylor', 'Kansas St', 'Arkansas', 'Texas A&M', 'Iowa',\n",
       "       'Georgia Tech', 'Air Force', 'Massachusetts', 'Florida St',\n",
       "       'Memphis', 'Washington', 'Arizona St', 'USC', 'Wake Forest', 'Utah',\n",
       "       'Alabama', \"St John's\", 'Northern Iowa', \"St Mary's CA\", 'Purdue',\n",
       "       'Stanford', 'Providence', 'Richmond', 'Belmont', 'Illinois St',\n",
       "       'Bucknell', 'Akron', 'Dayton', \"St Joseph's PA\", 'LSU', 'Nebraska',\n",
       "       'Evansville', 'Boston College', 'BYU', 'Murray St', 'South Florida',\n",
       "       'Northwestern', 'S Dakota St', 'Middle Tenn St', 'Texas',\n",
       "       'New Mexico St', 'Southern Miss', 'UTEP', 'Virginia Tech',\n",
       "       'Wyoming', 'Louisiana Tech', 'Penn St', 'Valparaiso', 'Pacific',\n",
       "       'Rutgers', 'Detroit', 'UCF', 'FL Gulf Coast', 'Drake',\n",
       "       'Santa Clara', 'TCU', 'Canisius', 'St Bonaventure', 'Oregon St',\n",
       "       'S Illinois', 'Denver', 'IL Chicago', 'Iona', 'Vanderbilt',\n",
       "       'Georgia', 'Loyola MD', 'Northeastern', 'Utah St', 'Robert Morris',\n",
       "       'Albany NY', 'Seton Hall', 'Col Charleston', 'Nevada', 'Kent',\n",
       "       'Vermont', 'Bryant', 'Niagara', 'Ohio', 'Bradley', 'South Carolina',\n",
       "       'Fresno St', 'WI Green Bay', 'E Kentucky', 'Stony Brook',\n",
       "       'Princeton', 'SF Austin', 'G Washington', 'Tennessee St',\n",
       "       'Quinnipiac', 'Davidson', 'George Mason', 'Washington St', 'Lehigh',\n",
       "       'UC Irvine', 'Florida Intl', 'Clemson', 'Northwestern LA',\n",
       "       'Arkansas St', 'Cal Poly SLO', 'Harvard', 'Rider', 'N Dakota St',\n",
       "       'Rhode Island', 'Lafayette', 'Oakland', 'Mercer', 'Tulane',\n",
       "       \"Mt St Mary's\", 'Delaware', 'East Carolina', 'W Michigan', 'Tulsa',\n",
       "       'Long Island', 'Maine', 'San Francisco', 'Houston', 'Wagner',\n",
       "       'Fairfield', 'Hartford', 'Central Conn', 'Marshall', 'Auburn',\n",
       "       'UAB', 'Wright St', 'Weber St', 'Morehead St', 'Towson',\n",
       "       'UT Arlington', 'James Madison', 'Buffalo', 'West Virginia',\n",
       "       'Youngstown St', 'Ark Little Rock', 'SMU', 'W Illinois',\n",
       "       'Georgia St', 'Loyola-Chicago', 'Duquesne', 'Gardner Webb',\n",
       "       'Long Beach St', 'Missouri St', 'NC A&T', 'DePaul', 'Manhattan',\n",
       "       'Jacksonville St', 'Ga Southern', 'Santa Barbara', 'CS Northridge',\n",
       "       'Drexel', 'W Kentucky', 'Columbia', 'Savannah St', 'Bowling Green',\n",
       "       'Cleveland St', 'Boston Univ', 'Marist', 'Hawaii', 'Oral Roberts',\n",
       "       'Mississippi St', 'South Alabama', 'Montana', 'Winthrop', 'Brown',\n",
       "       'St Francis NY', 'Coastal Car', 'San Diego', 'Wofford',\n",
       "       'Texas Tech', 'UNC Asheville', 'FL Atlantic', 'UC Davis', 'Yale',\n",
       "       'Troy', 'Toledo', 'Elon', 'Sacred Heart', 'SE Louisiana',\n",
       "       'UT San Antonio', 'Norfolk St', 'McNeese St', 'NC Central',\n",
       "       'CS Fullerton', 'C Michigan', 'E Michigan', 'Ball St',\n",
       "       'CS Sacramento', 'Morgan St', 'SE Missouri St', 'North Texas',\n",
       "       'Tennessee Tech', 'Cornell', 'San Jose St', 'Southern Univ',\n",
       "       'Jacksonville', 'Holy Cross', \"St Peter's\", 'Loy Marymount', 'ULL',\n",
       "       'Delaware St', 'Army', 'Old Dominion', 'Montana St',\n",
       "       'Charleston So', 'Colgate', 'UNC Wilmington', 'Hampton', 'Idaho',\n",
       "       'South Dakota', 'Stetson', 'Lipscomb', 'ETSU', 'E Illinois',\n",
       "       'CS Bakersfield', 'Samford', 'Pepperdine', 'Sam Houston St',\n",
       "       'WI Milwaukee', 'Edwardsville', 'Texas St', 'High Point',\n",
       "       'SC Upstate', 'William & Mary', 'IPFW', 'American Univ',\n",
       "       'N Kentucky', 'Campbell', 'Penn', 'Liberty', 'Portland',\n",
       "       'Bethune-Cookman', 'Monmouth NJ', 'Northern Arizona',\n",
       "       'TX Pan American', 'Miami OH', 'Appalachian St', 'Hofstra',\n",
       "       'W Carolina', 'Fordham', 'TN Martin', 'Chattanooga',\n",
       "       'North Florida', 'North Dakota', 'TX Southern', 'NJIT', 'Siena',\n",
       "       'Nicholls St', 'Utah Valley', 'Radford', 'Navy', 'Cent Arkansas',\n",
       "       'E Washington', 'Southern Utah', 'Ark Pine Bluff', 'Seattle',\n",
       "       'F Dickinson', 'Dartmouth', 'N Colorado', 'VMI', 'Prairie View',\n",
       "       'MD Baltimore Co', 'Alcorn St', 'Houston Bap', 'New Hampshire',\n",
       "       'NE Omaha', 'Jackson St', 'Coppin St', 'Austin Peay', 'Missouri KC',\n",
       "       'Longwood', 'St Francis PA', 'UC Riverside', 'Portland St',\n",
       "       'Alabama A&M', 'Idaho St', 'TAM C. Christi', 'N Illinois',\n",
       "       'Chicago St', 'Presbyterian', 'Citadel', 'IUPUI', 'S Carolina St',\n",
       "       'Alabama St', 'Rice', 'Furman', 'New Orleans', 'UNC Greensboro',\n",
       "       'Kennesaw', 'ULM', 'Howard', 'Lamar', 'Florida A&M', 'MS Valley St',\n",
       "       'Binghamton', 'MD E Shore', 'Grambling'], \n",
       "      dtype='<U16')"
      ]
     },
     "execution_count": 142,
     "metadata": {},
     "output_type": "execute_result"
    }
   ],
   "source": [
    "with open('ncaa2013.csv','r') as ncaafile:\n",
    "    ncaafile.readline()\n",
    "    totalteams=[]\n",
    "    for line in ncaafile:\n",
    "        teams=line.strip().split(',')\n",
    "        totalteams+=teams\n",
    "totalteams=sorted(list(set(totalteams)))\n",
    "n=len(totalteams)\n",
    "teamlist= {'Teams': totalteams, 'No.': list(range(len(totalteams)))}\n",
    "A=np.zeros((n,n))\n",
    "with open('ncaa2013.csv','r') as ncaafile:\n",
    "    ncaafile.readline()    \n",
    "    for line in ncaafile:\n",
    "        teams=line.strip().split(',')\n",
    "        i=totalteams.index(teams[0])\n",
    "        j=totalteams.index(teams[1])\n",
    "        A[j,i]=1\n",
    "rank=page_rank_steady(A,d=0.7).argsort()\n",
    "np.array(totalteams)[rank][::-1]\n"
   ]
  }
 ],
 "metadata": {
  "kernelspec": {
   "display_name": "Python 3",
   "language": "python",
   "name": "python3"
  },
  "language_info": {
   "codemirror_mode": {
    "name": "ipython",
    "version": 3
   },
   "file_extension": ".py",
   "mimetype": "text/x-python",
   "name": "python",
   "nbconvert_exporter": "python",
   "pygments_lexer": "ipython3",
   "version": "3.6.1"
  }
 },
 "nbformat": 4,
 "nbformat_minor": 2
}
