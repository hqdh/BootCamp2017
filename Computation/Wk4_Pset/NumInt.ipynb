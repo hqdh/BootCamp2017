{
 "cells": [
  {
   "cell_type": "code",
   "execution_count": 106,
   "metadata": {
    "collapsed": true
   },
   "outputs": [],
   "source": [
    "import numpy as np\n",
    "import sympy as sy\n",
    "from matplotlib import pyplot as plt\n",
    "import scipy.stats as stats\n",
    "import scipy.integrate as integrate\n",
    "import scipy.optimize as opt\n",
    "import math"
   ]
  },
  {
   "cell_type": "markdown",
   "metadata": {},
   "source": [
    "# 14.1"
   ]
  },
  {
   "cell_type": "code",
   "execution_count": 30,
   "metadata": {},
   "outputs": [],
   "source": [
    "def midpoint(f, a, b, N):\n",
    "    x=np.zeros(N)\n",
    "    g=np.vectorize(f)\n",
    "    for i in range(N):\n",
    "        x[i]=a+(2*i+1)*(b-a)/(2*N)\n",
    "    return ((b-a)/N)*g(x).sum()\n",
    "def trapezoid(f,a,b,N):\n",
    "    x=np.zeros(N+1)\n",
    "    g=np.vectorize(f)\n",
    "    for i in range(N+1):\n",
    "        x[i]=a+(b-a)*i/N\n",
    "    return ((b-a)/(2*N))*(2*g(x).sum()-g(x[0])-g(x[N]))\n",
    "def Simpsons(f,a,b,N):\n",
    "    xodd=np.zeros(N)\n",
    "    xeven=np.zeros(N)\n",
    "    g=np.vectorize(f)\n",
    "    for i in range(N):\n",
    "        xodd[i]=a+(2*i+1)*(b-a)/(2*N)\n",
    "        xeven[i]=a+(2*i)*(b-a)/(2*N)\n",
    "    return ((b-a)/(6*(N+1))*(4*(g(xodd).sum())+2*(g(xeven).sum())-f(a)+f(b)))"
   ]
  },
  {
   "cell_type": "code",
   "execution_count": 34,
   "metadata": {},
   "outputs": [],
   "source": [
    "def newton_cotes(f,a,b,N,method):\n",
    "    if method=='midpoint':\n",
    "        return midpoint(f,a,b,N)\n",
    "    if method=='trapezoid':\n",
    "        return trapezoid(f,a,b,N)\n",
    "    if method=='Simpsons':\n",
    "        return Simpsons(f,a,b,N)"
   ]
  },
  {
   "cell_type": "code",
   "execution_count": 52,
   "metadata": {},
   "outputs": [
    {
     "data": {
      "text/plain": [
       "(4364.6041251257484, 4373.4428264959997, 4373.2785868159999)"
      ]
     },
     "execution_count": 52,
     "metadata": {},
     "output_type": "execute_result"
    }
   ],
   "source": [
    "f =lambda x: 0.1*x**4-1.5*x**3+0.53*x**2+2*x+1\n",
    "newton_cotes(f,-10,10,500,'Simpsons'), newton_cotes(f,-10,10,500,'trapezoid'),newton_cotes(f,-10,10,500,'midpoint')"
   ]
  },
  {
   "cell_type": "markdown",
   "metadata": {},
   "source": [
    "# 14.2"
   ]
  },
  {
   "cell_type": "code",
   "execution_count": 40,
   "metadata": {
    "collapsed": true
   },
   "outputs": [],
   "source": [
    "def normdisc(mu,sigma,N,k):\n",
    "    a=mu-sigma*k\n",
    "    b=mu+sigma*k\n",
    "    Z=np.zeros(N)\n",
    "    for i in range(N):\n",
    "        Z[i]=a+i*(b-a)/(N-1)\n",
    "    w=np.zeros(N)\n",
    "    w[0]=stats.norm.cdf((Z[0]+Z[1])/2, loc=mu, scale=sigma)\n",
    "    w[N-1]=1-stats.norm.cdf((Z[-1]+Z[-2])/2, loc=mu, scale=sigma)\n",
    "    for i in range(1,N-1):\n",
    "        w[i]=stats.norm.cdf((Z[i+1]+Z[i])/2,loc=mu, scale=sigma)-stats.norm.cdf((Z[i]+Z[i-1])/2,loc=mu,scale=sigma)\n",
    "    return Z,w"
   ]
  },
  {
   "cell_type": "code",
   "execution_count": 41,
   "metadata": {},
   "outputs": [
    {
     "data": {
      "text/plain": [
       "(array([-3. , -2.4, -1.8, -1.2, -0.6,  0. ,  0.6,  1.2,  1.8,  2.4,  3. ]),\n",
       " array([ 0.00346697,  0.01439745,  0.04894278,  0.11725292,  0.19802845,\n",
       "         0.23582284,  0.19802845,  0.11725292,  0.04894278,  0.01439745,\n",
       "         0.00346697]))"
      ]
     },
     "execution_count": 41,
     "metadata": {},
     "output_type": "execute_result"
    }
   ],
   "source": [
    "normdisc(0,1,11,3)"
   ]
  },
  {
   "cell_type": "markdown",
   "metadata": {},
   "source": [
    "# 14.3"
   ]
  },
  {
   "cell_type": "code",
   "execution_count": 42,
   "metadata": {
    "collapsed": true
   },
   "outputs": [],
   "source": [
    "def lnormdisc(mu,sigma,N,k):\n",
    "    Z,w=normdisc(mu,sigma,N,k)\n",
    "    A=np.exp(Z)\n",
    "    return A,w"
   ]
  },
  {
   "cell_type": "code",
   "execution_count": 43,
   "metadata": {},
   "outputs": [
    {
     "data": {
      "text/plain": [
       "(array([  0.04978707,   0.09071795,   0.16529889,   0.30119421,\n",
       "          0.54881164,   1.        ,   1.8221188 ,   3.32011692,\n",
       "          6.04964746,  11.02317638,  20.08553692]),\n",
       " array([ 0.00346697,  0.01439745,  0.04894278,  0.11725292,  0.19802845,\n",
       "         0.23582284,  0.19802845,  0.11725292,  0.04894278,  0.01439745,\n",
       "         0.00346697]))"
      ]
     },
     "execution_count": 43,
     "metadata": {},
     "output_type": "execute_result"
    }
   ],
   "source": [
    "lnormdisc(0,1,11,3)"
   ]
  },
  {
   "cell_type": "markdown",
   "metadata": {},
   "source": [
    "# 14.4"
   ]
  },
  {
   "cell_type": "code",
   "execution_count": 49,
   "metadata": {},
   "outputs": [
    {
     "name": "stdout",
     "output_type": "stream",
     "text": [
      "Expected value of the discrete version= 50066.5544856 \n",
      "Expected value of the continuous version= 50011.0870085\n"
     ]
    }
   ],
   "source": [
    "muinc=10.5\n",
    "stdinc=0.8\n",
    "Y,wY=lnormdisc(muinc,stdinc,50,5)\n",
    "#Compare the two expected values:\n",
    "print('Expected value of the discrete version=',np.dot(Y,wY),'\\nExpected value of the continuous version=',\n",
    "      np.exp(muinc+(stdinc**2)/2))"
   ]
  },
  {
   "cell_type": "markdown",
   "metadata": {},
   "source": [
    "# 14.5"
   ]
  },
  {
   "cell_type": "code",
   "execution_count": 59,
   "metadata": {
    "collapsed": true
   },
   "outputs": [],
   "source": [
    "def crit(params):\n",
    "    w1,w2,w3,x1,x2,x3=params\n",
    "    w=np.array([w1,w2,w3])\n",
    "    x=np.array([x1,x2,x3])\n",
    "    error1=abs(w1+w2+w3-20)\n",
    "    error2=abs(np.dot(w,x))\n",
    "    error3=abs(np.dot(w,x**2)-2*((10**3)/3))\n",
    "    error4=abs(np.dot(w,x**3))\n",
    "    error5=abs(np.dot(w,x**4)-2*((10**5)/5))\n",
    "    return error1+error2+error3+error4+error5"
   ]
  },
  {
   "cell_type": "code",
   "execution_count": 66,
   "metadata": {},
   "outputs": [
    {
     "data": {
      "text/plain": [
       "4217.0002391649314"
      ]
     },
     "execution_count": 66,
     "metadata": {},
     "output_type": "execute_result"
    }
   ],
   "source": [
    "params_init=np.array([1,1,1,-10,0,10])\n",
    "W=opt.minimize(crit,params_init, bounds=((1e-10,None),(1e-10,None),(1e-10,None),\n",
    "                                      (-10,10),(-10,10),(-10,10))).x\n",
    "w=W[:3]\n",
    "x=W[3:]\n",
    "g=np.vectorize(f)\n",
    "np.dot(w,g(x))"
   ]
  },
  {
   "cell_type": "markdown",
   "metadata": {},
   "source": [
    "Not quite there"
   ]
  },
  {
   "cell_type": "markdown",
   "metadata": {},
   "source": [
    "# 14.6"
   ]
  },
  {
   "cell_type": "code",
   "execution_count": 55,
   "metadata": {},
   "outputs": [
    {
     "data": {
      "text/plain": [
       "(4373.333333333334, 8.109531705284936e-11)"
      ]
     },
     "execution_count": 55,
     "metadata": {},
     "output_type": "execute_result"
    }
   ],
   "source": [
    "integrate.quad(f,-10,10)"
   ]
  },
  {
   "cell_type": "markdown",
   "metadata": {},
   "source": [
    "Very close to the exact value"
   ]
  },
  {
   "cell_type": "markdown",
   "metadata": {},
   "source": [
    "# 14.7"
   ]
  },
  {
   "cell_type": "code",
   "execution_count": 86,
   "metadata": {
    "collapsed": true
   },
   "outputs": [],
   "source": [
    "def montecarlo(g, Omega, N):\n",
    "    V=1\n",
    "    for i in range(len(Omega[:,0])):\n",
    "        dim=Omega[i,1]-Omega[i,0]\n",
    "        V*=dim\n",
    "    X=np.zeros((N,len(Omega[:,0])))\n",
    "    for j in range(len(Omega[:,0])):\n",
    "        X[:,j]=(Omega[j,1]-Omega[j,0])*np.random.random(N)+Omega[j,0]\n",
    "    G=np.zeros(N)\n",
    "    for l in range(N):\n",
    "        G[l]=g(X[l,:])\n",
    "    return (V/N)*G.sum()\n",
    "    "
   ]
  },
  {
   "cell_type": "code",
   "execution_count": 130,
   "metadata": {},
   "outputs": [],
   "source": [
    "def g(X):\n",
    "    if (X[0]**2+X[1]**2)<=1:\n",
    "        return 1\n",
    "    else:\n",
    "        return 0\n",
    "Omega=np.array([[-1,1],[-1,1]])"
   ]
  },
  {
   "cell_type": "code",
   "execution_count": 132,
   "metadata": {},
   "outputs": [
    {
     "data": {
      "text/plain": [
       "array([1, 1])"
      ]
     },
     "execution_count": 132,
     "metadata": {},
     "output_type": "execute_result"
    }
   ],
   "source": [
    "def mindraw():\n",
    "    N=100\n",
    "    while abs(montecarlo(g,Omega,N)-np.pi)>1e-4:\n",
    "        N+=1\n",
    "    return N\n"
   ]
  },
  {
   "cell_type": "code",
   "execution_count": 103,
   "metadata": {},
   "outputs": [
    {
     "data": {
      "text/plain": [
       "1533"
      ]
     },
     "execution_count": 103,
     "metadata": {},
     "output_type": "execute_result"
    }
   ],
   "source": [
    "mindraw()"
   ]
  },
  {
   "cell_type": "markdown",
   "metadata": {},
   "source": [
    "# 14.8 "
   ]
  },
  {
   "cell_type": "code",
   "execution_count": 160,
   "metadata": {},
   "outputs": [
    {
     "data": {
      "image/png": "[encoded data removed]",
      "text/plain": [
       "<matplotlib.figure.Figure at 0x110ba1c18>"
      ]
     },
     "metadata": {},
     "output_type": "display_data"
    },
    {
     "data": {
      "text/plain": [
       "(array([[ 0.7781122 ,  0.1671683 ,  0.5562244 ,  0.94528049,  0.33433659,\n",
       "          0.72339269,  0.11244879,  0.50150489,  0.89056099,  0.27961709,\n",
       "          0.66867319,  0.05772929,  0.44678539,  0.83584148,  0.22489758,\n",
       "          0.61395368,  0.00300978,  0.39206588,  0.78112198,  0.17017808],\n",
       "        [ 0.17107385,  0.25661077,  0.34214769,  0.42768462,  0.51322154,\n",
       "          0.59875846,  0.68429539,  0.76983231,  0.85536923,  0.94090616,\n",
       "          0.02644308,  0.11198   ,  0.19751692,  0.28305385,  0.36859077,\n",
       "          0.45412769,  0.53966462,  0.62520154,  0.71073846,  0.79627539]]),\n",
       " array([ 0.78112198,  0.71073846]))"
      ]
     },
     "execution_count": 160,
     "metadata": {},
     "output_type": "execute_result"
    }
   ],
   "source": [
    "def Niederreiter(n, s):\n",
    "    seq = np.zeros((s, n))\n",
    "    for i in range(1, n + 1):\n",
    "        for j in range(1, s + 1):\n",
    "            seq[j - 1, i - 1] = ((i) * 2. ** ((j) / (j + 1.)) -\n",
    "                                 math.floor((i) * 2. **\n",
    "                                 ((j) / (j + 1.))))\n",
    "    return seq\n",
    "def Baker(n, s):\n",
    "    seq = np.zeros((s,n))\n",
    "    for i in range(1, n+1):\n",
    "        for j in range(1, s+1):\n",
    "            seq[j-1, i-1] = ((i+1)*np.exp(j + 1)) - math.floor((i + 1) *\n",
    "                    np.exp(j + 1))\n",
    "    return seq\n",
    "x,y=2*Baker(1000,2)-1\n",
    "plt.scatter(x,y)\n",
    "plt.show()\n",
    "Baker(20,2), getelement(19,2,Baker)"
   ]
  },
  {
   "cell_type": "code",
   "execution_count": 144,
   "metadata": {},
   "outputs": [],
   "source": [
    "def getelement(n,s,seq):\n",
    "    return seq(n,s)[:,-1]"
   ]
  },
  {
   "cell_type": "markdown",
   "metadata": {},
   "source": [
    "# 14.9"
   ]
  },
  {
   "cell_type": "code",
   "execution_count": 165,
   "metadata": {
    "collapsed": true
   },
   "outputs": [],
   "source": [
    "def quasimontecarlo(g, Omega, N,seq):\n",
    "    V=1\n",
    "    s=len(Omega[:,0])\n",
    "    for i in range(s):\n",
    "        dim=Omega[i,1]-Omega[i,0]\n",
    "        V*=dim\n",
    "    X=np.zeros((N,s))\n",
    "    for j in range(1,N+1):\n",
    "        X[j-1,:]=((Omega[:,1]-Omega[:,0]))*getelement(j,s,seq)+Omega[:,0]\n",
    "    G=np.zeros(N)\n",
    "    for l in range(N):\n",
    "        G[l]=g(X[l,:])\n",
    "    return (V/N)*G.sum()"
   ]
  },
  {
   "cell_type": "code",
   "execution_count": 166,
   "metadata": {},
   "outputs": [
    {
     "data": {
      "text/plain": [
       "3.1440000000000001"
      ]
     },
     "execution_count": 166,
     "metadata": {},
     "output_type": "execute_result"
    }
   ],
   "source": [
    "quasimontecarlo(g,Omega,1000,Baker)"
   ]
  }
 ],
 "metadata": {
  "kernelspec": {
   "display_name": "Python 3",
   "language": "python",
   "name": "python3"
  },
  "language_info": {
   "codemirror_mode": {
    "name": "ipython",
    "version": 3
   },
   "file_extension": ".py",
   "mimetype": "text/x-python",
   "name": "python",
   "nbconvert_exporter": "python",
   "pygments_lexer": "ipython3",
   "version": "3.6.1"
  }
 },
 "nbformat": 4,
 "nbformat_minor": 2
}
