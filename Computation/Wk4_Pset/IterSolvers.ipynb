{
 "cells": [
  {
   "cell_type": "code",
   "execution_count": 58,
   "metadata": {
    "collapsed": true
   },
   "outputs": [],
   "source": [
    "import numpy as np\n",
    "import scipy.linalg as la\n",
    "from matplotlib import pyplot as plt\n",
    "from scipy import sparse"
   ]
  },
  {
   "cell_type": "markdown",
   "metadata": {},
   "source": [
    "# Problem 1"
   ]
  },
  {
   "cell_type": "code",
   "execution_count": 2,
   "metadata": {
    "collapsed": true
   },
   "outputs": [],
   "source": [
    "def diag_dom(n, num_entries=None):\n",
    "    \"\"\"Generate a strictly diagonally dominant (n, n) matrix.\n",
    "    Parameters:\n",
    "        n (int): The dimension of the system.\n",
    "        num_entries (int): The number of nonzero values.\n",
    "            Defaults to n^(3/2)-n.\n",
    "    Returns:\n",
    "        A ((n,n) ndarray): A (n, n) strictly diagonally dominant matrix.\n",
    "    \"\"\"\n",
    "    if num_entries is None:\n",
    "        num_entries = int(n**1.5) - n\n",
    "    A = np.zeros((n,n))\n",
    "    rows = np.random.choice(np.arange(0,n), size=num_entries)\n",
    "    cols = np.random.choice(np.arange(0,n), size=num_entries)\n",
    "    data = np.random.randint(-4, 4, size=num_entries)\n",
    "    for i in range(num_entries):\n",
    "        A[rows[i], cols[i]] = data[i]\n",
    "    for i in range(n):\n",
    "        A[i,i] = np.sum(np.abs(A[i])) + 1\n",
    "    return A"
   ]
  },
  {
   "cell_type": "code",
   "execution_count": 28,
   "metadata": {
    "collapsed": true
   },
   "outputs": [],
   "source": [
    "def jacobi(A,b,tol,maxiters):\n",
    "    Dinv=np.diag(1/np.diag(A))\n",
    "    x=np.zeros(len(b))\n",
    "    xnew=np.ones(len(b))\n",
    "    i=0\n",
    "    while la.norm(xnew-x,np.inf)>tol and i<maxiters:\n",
    "        x=xnew\n",
    "        xnew=x+np.dot(Dinv,b-np.dot(A,x))\n",
    "        i+=1\n",
    "    return xnew"
   ]
  },
  {
   "cell_type": "code",
   "execution_count": 59,
   "metadata": {},
   "outputs": [],
   "source": [
    "Atest=diag_dom(100)\n",
    "btest=np.random.random(100)"
   ]
  },
  {
   "cell_type": "code",
   "execution_count": 60,
   "metadata": {},
   "outputs": [
    {
     "data": {
      "text/plain": [
       "True"
      ]
     },
     "execution_count": 60,
     "metadata": {},
     "output_type": "execute_result"
    }
   ],
   "source": [
    "x=jacobi(Atest,btest,1e-10,2000)\n",
    "np.allclose(btest,np.dot(Atest,x))"
   ]
  },
  {
   "cell_type": "markdown",
   "metadata": {},
   "source": [
    "# Problem 2"
   ]
  },
  {
   "cell_type": "code",
   "execution_count": 40,
   "metadata": {
    "collapsed": true
   },
   "outputs": [],
   "source": [
    "def jacobi1(A,b,tol,maxiters,plot=False):\n",
    "    Dinv=np.diag(1/np.diag(A))\n",
    "    x=np.zeros(len(b))\n",
    "    xnew=np.ones(len(b))\n",
    "    i=0\n",
    "    errors=np.array([])\n",
    "    while la.norm(xnew-x,np.inf)>tol and i<maxiters:\n",
    "        x=xnew\n",
    "        xnew=x+np.dot(Dinv,b-np.dot(A,x))\n",
    "        if plot==True:\n",
    "            error=la.norm(np.dot(A,xnew)-b,np.inf)\n",
    "            errors=np.append(errors,[error])\n",
    "        i+=1\n",
    "    if plot==True:\n",
    "        plt.semilogy(errors)\n",
    "        plt.xlabel('Iteration')\n",
    "        plt.ylabel('Errors')\n",
    "        plt.show()\n",
    "    return xnew"
   ]
  },
  {
   "cell_type": "code",
   "execution_count": 61,
   "metadata": {},
   "outputs": [
    {
     "data": {
      "image/png": "[encoded data removed]",
      "text/plain": [
       "<matplotlib.figure.Figure at 0x112eb9e10>"
      ]
     },
     "metadata": {},
     "output_type": "display_data"
    },
    {
     "data": {
      "text/plain": [
       "array([ 0.08063152,  0.05507578,  0.01218295,  0.00587956,  0.02076373,\n",
       "        0.11220177,  0.02247909,  0.02616764,  0.04275834,  0.00383958,\n",
       "        0.06378384,  0.04295855,  0.09021344,  0.02630036,  0.05339362,\n",
       "        0.04866681,  0.03807257,  0.04279174,  0.05831943,  0.0518736 ,\n",
       "        0.04402799,  0.05935514,  0.04811361,  0.02556404,  0.01259769,\n",
       "        0.03353038,  0.03448577,  0.16952954,  0.07855551,  0.05528948,\n",
       "        0.01902199,  0.03682726,  0.05973093,  0.04835019, -0.01053096,\n",
       "        0.02012708,  0.06839033,  0.01203868,  0.06961174,  0.01846337,\n",
       "        0.03754981,  0.10448   ,  0.02462506,  0.06405043,  0.0375057 ,\n",
       "        0.06614335, -0.00497411,  0.02249322, -0.00735175,  0.05800795,\n",
       "        0.00549122,  0.01046214,  0.03389119,  0.00460302,  0.04809538,\n",
       "        0.04420489,  0.08691205,  0.01261111,  0.02842485,  0.00681268,\n",
       "        0.02674961, -0.00455236,  0.04598129,  0.01250291,  0.04317759,\n",
       "        0.12115036,  0.04243278,  0.0631665 ,  0.04905584,  0.01989784,\n",
       "        0.06633698,  0.05316749, -0.00811614,  0.03019173,  0.11172214,\n",
       "        0.07168972,  0.02507254,  0.03059936,  0.10273024,  0.11753626,\n",
       "        0.15270315,  0.0414912 ,  0.05368409,  0.01416713,  0.06937974,\n",
       "        0.01484093,  0.0168905 , -0.00974589,  0.07456412,  0.10725715,\n",
       "        0.07295751, -0.00445849,  0.04273727,  0.03847898,  0.09745421,\n",
       "       -0.0113235 ,  0.03357858,  0.07652232,  0.03291041,  0.07778886])"
      ]
     },
     "execution_count": 61,
     "metadata": {},
     "output_type": "execute_result"
    }
   ],
   "source": [
    "jacobi1(Atest,btest,1e-10,200,plot=True)"
   ]
  },
  {
   "cell_type": "markdown",
   "metadata": {},
   "source": [
    "# Problem 3"
   ]
  },
  {
   "cell_type": "code",
   "execution_count": 56,
   "metadata": {
    "collapsed": true
   },
   "outputs": [],
   "source": [
    "def gauss_seidel(A,b,plot=False,tol=1e-10,maxiters=200):\n",
    "    x=np.ones(len(b))\n",
    "    xnew=np.zeros(len(b))\n",
    "    i=0\n",
    "    errors=np.array([])\n",
    "    while la.norm(xnew-x,np.inf)>tol and i<maxiters:\n",
    "        x=np.copy(xnew)\n",
    "        for i in range(len(b)):\n",
    "            xnew[i]=x[i]+(1/A[i,i])*(b[i]-np.dot(A[i,:],x))\n",
    "        if plot==True:\n",
    "            error=la.norm(np.dot(A,xnew)-b, np.inf)\n",
    "            errors=np.append(errors,[error])\n",
    "        i+=1\n",
    "    if plot==True:\n",
    "        plt.semilogy(errors)\n",
    "        plt.xlabel('Iteration')\n",
    "        plt.ylabel('Errors')\n",
    "        plt.show()\n",
    "    return xnew"
   ]
  },
  {
   "cell_type": "code",
   "execution_count": 62,
   "metadata": {},
   "outputs": [
    {
     "data": {
      "image/png": "[encoded data removed]",
      "text/plain": [
       "<matplotlib.figure.Figure at 0x113824c88>"
      ]
     },
     "metadata": {},
     "output_type": "display_data"
    },
    {
     "data": {
      "text/plain": [
       "True"
      ]
     },
     "execution_count": 62,
     "metadata": {},
     "output_type": "execute_result"
    }
   ],
   "source": [
    "x=gauss_seidel(Atest,btest,plot=True)\n",
    "np.allclose(btest,np.dot(Atest,x))"
   ]
  },
  {
   "cell_type": "markdown",
   "metadata": {},
   "source": [
    "# Problem 4"
   ]
  },
  {
   "cell_type": "code",
   "execution_count": 99,
   "metadata": {},
   "outputs": [],
   "source": [
    "def gs_sparse(A,b,plot=False,tol=1e-10,maxiters=2000):\n",
    "    x=np.ones(len(b))\n",
    "    xnew=np.zeros(len(b))\n",
    "    i=0\n",
    "    errors=np.array([])\n",
    "    while la.norm(xnew-x,np.inf)>tol and i<maxiters:\n",
    "        x=np.copy(xnew)\n",
    "        for i in range(len(b)):\n",
    "            rowstart = A.indptr[i]\n",
    "            rowend = A.indptr[i+1]\n",
    "            # Multiply only the nonzero elements of the i-th row of A with the\n",
    "            # corresponding elements of x.\n",
    "            Aix = A.data[rowstart:rowend] @ x[A.indices[rowstart:rowend]]\n",
    "            xnew[i]=x[i]+(1/A.diagonal()[i])*(b[i]-Aix)\n",
    "        if plot==True:\n",
    "            error=la.norm(A.dot(x)-b, np.inf)\n",
    "            errors=np.append(errors,[error])\n",
    "        i+=1\n",
    "    if plot==True:\n",
    "        plt.semilogy(errors)\n",
    "        plt.xlabel('Iteration')\n",
    "        plt.ylabel('Errors')\n",
    "        plt.show()\n",
    "    return xnew"
   ]
  },
  {
   "cell_type": "code",
   "execution_count": 100,
   "metadata": {},
   "outputs": [
    {
     "data": {
      "image/png": "[encoded data removed]",
      "text/plain": [
       "<matplotlib.figure.Figure at 0x11386e4a8>"
      ]
     },
     "metadata": {},
     "output_type": "display_data"
    },
    {
     "data": {
      "text/plain": [
       "True"
      ]
     },
     "execution_count": 100,
     "metadata": {},
     "output_type": "execute_result"
    }
   ],
   "source": [
    "Asparse=sparse.csr_matrix(diag_dom(500))\n",
    "bsparse=np.random.random(500)\n",
    "xsparse=gs_sparse(Asparse,bsparse,plot=True)\n",
    "np.allclose(Asparse.dot(xsparse),bsparse)"
   ]
  },
  {
   "cell_type": "markdown",
   "metadata": {},
   "source": [
    "# Problem 5"
   ]
  },
  {
   "cell_type": "code",
   "execution_count": 222,
   "metadata": {
    "collapsed": true
   },
   "outputs": [],
   "source": [
    "def gs_sparse_relaxed(A,b,w,plot=False,tol=1e-10,maxiters=2000):\n",
    "    x=np.ones(len(b))\n",
    "    xnew=np.zeros(len(b))\n",
    "    iters=0\n",
    "    errors=np.array([])\n",
    "    while la.norm(xnew-x,np.inf)>tol and iters<maxiters:\n",
    "        x=np.copy(xnew)\n",
    "        for i in range(len(b)):\n",
    "            rowstart = A.indptr[i]\n",
    "            rowend = A.indptr[i+1]\n",
    "            # Multiply only the nonzero elements of the i-th row of A with the\n",
    "            # corresponding elements of x.\n",
    "            Aix = A.data[rowstart:rowend] @ x[A.indices[rowstart:rowend]]\n",
    "            ### Multiply the relaxation factor:\n",
    "            xnew[i]=x[i]+w*(1/A.diagonal()[i])*(b[i]-Aix)\n",
    "        if plot==True:\n",
    "            error=la.norm(A.dot(x)-b, np.inf)\n",
    "            errors=np.append(errors,[error])\n",
    "        iters+=1\n",
    "    if plot==True:\n",
    "        plt.semilogy(errors)\n",
    "        plt.xlabel('Iteration')\n",
    "        plt.ylabel('Errors')\n",
    "        plt.show()\n",
    "    return xnew,iters"
   ]
  },
  {
   "cell_type": "code",
   "execution_count": 223,
   "metadata": {},
   "outputs": [
    {
     "data": {
      "image/png": "[encoded data removed]",
      "text/plain": [
       "<matplotlib.figure.Figure at 0x113896be0>"
      ]
     },
     "metadata": {},
     "output_type": "display_data"
    },
    {
     "data": {
      "text/plain": [
       "(True, 45)"
      ]
     },
     "execution_count": 223,
     "metadata": {},
     "output_type": "execute_result"
    }
   ],
   "source": [
    "xsparser, iternos=gs_sparse_relaxed(Asparse,bsparse,0.5,plot=True)\n",
    "np.allclose(Asparse.dot(xsparser),bsparse), iternos"
   ]
  },
  {
   "cell_type": "markdown",
   "metadata": {},
   "source": [
    "# Problem 6"
   ]
  },
  {
   "cell_type": "code",
   "execution_count": 215,
   "metadata": {
    "collapsed": true
   },
   "outputs": [],
   "source": [
    "def heatsolve(n, w, plot=False, tol=1e-2, maxiters=500):\n",
    "    B=sparse.diags([1,-4,1],[-1,0,1],shape=(n,n))\n",
    "    A = sparse.bmat([[B if i == j else sparse.eye(n) if abs(i-j)==1\n",
    "                else None for i in range(n)]\n",
    "                for j in range(n)], format='bsr')\n",
    "    A=sparse.csr_matrix(A)\n",
    "    bs=np.zeros(n)\n",
    "    bs[0]=-100\n",
    "    bs[-1]=-100\n",
    "    b=np.tile(bs,n)\n",
    "    u, iters=gs_sparse_relaxed(A,b,w,plot=False, tol=1e-8, maxiters=maxiters)\n",
    "    if plot==True:\n",
    "        uplot=u.reshape(n,n)\n",
    "        plt.pcolormesh(uplot, cmap='coolwarm')\n",
    "        plt.colorbar()\n",
    "        plt.show()\n",
    "    return u, iters"
   ]
  },
  {
   "cell_type": "markdown",
   "metadata": {},
   "source": [
    "# Problem 7"
   ]
  },
  {
   "cell_type": "code",
   "execution_count": 225,
   "metadata": {},
   "outputs": [
    {
     "data": {
      "image/png": "[encoded data removed]",
      "text/plain": [
       "<matplotlib.figure.Figure at 0x1132800f0>"
      ]
     },
     "metadata": {},
     "output_type": "display_data"
    },
    {
     "data": {
      "text/plain": [
       "array([ 49.74640032,  29.73055899,  20.19015502, ...,  20.19015502,\n",
       "        29.73055899,  49.74640032])"
      ]
     },
     "execution_count": 225,
     "metadata": {},
     "output_type": "execute_result"
    }
   ],
   "source": [
    "w=np.linspace(1,1.95,20)\n",
    "heat=np.vectorize(heatsolve)\n",
    "plt.plot(w, heat(20,w)[1])\n",
    "plt.show"
   ]
  },
  {
   "cell_type": "code",
   "execution_count": null,
   "metadata": {
    "collapsed": true
   },
   "outputs": [],
   "source": []
  }
 ],
 "metadata": {
  "kernelspec": {
   "display_name": "Python 3",
   "language": "python",
   "name": "python3"
  },
  "language_info": {
   "codemirror_mode": {
    "name": "ipython",
    "version": 3
   },
   "file_extension": ".py",
   "mimetype": "text/x-python",
   "name": "python",
   "nbconvert_exporter": "python",
   "pygments_lexer": "ipython3",
   "version": "3.6.1"
  }
 },
 "nbformat": 4,
 "nbformat_minor": 2
}
