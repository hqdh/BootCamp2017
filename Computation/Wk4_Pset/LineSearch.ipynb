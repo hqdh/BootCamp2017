{
 "cells": [
  {
   "cell_type": "code",
   "execution_count": 102,
   "metadata": {
    "collapsed": true
   },
   "outputs": [],
   "source": [
    "import numpy as np\n",
    "import sympy as sy\n",
    "from scipy.misc import derivative as deriv\n",
    "from matplotlib import pyplot as plt"
   ]
  },
  {
   "cell_type": "markdown",
   "metadata": {},
   "source": [
    "# Problem 1"
   ]
  },
  {
   "cell_type": "code",
   "execution_count": 2,
   "metadata": {
    "collapsed": true
   },
   "outputs": [],
   "source": [
    "def goldenratio(f, a,b,niter):\n",
    "    i=0\n",
    "    anew=a\n",
    "    bnew=b\n",
    "    rho=0.5*(3-np.sqrt(5))\n",
    "    while i<niter:\n",
    "        a=anew\n",
    "        b=bnew\n",
    "        aprime=a+rho*(b-a)\n",
    "        bprime=a+(1-rho)*(b-a)\n",
    "        if f(aprime)>f(bprime):\n",
    "            anew=aprime\n",
    "        if f(aprime)<=f(bprime):\n",
    "            bnew=bprime\n",
    "        i+=1\n",
    "    return (anew+bnew)/2"
   ]
  },
  {
   "cell_type": "code",
   "execution_count": 6,
   "metadata": {},
   "outputs": [
    {
     "data": {
      "text/plain": [
       "(13, 0.00071614434567845997)"
      ]
     },
     "execution_count": 6,
     "metadata": {},
     "output_type": "execute_result"
    }
   ],
   "source": [
    "error=1\n",
    "tol=0.001\n",
    "niter=0\n",
    "while error>tol:\n",
    "    niter+=1\n",
    "    error=abs(goldenratio(lambda x:np.exp(x)-4*x,0,3,niter)-np.log(4))\n",
    "niter, error"
   ]
  },
  {
   "cell_type": "markdown",
   "metadata": {},
   "source": [
    "# Problem 2"
   ]
  },
  {
   "cell_type": "code",
   "execution_count": 74,
   "metadata": {
    "collapsed": true
   },
   "outputs": [],
   "source": [
    "def bisect(f,a,b,niter):\n",
    "    i=0\n",
    "    anew=a\n",
    "    bnew=b\n",
    "    x=sy.symbols('x')\n",
    "    fprime=sy.diff(f(x),x)\n",
    "    while i<niter:\n",
    "        a=anew\n",
    "        b=bnew\n",
    "        mid=(a+b)/2\n",
    "        if fprime.evalf(subs={x:mid})>0:\n",
    "            bnew=mid\n",
    "        if fprime.evalf(subs={x:mid})<0:\n",
    "            anew=mid\n",
    "        if fprime.evalf(subs={x:mid})==0:\n",
    "            anew=mid\n",
    "            bnew=mid\n",
    "        i+=1\n",
    "    return (anew+bnew)/2"
   ]
  },
  {
   "cell_type": "code",
   "execution_count": 76,
   "metadata": {},
   "outputs": [
    {
     "data": {
      "text/plain": [
       "1.3862943611198908"
      ]
     },
     "execution_count": 76,
     "metadata": {},
     "output_type": "execute_result"
    }
   ],
   "source": [
    "bisect(lambda x:sy.exp(x)-4*x,0,3,100)"
   ]
  },
  {
   "cell_type": "markdown",
   "metadata": {},
   "source": [
    "# Problem 3"
   ]
  },
  {
   "cell_type": "code",
   "execution_count": 88,
   "metadata": {
    "collapsed": true
   },
   "outputs": [],
   "source": [
    "def newton(f, fprime, f2prime, x0):\n",
    "    xnew=x0\n",
    "    x=3*x0\n",
    "    tol=1e-14\n",
    "    maxiter=2000\n",
    "    i=0\n",
    "    while abs((xnew-x))>tol and i<maxiter:\n",
    "        x=xnew\n",
    "        xnew=x-fprime(x)/f2prime(x)\n",
    "        i+=1\n",
    "    return x"
   ]
  },
  {
   "cell_type": "code",
   "execution_count": 97,
   "metadata": {},
   "outputs": [
    {
     "data": {
      "text/plain": [
       "0.8712810830760791"
      ]
     },
     "execution_count": 97,
     "metadata": {},
     "output_type": "execute_result"
    }
   ],
   "source": [
    "f=lambda x:x**2+np.sin(5*x)\n",
    "fprime=lambda x: 2*x+5*np.cos(5*x)\n",
    "f2prime=lambda x: 2-25*np.sin(5*x)\n",
    "newton(f,fprime,f2prime,1.4)"
   ]
  },
  {
   "cell_type": "markdown",
   "metadata": {},
   "source": [
    "# Problem 4"
   ]
  },
  {
   "cell_type": "code",
   "execution_count": 100,
   "metadata": {
    "collapsed": true
   },
   "outputs": [],
   "source": [
    "def secant(f, fprime, x0,x1):\n",
    "    x=x1\n",
    "    xold=x0\n",
    "    tol=1e-14\n",
    "    maxiter=2000\n",
    "    i=0\n",
    "    while abs((xold-x))>tol and i<maxiter:\n",
    "        xnew=x-fprime(x)*(x-xold)/(fprime(x)-fprime(xold))\n",
    "        x=xnew\n",
    "        xold=x\n",
    "        i+=1\n",
    "    return xnew"
   ]
  },
  {
   "cell_type": "code",
   "execution_count": 101,
   "metadata": {},
   "outputs": [
    {
     "data": {
      "text/plain": [
       "-0.5275674878942771"
      ]
     },
     "execution_count": 101,
     "metadata": {},
     "output_type": "execute_result"
    }
   ],
   "source": [
    "g=lambda x: x**2+np.sin(x)+np.sin(10*x)\n",
    "gprime=lambda x: 2*x+np.cos(x)+10*np.cos(10*x)\n",
    "secant(g,gprime,0,-1)"
   ]
  },
  {
   "cell_type": "code",
   "execution_count": 103,
   "metadata": {},
   "outputs": [
    {
     "data": {
      "image/png": "[encoded data removed]",
      "text/plain": [
       "<matplotlib.figure.Figure at 0x110bf5400>"
      ]
     },
     "metadata": {},
     "output_type": "display_data"
    }
   ],
   "source": [
    "x=np.linspace(-10,10,250)\n",
    "plt.plot(x, g(x))\n",
    "plt.show()"
   ]
  },
  {
   "cell_type": "markdown",
   "metadata": {},
   "source": [
    "# Problem 5"
   ]
  },
  {
   "cell_type": "code",
   "execution_count": 104,
   "metadata": {
    "collapsed": true
   },
   "outputs": [],
   "source": [
    "def backtrack(f, df, x0, p, alpha, rho, c):\n",
    "    x=x0\n",
    "    while f(x+alpha*p)>f(x)+c*alpha*np.dot(df.T,p):\n",
    "        alpha=alpha*rho\n",
    "    return alpha"
   ]
  },
  {
   "cell_type": "code",
   "execution_count": null,
   "metadata": {
    "collapsed": true
   },
   "outputs": [],
   "source": []
  }
 ],
 "metadata": {
  "kernelspec": {
   "display_name": "Python 3",
   "language": "python",
   "name": "python3"
  },
  "language_info": {
   "codemirror_mode": {
    "name": "ipython",
    "version": 3
   },
   "file_extension": ".py",
   "mimetype": "text/x-python",
   "name": "python",
   "nbconvert_exporter": "python",
   "pygments_lexer": "ipython3",
   "version": "3.6.1"
  }
 },
 "nbformat": 4,
 "nbformat_minor": 2
}
