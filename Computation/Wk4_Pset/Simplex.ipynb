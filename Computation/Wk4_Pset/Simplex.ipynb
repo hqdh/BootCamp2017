{
 "cells": [
  {
   "cell_type": "code",
   "execution_count": 1,
   "metadata": {
    "collapsed": true
   },
   "outputs": [],
   "source": [
    "import numpy as np"
   ]
  },
  {
   "cell_type": "code",
   "execution_count": 295,
   "metadata": {
    "collapsed": true
   },
   "outputs": [],
   "source": [
    "c=np.array([3,2])\n",
    "A=np.array([[1,-1],[3,1],[4,3]])\n",
    "b=np.array([2,5,7])"
   ]
  },
  {
   "cell_type": "markdown",
   "metadata": {},
   "source": [
    "# Problem 1+2+3+4+5+6"
   ]
  },
  {
   "cell_type": "code",
   "execution_count": 298,
   "metadata": {},
   "outputs": [],
   "source": [
    "#Problem 1: define the class:\n",
    "class simplex(object):\n",
    "    def __init__(self, c,A,b):\n",
    "        self.c=c\n",
    "        self.A=A\n",
    "        self.b=b\n",
    "        self.origin_fsb=np.all(np.dot(A,np.zeros(len(A[0,:])))<=b)\n",
    "        if self.origin_fsb==False:\n",
    "            raise ValueError(\"The problem is not feasible at the origin\")\n",
    "#Problem 2: create slack variables and add the store method:\n",
    "    def basicstore(self):\n",
    "        self.orig=np.zeros(len(self.c))\n",
    "        m=len(A[:,0])\n",
    "        n=len(A[0,:])\n",
    "        self.slack=self.b-np.dot(self.A,self.orig)\n",
    "        vrbs=np.append(self.orig, self.slack)\n",
    "        L=np.append(np.where(vrbs!=0)[0],np.where(vrbs==0)[0])\n",
    "        return L\n",
    "#Problem 3: create the initial tableau:\n",
    "    def init_tableau(self):\n",
    "        m=len(self.A[:,0])\n",
    "        I=np.eye(m)\n",
    "        Abar=np.hstack((self.A, I))\n",
    "        cbar=np.append(self.c, np.zeros(m))\n",
    "        return np.vstack((np.hstack(([0],-cbar,[1])),np.hstack((np.array([b]).T,Abar,\n",
    "                                                                          np.array([np.zeros(len(b))]).T))))\n",
    "#Problem 4: return the pivot indices\n",
    "    def pivotind(self, tableau):\n",
    "        self.tableau=tableau\n",
    "        T=self.tableau\n",
    "        negindex=np.where(T[0,:]<0)[0]\n",
    "        enter=negindex.min()\n",
    "        pos_enter=np.where(T[:,enter]>0)[0]\n",
    "        if len(pos_enter)==0:\n",
    "            raise ValueError('The problem is unbounded')\n",
    "        else:\n",
    "            ratio=T[:,0][pos_enter]/T[:,enter][pos_enter]\n",
    "            minratio=ratio.min()\n",
    "            minloc=np.where(ratio==minratio)[0]\n",
    "            leave=np.where(((T[:,0]==T[:,0][pos_enter][minloc]).astype(int))*((T[:,enter]==\n",
    "                        T[:,enter][pos_enter][minloc]).astype(int))==1)[0]\n",
    "        return enter, leave\n",
    "#Problem 5: perform a single pivot to completion:\n",
    "    def pivot(self, tableau, L):\n",
    "        self.tableau=tableau\n",
    "        self.orig=np.zeros(len(self.c))\n",
    "        T=self.tableau\n",
    "        enter, leave=self.pivotind(T)\n",
    "        L[np.where(L==(enter-1))[0]],L[leave-1]=L[leave-1],L[np.where(L==(enter-1))[0]]\n",
    "        T[leave,:]=T[leave,:]/T[leave,enter]\n",
    "        for i in range(len(T[:,0])):\n",
    "            T[i,:]=T[i,:]-(T[leave,:]*T[i,enter])*(1-int(i==leave))\n",
    "        return T, L\n",
    "#Problem 6: solve\n",
    "    def solve(self):\n",
    "        self.tableau=self.init_tableau()\n",
    "        orig=np.array([0,0])\n",
    "        L=self.basicstore()\n",
    "        T=self.tableau\n",
    "        while (len(np.where(T[0,:]<0)[0])>0):\n",
    "            T,L=self.pivot(T,L)\n",
    "        return T, L\n",
    "            \n",
    "            "
   ]
  },
  {
   "cell_type": "code",
   "execution_count": 299,
   "metadata": {},
   "outputs": [
    {
     "data": {
      "text/plain": [
       "(array([[ 5.2,  0. ,  0. ,  0. ,  0.2,  0.6,  1. ],\n",
       "        [ 0.6,  0. ,  0. ,  1. , -1.4,  0.8,  0. ],\n",
       "        [ 1.6,  1. ,  0. ,  0. ,  0.6, -0.2,  0. ],\n",
       "        [ 0.2,  0. ,  1. ,  0. , -0.8,  0.6,  0. ]]), array([2, 0, 1, 3, 4]))"
      ]
     },
     "execution_count": 299,
     "metadata": {},
     "output_type": "execute_result"
    }
   ],
   "source": [
    "problem=simplex(c, A, b)\n",
    "problem.solve()"
   ]
  },
  {
   "cell_type": "markdown",
   "metadata": {},
   "source": [
    "# Problem 7"
   ]
  },
  {
   "cell_type": "code",
   "execution_count": 300,
   "metadata": {},
   "outputs": [
    {
     "data": {
      "text/plain": [
       "(array([[ 0.12,  0.18,  0.13,  0.07],\n",
       "        [ 0.15,  0.12,  0.13,  0.11],\n",
       "        [ 0.1 ,  0.1 ,  0.1 ,  0.12]]),\n",
       " array([ 250.,  215.,  275.,  180.]),\n",
       " array([ 4.,  4.,  4.]),\n",
       " array([ 10.,  20.,  12.,  10.]))"
      ]
     },
     "execution_count": 300,
     "metadata": {},
     "output_type": "execute_result"
    }
   ],
   "source": [
    "product=np.load('productMix.npz')\n",
    "A=product['A']\n",
    "p=product['p']\n",
    "m=product['m']\n",
    "d=product['d']\n",
    "A,p,m,d"
   ]
  },
  {
   "cell_type": "code",
   "execution_count": 304,
   "metadata": {},
   "outputs": [
    {
     "name": "stderr",
     "output_type": "stream",
     "text": [
      "/Users/hqdhftw/anaconda/lib/python3.6/site-packages/ipykernel_launcher.py:5: VisibleDeprecationWarning: boolean index did not match indexed array along dimension 0; dimension is 8 but corresponding boolean dimension is 11\n",
      "  \"\"\"\n"
     ]
    },
    {
     "data": {
      "text/plain": [
       "(array([[  7.45359649e+03,   0.00000000e+00,   0.00000000e+00,\n",
       "           0.00000000e+00,   0.00000000e+00,   1.79824561e+02,\n",
       "           1.52192982e+03,   0.00000000e+00,   1.31578947e-01,\n",
       "           0.00000000e+00,   5.37719298e+01,   0.00000000e+00,\n",
       "           1.00000000e+00],\n",
       "        [  6.19298246e+00,   0.00000000e+00,   1.00000000e+00,\n",
       "           0.00000000e+00,   0.00000000e+00,   9.64912281e+00,\n",
       "          -6.14035088e+00,   0.00000000e+00,  -2.36842105e-01,\n",
       "           0.00000000e+00,  -4.56140351e-01,   0.00000000e+00,\n",
       "           0.00000000e+00],\n",
       "        [  1.78947368e+00,   0.00000000e+00,   0.00000000e+00,\n",
       "           0.00000000e+00,   1.00000000e+00,  -1.05263158e+01,\n",
       "           1.57894737e+01,   0.00000000e+00,  -1.10526316e+00,\n",
       "           0.00000000e+00,  -6.84210526e-01,   0.00000000e+00,\n",
       "           0.00000000e+00],\n",
       "        [  9.65964912e-01,   0.00000000e+00,   0.00000000e+00,\n",
       "           0.00000000e+00,   0.00000000e+00,   2.98245614e-01,\n",
       "          -1.28070175e+00,   1.00000000e+00,   5.63157895e-02,\n",
       "           0.00000000e+00,   2.77192982e-02,   0.00000000e+00,\n",
       "           0.00000000e+00],\n",
       "        [  1.00000000e+01,   1.00000000e+00,   0.00000000e+00,\n",
       "           0.00000000e+00,   0.00000000e+00,   0.00000000e+00,\n",
       "           0.00000000e+00,   0.00000000e+00,   1.00000000e+00,\n",
       "           0.00000000e+00,   0.00000000e+00,   0.00000000e+00,\n",
       "           0.00000000e+00],\n",
       "        [  1.38070175e+01,   0.00000000e+00,   0.00000000e+00,\n",
       "           0.00000000e+00,   0.00000000e+00,  -9.64912281e+00,\n",
       "           6.14035088e+00,   0.00000000e+00,   2.36842105e-01,\n",
       "           1.00000000e+00,   4.56140351e-01,   0.00000000e+00,\n",
       "           0.00000000e+00],\n",
       "        [  1.20000000e+01,   0.00000000e+00,   0.00000000e+00,\n",
       "           1.00000000e+00,   0.00000000e+00,   0.00000000e+00,\n",
       "           0.00000000e+00,   0.00000000e+00,   0.00000000e+00,\n",
       "           0.00000000e+00,   1.00000000e+00,   0.00000000e+00,\n",
       "           0.00000000e+00],\n",
       "        [  8.21052632e+00,   0.00000000e+00,   0.00000000e+00,\n",
       "           0.00000000e+00,   0.00000000e+00,   1.05263158e+01,\n",
       "          -1.57894737e+01,   0.00000000e+00,   1.10526316e+00,\n",
       "           0.00000000e+00,   6.84210526e-01,   1.00000000e+00,\n",
       "           0.00000000e+00]]),\n",
       " array([ 1,  3,  6,  0,  8,  2, 10,  7,  4,  9,  5]))"
      ]
     },
     "execution_count": 304,
     "metadata": {},
     "output_type": "execute_result"
    }
   ],
   "source": [
    "Abar=np.vstack((A,np.eye(4)))\n",
    "b=np.append(m,d)\n",
    "prob7=simplex(p,Abar,b)\n",
    "sol,lis=prob7.solve()\n",
    "sol[:,0][lis<4]\n"
   ]
  },
  {
   "cell_type": "code",
   "execution_count": null,
   "metadata": {
    "collapsed": true
   },
   "outputs": [],
   "source": []
  }
 ],
 "metadata": {
  "kernelspec": {
   "display_name": "Python 3",
   "language": "python",
   "name": "python3"
  },
  "language_info": {
   "codemirror_mode": {
    "name": "ipython",
    "version": 3
   },
   "file_extension": ".py",
   "mimetype": "text/x-python",
   "name": "python",
   "nbconvert_exporter": "python",
   "pygments_lexer": "ipython3",
   "version": "3.6.1"
  }
 },
 "nbformat": 4,
 "nbformat_minor": 2
}
