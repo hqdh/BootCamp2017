{
 "cells": [
  {
   "cell_type": "code",
   "execution_count": 1,
   "metadata": {
    "collapsed": true
   },
   "outputs": [],
   "source": [
    "import numpy as np"
   ]
  },
  {
   "cell_type": "markdown",
   "metadata": {},
   "source": [
    "# Problem 1"
   ]
  },
  {
   "cell_type": "code",
   "execution_count": 86,
   "metadata": {
    "collapsed": true
   },
   "outputs": [],
   "source": [
    "class Backpack(object):\n",
    "    def __init__(self, name, color):\n",
    "        self.name=name\n",
    "        self.max_size=5\n",
    "        self.contents=[]\n",
    "        self.color=color\n",
    "    def put(self, item):\n",
    "        if len(self.contents)>=self.max_size:\n",
    "            print(\"No Room!\")\n",
    "        else:\n",
    "            self.contents.append(item)\n",
    "    def take(self,item):\n",
    "        self.contents.remove(item)\n",
    "    def dump(self):\n",
    "        self.contents=[]"
   ]
  },
  {
   "cell_type": "markdown",
   "metadata": {},
   "source": [
    "# Problem 2"
   ]
  },
  {
   "cell_type": "code",
   "execution_count": 91,
   "metadata": {},
   "outputs": [
    {
     "data": {
      "text/plain": [
       "[]"
      ]
     },
     "execution_count": 91,
     "metadata": {},
     "output_type": "execute_result"
    }
   ],
   "source": [
    "class Jetpack(Backpack):\n",
    "    def __init__(self, name, color):\n",
    "        Backpack.__init__(self, name, color)\n",
    "        self.fuel=10\n",
    "        self.max_size=2\n",
    "    def fly(self, amount):\n",
    "        if amount>self.fuel:\n",
    "            print(\"Not enough fuel!\")\n",
    "        else:\n",
    "            self.fuel-=amount\n",
    "    def dump(self):\n",
    "        Backpack.dump(self)\n",
    "        self.fuel=0"
   ]
  },
  {
   "cell_type": "markdown",
   "metadata": {},
   "source": [
    "# Problem 3"
   ]
  },
  {
   "cell_type": "code",
   "execution_count": 123,
   "metadata": {
    "collapsed": true,
    "scrolled": true
   },
   "outputs": [],
   "source": [
    "class Backpack(object):\n",
    "    def __init__(self, name, color):\n",
    "        self.name=name\n",
    "        self.max_size=5\n",
    "        self.contents=[]\n",
    "        self.color=color\n",
    "    def put(self, item):\n",
    "        if len(self.contents)>=self.max_size:\n",
    "            print(\"No Room!\")\n",
    "        else:\n",
    "            self.contents.append(item)\n",
    "    def take(self,item):\n",
    "        self.contents.remove(item)\n",
    "    def dump(self):\n",
    "        self.contents=[]\n",
    "    def __eq__(self, other): # find out if two objects are equal\n",
    "        return ([self.name, self.color, len(self.contents)])==([other.name, other.color, len(other.contents)])\n",
    "    def __str__(self):\n",
    "        print( \"Owner: \\t \\t \", self.name,\"\\n\"\n",
    "             \"Color: \\t \\t \", self.color,\"\\n\"\n",
    "             \"Size: \\t \\t \", len(self.contents),\"\\n\"\n",
    "             \"Max size: \\t \",self.max_size,\"\\n\"\n",
    "             \"Contents: \\t \",self.contents,)\n"
   ]
  },
  {
   "cell_type": "markdown",
   "metadata": {},
   "source": [
    "# Problem 4"
   ]
  },
  {
   "cell_type": "code",
   "execution_count": 213,
   "metadata": {
    "collapsed": true
   },
   "outputs": [],
   "source": [
    "import math\n",
    "class ComplexNumber(object):\n",
    "    def __init__(self, real, imag):\n",
    "        self.real=real\n",
    "        self.imag=imag\n",
    "    def conjugate(self):\n",
    "        conj=ComplexNumber(self.real, -self.imag)\n",
    "        return conj\n",
    "    def __abs__(self):\n",
    "        return math.sqrt(self.real**2+self.imag**2)\n",
    "    def __lt__(self, other):\n",
    "        return abs(self)<abs(other)\n",
    "    def __gt__(self, other):\n",
    "        return abs(self)>abs(other)\n",
    "    def __eq__(self, other):\n",
    "        return ([self.real, self.imag])==([other.real, other.imag])\n",
    "    def __ne__(self, other):\n",
    "        return not ([self.real, self.imag])==([other.real, other.imag])\n",
    "    def __add__(self, other):\n",
    "        return ComplexNumber(self.real+other.real, self.imag+other.imag)\n",
    "    def __sub__(self, other):\n",
    "        return ComplexNumber(self.real-other.real, self.imag-other.imag)\n",
    "    def __mul__(self, other):\n",
    "        return ComplexNumber(self.real*other.real-self.imag*other.imag, self.real*other.imag+self.imag*other.real)\n",
    "    def __truediv__(self, other):\n",
    "        return (ComplexNumber(self.real/abs(other.conjugate())**2, self.imag/abs(other.conjugate())**2)*other.conjugate())\n"
   ]
  }
 ],
 "metadata": {
  "kernelspec": {
   "display_name": "Python 3",
   "language": "python",
   "name": "python3"
  },
  "language_info": {
   "codemirror_mode": {
    "name": "ipython",
    "version": 3
   },
   "file_extension": ".py",
   "mimetype": "text/x-python",
   "name": "python",
   "nbconvert_exporter": "python",
   "pygments_lexer": "ipython3",
   "version": "3.6.1"
  }
 },
 "nbformat": 4,
 "nbformat_minor": 2
}
