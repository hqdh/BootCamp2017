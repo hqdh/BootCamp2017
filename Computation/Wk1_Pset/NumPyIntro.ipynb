{
 "cells": [
  {
   "cell_type": "markdown",
   "metadata": {},
   "source": [
    "# Problem 1"
   ]
  },
  {
   "cell_type": "code",
   "execution_count": 2,
   "metadata": {
    "collapsed": true
   },
   "outputs": [],
   "source": [
    "import numpy as np"
   ]
  },
  {
   "cell_type": "code",
   "execution_count": 3,
   "metadata": {},
   "outputs": [
    {
     "data": {
      "text/plain": [
       "array([[ 37,  18, -36, -10],\n",
       "       [-54, -16,  67,  65]])"
      ]
     },
     "execution_count": 3,
     "metadata": {},
     "output_type": "execute_result"
    }
   ],
   "source": [
    "def prob1(A,B):\n",
    "    return np.dot(A,B)\n",
    "A=np.array([[3,-1,4],[1,5,-9]])\n",
    "B=np.array([[2,6,-5,3],[5,-8,9,7],[9,-2,-3,-3]])\n",
    "prob1(A,B)"
   ]
  },
  {
   "cell_type": "markdown",
   "metadata": {},
   "source": [
    "# Problem 2"
   ]
  },
  {
   "cell_type": "code",
   "execution_count": 88,
   "metadata": {},
   "outputs": [
    {
     "data": {
      "text/plain": [
       "array([[0, 0, 0],\n",
       "       [0, 0, 0],\n",
       "       [0, 0, 0]])"
      ]
     },
     "execution_count": 88,
     "metadata": {},
     "output_type": "execute_result"
    }
   ],
   "source": [
    "def prob2(A):\n",
    "    return -np.dot(np.dot(A,A),A)+9*np.dot(A,A)-15*A\n",
    "A=np.array([[3,1,4],[1,5,9],[-5,3,1]])\n",
    "prob2(A)"
   ]
  },
  {
   "cell_type": "markdown",
   "metadata": {},
   "source": [
    "# Problem 3"
   ]
  },
  {
   "cell_type": "code",
   "execution_count": 3,
   "metadata": {},
   "outputs": [
    {
     "data": {
      "text/plain": [
       "array([[ -7.,  -8.,  -3.,   8.,  25.,  48.,  77.],\n",
       "       [ -6., -12., -12.,  -6.,   6.,  24.,  48.],\n",
       "       [ -5., -10., -15., -14.,  -7.,   6.,  25.],\n",
       "       [ -4.,  -8., -12., -16., -14.,  -6.,   8.],\n",
       "       [ -3.,  -6.,  -9., -12., -15., -12.,  -3.],\n",
       "       [ -2.,  -4.,  -6.,  -8., -10., -12.,  -8.],\n",
       "       [ -1.,  -2.,  -3.,  -4.,  -5.,  -6.,  -7.]])"
      ]
     },
     "execution_count": 3,
     "metadata": {},
     "output_type": "execute_result"
    }
   ],
   "source": [
    "def prob3(A,B):\n",
    "       return np.dot(np.dot(A,B),A)\n",
    "X=np.ones((7,7))\n",
    "I=np.eye(7)\n",
    "A=np.triu(X)\n",
    "B=-np.tril(X)+5*(np.triu(X)-I)\n",
    "T=prob3(A,B)\n",
    "T=T.astype(np.int64)\n",
    "prob3(A,B)"
   ]
  },
  {
   "cell_type": "markdown",
   "metadata": {},
   "source": [
    "# Problem 4"
   ]
  },
  {
   "cell_type": "code",
   "execution_count": 33,
   "metadata": {},
   "outputs": [
    {
     "name": "stdout",
     "output_type": "stream",
     "text": [
      "[[0 3 0 5]]\n"
     ]
    }
   ],
   "source": [
    "def prob4(A):\n",
    "    D=np.copy(A)\n",
    "    mask=D<0\n",
    "    D[mask]=0\n",
    "    return D\n",
    "#test:\n",
    "A=([[-2,3,-4,5]])\n",
    "print(prob4(A))"
   ]
  },
  {
   "cell_type": "markdown",
   "metadata": {},
   "source": [
    "# Problem 5"
   ]
  },
  {
   "cell_type": "code",
   "execution_count": 78,
   "metadata": {},
   "outputs": [
    {
     "name": "stdout",
     "output_type": "stream",
     "text": [
      "[[ 0.  0.  0.  0.  1.  1.  0.  0.]\n",
      " [ 0.  0.  0.  2.  3.  0.  1.  0.]\n",
      " [ 0.  0.  0.  4.  5.  0.  0.  1.]\n",
      " [ 0.  2.  4.  0.  0.  0.  0.  0.]\n",
      " [ 1.  3.  5.  0.  0.  0.  0.  0.]\n",
      " [ 3.  0.  0.  0.  0. -2. -0. -0.]\n",
      " [ 3.  3.  0.  0.  0. -0. -2. -0.]\n",
      " [ 3.  3.  3.  0.  0. -0. -0. -2.]]\n"
     ]
    }
   ],
   "source": [
    "def prob5(A,B,C):\n",
    "    D=np.hstack((np.zeros((3,3)),A.T,np.eye(3)))\n",
    "    E=np.hstack((A,np.zeros((2,2)),np.zeros((2,3))))\n",
    "    F=np.hstack((B,np.zeros((3,2)),C))\n",
    "    return np.vstack((D,E,F))\n",
    "A=np.transpose(np.arange(6).reshape((3,2)))\n",
    "B=np.tril(3*np.ones(3))\n",
    "C=-2*np.eye(3)\n",
    "print((prob5(A,B,C)))"
   ]
  },
  {
   "cell_type": "markdown",
   "metadata": {},
   "source": [
    "# Problem 6"
   ]
  },
  {
   "cell_type": "code",
   "execution_count": 64,
   "metadata": {},
   "outputs": [
    {
     "data": {
      "text/plain": [
       "array([[ 0.16666667,  0.33333333,  0.5       ],\n",
       "       [ 0.26666667,  0.33333333,  0.4       ]])"
      ]
     },
     "execution_count": 64,
     "metadata": {},
     "output_type": "execute_result"
    }
   ],
   "source": [
    "def prob6(A):\n",
    "    D=np.copy(A)\n",
    "    D=D.sum(axis=1)\n",
    "    n=len(A[:,1])\n",
    "    E=D.reshape((n,1))\n",
    "    return np.divide(A,E)\n",
    "#test:\n",
    "A=np.array([[1,2,3],[4,5,6]])\n",
    "prob6(A)"
   ]
  },
  {
   "cell_type": "markdown",
   "metadata": {},
   "source": [
    "# Problem 7"
   ]
  },
  {
   "cell_type": "code",
   "execution_count": 77,
   "metadata": {
    "scrolled": true
   },
   "outputs": [
    {
     "data": {
      "text/plain": [
       "70600674"
      ]
     },
     "execution_count": 77,
     "metadata": {},
     "output_type": "execute_result"
    }
   ],
   "source": [
    "def prob7(grid):\n",
    "    rowmax=np.max(grid[:,:-3]*grid[:,1:-2]*grid[:,2:-1]*grid[:,3:])\n",
    "    columnmax=np.max(grid[:-3,:]*grid[1:-2,:]*grid[2:-1,:]*grid[3:,:])\n",
    "    rdiagmax=np.max(grid[:-3,:-3]*grid[1:-2,1:-2]*grid[2:-1,2:-1]*grid[3:,3:])\n",
    "    ldiagmax=np.max(grid[:-3,3:]*grid[1:-2,2:-1]*grid[2:-1,1:-2]*grid[3:,:-3])   \n",
    "    return np.max([rowmax,columnmax,rdiagmax,ldiagmax])\n",
    "grid = np.load(\"grid.npy\")\n",
    "prob7(grid)\n"
   ]
  }
 ],
 "metadata": {
  "kernelspec": {
   "display_name": "Python 3",
   "language": "python",
   "name": "python3"
  },
  "language_info": {
   "codemirror_mode": {
    "name": "ipython",
    "version": 3
   },
   "file_extension": ".py",
   "mimetype": "text/x-python",
   "name": "python",
   "nbconvert_exporter": "python",
   "pygments_lexer": "ipython3",
   "version": "3.6.1"
  }
 },
 "nbformat": 4,
 "nbformat_minor": 2
}
