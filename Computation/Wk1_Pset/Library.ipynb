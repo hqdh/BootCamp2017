{
 "cells": [
  {
   "cell_type": "code",
   "execution_count": 2,
   "metadata": {
    "collapsed": true
   },
   "outputs": [],
   "source": [
    "import numpy as np"
   ]
  },
  {
   "cell_type": "markdown",
   "metadata": {},
   "source": [
    "#Problem 1 "
   ]
  },
  {
   "cell_type": "code",
   "execution_count": 5,
   "metadata": {},
   "outputs": [
    {
     "data": {
      "text/plain": [
       "[1, 7, 3.8300000000000001]"
      ]
     },
     "execution_count": 5,
     "metadata": {},
     "output_type": "execute_result"
    }
   ],
   "source": [
    "def prob1(A):\n",
    "    return [np.min(A),np.max(A),round(np.sum(A)/len(A),2)]\n",
    "A=[1,2,3,4,7,6]\n",
    "prob1(A)"
   ]
  },
  {
   "cell_type": "markdown",
   "metadata": {},
   "source": [
    "#Problem 2"
   ]
  },
  {
   "cell_type": "code",
   "execution_count": 6,
   "metadata": {},
   "outputs": [
    {
     "data": {
      "text/plain": [
       "False"
      ]
     },
     "execution_count": 6,
     "metadata": {},
     "output_type": "execute_result"
    }
   ],
   "source": [
    "num_1=1\n",
    "num_2=num_1\n",
    "num_2+=1\n",
    "num_1==num_2"
   ]
  },
  {
   "cell_type": "code",
   "execution_count": 9,
   "metadata": {},
   "outputs": [
    {
     "data": {
      "text/plain": [
       "False"
      ]
     },
     "execution_count": 9,
     "metadata": {},
     "output_type": "execute_result"
    }
   ],
   "source": [
    "word1='a'\n",
    "word2=word1\n",
    "word2+='a'\n",
    "word2==word1"
   ]
  },
  {
   "cell_type": "code",
   "execution_count": 10,
   "metadata": {},
   "outputs": [
    {
     "data": {
      "text/plain": [
       "True"
      ]
     },
     "execution_count": 10,
     "metadata": {},
     "output_type": "execute_result"
    }
   ],
   "source": [
    "list1=[1]\n",
    "list2=list1\n",
    "list2.append(1)\n",
    "list2==list1"
   ]
  },
  {
   "cell_type": "code",
   "execution_count": 16,
   "metadata": {},
   "outputs": [
    {
     "data": {
      "text/plain": [
       "False"
      ]
     },
     "execution_count": 16,
     "metadata": {},
     "output_type": "execute_result"
    }
   ],
   "source": [
    "tuple1=(1,1)\n",
    "tuple2=tuple1\n",
    "tuple2+=(1,)\n",
    "tuple2==tuple1"
   ]
  },
  {
   "cell_type": "code",
   "execution_count": 17,
   "metadata": {},
   "outputs": [
    {
     "data": {
      "text/plain": [
       "True"
      ]
     },
     "execution_count": 17,
     "metadata": {},
     "output_type": "execute_result"
    }
   ],
   "source": [
    "dict1={1:'x',2:'y'}\n",
    "dict2=dict1\n",
    "dict2[1]='a'\n",
    "dict2==dict1"
   ]
  },
  {
   "cell_type": "raw",
   "metadata": {},
   "source": [
    "Conclusion: numbers, strings and tuples are immutable, while words and dictionaries are mutable."
   ]
  },
  {
   "cell_type": "markdown",
   "metadata": {},
   "source": [
    "Problem 3"
   ]
  },
  {
   "cell_type": "code",
   "execution_count": 26,
   "metadata": {},
   "outputs": [],
   "source": [
    "import calculator as calc"
   ]
  },
  {
   "cell_type": "code",
   "execution_count": 27,
   "metadata": {},
   "outputs": [
    {
     "data": {
      "text/plain": [
       "5.0"
      ]
     },
     "execution_count": 27,
     "metadata": {},
     "output_type": "execute_result"
    }
   ],
   "source": [
    "def hypotenuse(a,b):\n",
    "    return calc.sqrt(a**2+b**2)\n",
    "hypotenuse(3,4)"
   ]
  },
  {
   "cell_type": "markdown",
   "metadata": {},
   "source": [
    "# Problem 4"
   ]
  },
  {
   "cell_type": "code",
   "execution_count": 62,
   "metadata": {},
   "outputs": [],
   "source": [
    "import random\n",
    "import box\n",
    "from itertools import combinations\n",
    "def isvalid(roll, remaining):\n",
    "    '''\n",
    "    Check to see whether or not a roll is valid. That is, check if there\n",
    "    exists a combination of the entries of 'remaining' that sum up to\n",
    "    'roll'.\n",
    "    Parameters:\n",
    "        roll (int): The value of a dice roll, between 2 and 12\n",
    "                    (inclusive).\n",
    "        remaining (list): The list of the numbers that still need to be\n",
    "                          removed before the box can be shut.\n",
    "    Returns:\n",
    "        True if the roll is valid.\n",
    "        False if the roll is invalid.\n",
    "    '''\n",
    "    if roll not in range(2, 13):\n",
    "        return False\n",
    "    for i in range(1, len(remaining) + 1):\n",
    "        if any([sum(combo) == roll for combo in combinations(remaining, i)]):\n",
    "            return True\n",
    "    return False"
   ]
  },
  {
   "cell_type": "code",
   "execution_count": 81,
   "metadata": {},
   "outputs": [
    {
     "name": "stdout",
     "output_type": "stream",
     "text": [
      "Your Name:hung\n",
      "Numbers left:[1, 2, 3, 4, 5, 6, 7, 8, 9]\n",
      "Roll:7\n",
      "Numbers to eliminate:3 4\n",
      "Numbers left:[1, 2, 5, 6, 7, 8, 9]\n",
      "Roll:8\n",
      "Numbers to eliminate:2 6\n",
      "Numbers left:[1, 5, 7, 8, 9]\n",
      "Roll:9\n",
      "Numbers to eliminate:9\n",
      "Your score:21\n"
     ]
    }
   ],
   "source": [
    "remaining=[1,2,3,4,5,6,7,8,9]\n",
    "name=input(\"Your Name:\")\n",
    "roll=random.randint(2,12)\n",
    "while isvalid(roll, remaining):\n",
    "    print(\"Numbers left:\"+str(remaining))\n",
    "    print(\"Roll:\"+str(roll))\n",
    "    elim=input(\"Numbers to eliminate:\")\n",
    "    elim2=list(map(int, elim.split(' ')))\n",
    "    if sum(elim2) != roll:\n",
    "        raise ValueError(\"The sum must be equal to the sum of the dice\")\n",
    "    for i in elim2:\n",
    "        remaining.remove(i)\n",
    "    roll=random.randint(2,12)\n",
    "points=sum(remaining)\n",
    "print(\"Your score:\"+str(points))"
   ]
  }
 ],
 "metadata": {
  "kernelspec": {
   "display_name": "Python 3",
   "language": "python",
   "name": "python3"
  },
  "language_info": {
   "codemirror_mode": {
    "name": "ipython",
    "version": 3
   },
   "file_extension": ".py",
   "mimetype": "text/x-python",
   "name": "python",
   "nbconvert_exporter": "python",
   "pygments_lexer": "ipython3",
   "version": "3.6.1"
  }
 },
 "nbformat": 4,
 "nbformat_minor": 2
}
