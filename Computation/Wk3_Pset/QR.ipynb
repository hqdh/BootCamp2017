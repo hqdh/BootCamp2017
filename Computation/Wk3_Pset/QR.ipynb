{
 "cells": [
  {
   "cell_type": "code",
   "execution_count": 144,
   "metadata": {
    "collapsed": true
   },
   "outputs": [],
   "source": [
    "import numpy as np\n",
    "import pandas as pd\n",
    "from scipy import linalg as la\n",
    "from matplotlib import pyplot as plt\n",
    "import cmath"
   ]
  },
  {
   "cell_type": "markdown",
   "metadata": {},
   "source": [
    "# QR1"
   ]
  },
  {
   "cell_type": "markdown",
   "metadata": {},
   "source": [
    "# Problem 1"
   ]
  },
  {
   "cell_type": "code",
   "execution_count": 5,
   "metadata": {},
   "outputs": [
    {
     "data": {
      "text/plain": [
       "(True, True, True)"
      ]
     },
     "execution_count": 5,
     "metadata": {},
     "output_type": "execute_result"
    }
   ],
   "source": [
    "def QRdecom(A):\n",
    "    i=0\n",
    "    Q=np.copy(A)\n",
    "    while i in range(len(Q[0,:])):\n",
    "        Q[:,i]=Q[:,i]/np.linalg.norm(Q[:,i])\n",
    "        for j in range(i+1, len(Q[0,:]),1):\n",
    "            Q[:,j]-=np.dot(Q[:,j],Q[:,i])*Q[:,i]\n",
    "        i+=1\n",
    "    R=np.dot(Q.T,A)\n",
    "    return Q,R\n",
    "A = np.random.random((4,4))\n",
    "Q,R=QRdecom(A)\n",
    "np.allclose(np.triu(R), R), np.allclose(np.dot(Q.T, Q), np.identity(4)),np.allclose(np.dot(Q, R), A)"
   ]
  },
  {
   "cell_type": "markdown",
   "metadata": {},
   "source": [
    "# Problem 2"
   ]
  },
  {
   "cell_type": "code",
   "execution_count": 10,
   "metadata": {
    "collapsed": true
   },
   "outputs": [],
   "source": [
    "def absdet(A):\n",
    "    return abs(np.prod(np.diag(QRdecom(A)[1])))"
   ]
  },
  {
   "cell_type": "markdown",
   "metadata": {},
   "source": [
    "# Problem 3"
   ]
  },
  {
   "cell_type": "code",
   "execution_count": 8,
   "metadata": {
    "collapsed": true
   },
   "outputs": [],
   "source": [
    "def solve(A, b):\n",
    "    if absdet(A)==0:\n",
    "        raise ValueError(\"A has to be invertible.\")\n",
    "    Q,R=QRdecom(A)\n",
    "    y=np.dot(Q.T,b)\n",
    "    x=np.empty_like(y)\n",
    "    x[-1]=y[-1]/R[-1,-1]\n",
    "    i=2\n",
    "    while i <= (len(x)):\n",
    "        x[-i]=(y[-i]-np.dot(R[-i,(1-i):],x[(1-i):]))/R[-i,-i]\n",
    "        i+=1\n",
    "    return x"
   ]
  },
  {
   "cell_type": "markdown",
   "metadata": {},
   "source": [
    "# Problem 4"
   ]
  },
  {
   "cell_type": "code",
   "execution_count": 11,
   "metadata": {},
   "outputs": [],
   "source": [
    "sign = lambda x: 1 if x >= 0 else -1\n",
    "def hholder(A):\n",
    "    n,m=len(A[0,:]), len(A[:,0])\n",
    "    R=np.copy(A)\n",
    "    Q=np.eye(m)\n",
    "    i=0\n",
    "    v=np.copy(np.empty_like(R))\n",
    "    while i<n:\n",
    "        v[:i,i]=0\n",
    "        v[i,i]=R[i,i]+sign(R[i,i])*np.linalg.norm(R[i:,i])\n",
    "        v[(i+1):,i]=R[(i+1):,i]\n",
    "        H=np.eye(m-i)-2*np.dot(np.array([v[i:,i]]).T,np.array([v[i:,i]]))/(np.linalg.norm(v[i:,i])**2)\n",
    "        Qnew=la.block_diag(np.eye(i),np.copy(H))\n",
    "        R=np.dot(Qnew,R)\n",
    "        Q=np.dot(Qnew,Q)\n",
    "        i+=1\n",
    "    return Q.T,R\n",
    "Q,R=hholder(A)"
   ]
  },
  {
   "cell_type": "markdown",
   "metadata": {},
   "source": [
    "# Problem 5"
   ]
  },
  {
   "cell_type": "code",
   "execution_count": 126,
   "metadata": {},
   "outputs": [
    {
     "data": {
      "text/plain": [
       "(array([[ 1.        ,  0.        ,  0.        ,  0.        ,  0.        ,\n",
       "          0.        ,  0.        ,  0.        ,  0.        ,  0.        ],\n",
       "        [ 0.        ,  0.94348275,  0.03462453,  0.1051642 ,  0.1908987 ,\n",
       "          0.09004256,  0.10474702,  0.0571646 ,  0.03678932,  0.19349102],\n",
       "        [ 0.        ,  0.03462453,  0.97878775, -0.06442742, -0.1169515 ,\n",
       "         -0.05516335, -0.06417184, -0.03502112, -0.02253848, -0.11853965],\n",
       "        [ 0.        ,  0.1051642 , -0.06442742,  0.80431624, -0.35521381,\n",
       "         -0.16754625, -0.19490749, -0.10636875, -0.06845555, -0.36003747],\n",
       "        [ 0.        ,  0.1908987 , -0.1169515 , -0.35521381,  0.35520017,\n",
       "         -0.30413737, -0.3538047 , -0.19308527, -0.12426355, -0.65355593],\n",
       "        [ 0.        ,  0.09004256, -0.05516335, -0.16754625, -0.30413737,\n",
       "          0.85654534, -0.16688161, -0.09107392, -0.05861228, -0.30826743],\n",
       "        [ 0.        ,  0.10474702, -0.06417184, -0.19490749, -0.3538047 ,\n",
       "         -0.16688161,  0.80586569, -0.1059468 , -0.068184  , -0.35860922],\n",
       "        [ 0.        ,  0.0571646 , -0.03502112, -0.10636875, -0.19308527,\n",
       "         -0.09107392, -0.1059468 ,  0.94218063, -0.03721071, -0.19570728],\n",
       "        [ 0.        ,  0.03678932, -0.02253848, -0.06845555, -0.12426355,\n",
       "         -0.05861228, -0.068184  , -0.03721071,  0.97605237, -0.125951  ],\n",
       "        [ 0.        ,  0.19349102, -0.11853965, -0.36003747, -0.65355593,\n",
       "         -0.30826743, -0.35860922, -0.19570728, -0.125951  ,  0.33756906]]),\n",
       " array([[ 0.89686376,  0.50288048, -0.02831831,  0.05409961, -0.34751484,\n",
       "          0.07487399, -0.44430326, -0.05955548,  0.21761642, -0.81089191],\n",
       "        [ 0.93576351,  1.52140687,  0.52338178, -0.60045155, -1.18195255,\n",
       "          0.29865285,  0.06148455,  0.03596525,  0.13597846, -1.29289949],\n",
       "        [-0.12852339,  0.2168417 ,  0.19232303, -0.29008722, -0.00529921,\n",
       "          0.04091535,  0.03416726,  0.29027845,  0.08721886, -0.60043511],\n",
       "        [-0.39036082, -0.60035242, -0.26656457,  0.41131863,  0.52437553,\n",
       "         -0.47433216,  0.01003315,  0.10427753, -0.27409938,  0.08954556],\n",
       "        [-0.70860022, -1.63579243,  0.02066959,  0.6702747 ,  1.08162588,\n",
       "          0.79255322,  0.25722857, -0.4715916 , -0.93860557,  1.35270684],\n",
       "        [-0.33423056, -0.18614189, -0.27434955, -0.28381602,  0.74566995,\n",
       "          0.11605812, -0.25954382,  0.24709138,  0.32467214,  0.42113747],\n",
       "        [-0.38881228, -0.41258419, -0.09693642,  0.15526939, -0.06772838,\n",
       "          0.03319872,  0.44123171,  0.48314592,  0.030568  ,  0.29402753],\n",
       "        [-0.21219029, -0.44919842, -0.04694313, -0.27638749,  0.30833236,\n",
       "          0.22488101, -0.09249908, -0.10929962,  0.26472501, -0.02736213],\n",
       "        [-0.13655894,  0.03438087,  0.01645634,  0.26806332, -0.13390571,\n",
       "         -0.36026211,  0.17881384,  0.45535778, -0.28842256, -0.53158548],\n",
       "        [-0.71822271, -1.24417226, -0.04227367, -0.17676949,  1.23780558,\n",
       "          0.19341843,  0.50074154, -0.25701088, -0.18985867,  1.37650482]]))"
      ]
     },
     "execution_count": 126,
     "metadata": {},
     "output_type": "execute_result"
    }
   ],
   "source": [
    "sign = lambda x: 1 if x >= 0 else -1\n",
    "def hessenberg(A):\n",
    "    n=len(A[0,:])\n",
    "    H=np.copy(A)\n",
    "    Q=np.eye(n)\n",
    "    i=0\n",
    "    v=np.copy(np.empty_like(H))\n",
    "    while i<n:\n",
    "        if i<n-1:\n",
    "            v[:(i+1),i]=0\n",
    "            v[i+1,i+1]=R[i+1,i]+sign(H[i+1,i])*np.linalg.norm(H[(i+1):,i])\n",
    "            v[(i+2):,i]=H[(i+2):,i]\n",
    "            Hv=np.eye(n-i-1)-2*np.dot(np.array([v[(i+1):,i]]).T,np.array([v[(i+1):,i]]))/(np.linalg.norm(v[(i+1):,i])**2)\n",
    "            Qnew=la.block_diag(np.eye(i+1),np.copy(Hv))\n",
    "            H=np.dot(np.dot(Qnew,H),Qnew.T)\n",
    "            Q=np.dot(Qnew,Q)\n",
    "            i+=1\n",
    "        v[:,i]=0\n",
    "        Qnew=np.eye(n)\n",
    "        H=np.dot(np.dot(Qnew,H),Qnew.T)\n",
    "        Q=np.dot(Qnew,Q)\n",
    "        break\n",
    "    return Q.T,H\n",
    "hessenberg(A)"
   ]
  },
  {
   "cell_type": "markdown",
   "metadata": {
    "collapsed": true
   },
   "source": [
    "# QR2"
   ]
  },
  {
   "cell_type": "markdown",
   "metadata": {},
   "source": [
    "# Problem 1"
   ]
  },
  {
   "cell_type": "code",
   "execution_count": 12,
   "metadata": {},
   "outputs": [
    {
     "data": {
      "text/plain": [
       "array([ 0.22873323,  0.08967398,  1.10528564, -0.53470082])"
      ]
     },
     "execution_count": 12,
     "metadata": {},
     "output_type": "execute_result"
    }
   ],
   "source": [
    "def nsolve(A,b):\n",
    "    Q,R = QRdecom(A)\n",
    "    x=solve(R,np.dot(Q.T,b))\n",
    "    return x\n",
    "nsolve(A,np.ones(4))"
   ]
  },
  {
   "cell_type": "markdown",
   "metadata": {},
   "source": [
    "# Problem 2"
   ]
  },
  {
   "cell_type": "code",
   "execution_count": 69,
   "metadata": {},
   "outputs": [
    {
     "data": {
      "image/png": "[encoded data removed]",
      "text/plain": [
       "<matplotlib.figure.Figure at 0x118af1f98>"
      ]
     },
     "metadata": {},
     "output_type": "display_data"
    }
   ],
   "source": [
    "housing=np.load(\"housing.npy\")\n",
    "year=housing[:,0]\n",
    "b=housing[:,1]\n",
    "A=np.column_stack([year,np.ones(len(year))])\n",
    "xsolve=nsolve(A,b)\n",
    "\n",
    "x0=np.linspace(0,16,2)\n",
    "plt.plot(year,b, 'ko', markersize=3, label='Data points')\n",
    "plt.plot(x0,xsolve[0]*x+xsolve[1], label='Linear regression line')\n",
    "plt.legend()\n",
    "plt.show()"
   ]
  },
  {
   "cell_type": "markdown",
   "metadata": {},
   "source": [
    "# Problem 3"
   ]
  },
  {
   "cell_type": "code",
   "execution_count": 78,
   "metadata": {},
   "outputs": [
    {
     "data": {
      "image/png": "[encoded data removed]",
      "text/plain": [
       "<matplotlib.figure.Figure at 0x117f52d30>"
      ]
     },
     "metadata": {},
     "output_type": "display_data"
    }
   ],
   "source": [
    "x=np.linspace(0,16,1000)\n",
    "plt.subplot(221)\n",
    "A1=np.vander(year,4)\n",
    "x1=la.lstsq(A1,b)[0]\n",
    "plt.plot(year,b, 'ko', markersize=3, label='Data points')\n",
    "plt.plot(x,np.poly1d(x1)(x), label=\"Polynomial fit\")\n",
    "plt.title(\"Degree 3\")\n",
    "\n",
    "plt.subplot(222)\n",
    "A2=np.vander(year,7)\n",
    "x2=la.lstsq(A2,b)[0]\n",
    "plt.plot(year,b, 'ko', markersize=3, label='Data points')\n",
    "plt.plot(x,np.poly1d(x2)(x), label=\"Polynomial fit\")\n",
    "plt.title(\"Degree 6\")\n",
    "\n",
    "plt.subplot(223)\n",
    "A3=np.vander(year,10)\n",
    "x3=la.lstsq(A3,b)[0]\n",
    "plt.plot(year,b, 'ko', markersize=3, label='Data points')\n",
    "plt.plot(x,np.poly1d(x3)(x), label=\"Polynomial fit\")\n",
    "plt.title(\"Degree 9\")\n",
    "\n",
    "plt.subplot(224)\n",
    "A4=np.vander(year,10)\n",
    "x4=la.lstsq(A4,b)[0]\n",
    "plt.plot(year,b, 'ko', markersize=3, label='Data points')\n",
    "plt.plot(x,np.poly1d(x4)(x), label=\"Polynomial fit\")\n",
    "plt.title(\"Degree 12\")\n",
    "plt.show()\n",
    "\n"
   ]
  },
  {
   "cell_type": "markdown",
   "metadata": {},
   "source": [
    "# Problem 4"
   ]
  },
  {
   "cell_type": "code",
   "execution_count": 106,
   "metadata": {
    "collapsed": true
   },
   "outputs": [],
   "source": [
    "ellipse=np.load(\"ellipse.npy\")\n",
    "def plot_ellipse(a, b, c, d, e):\n",
    "    \"\"\"Plot an ellipse of the form ax^2 + bx + cxy + dy + ey^2 = 1.\"\"\"\n",
    "    theta = np.linspace(0, 2*np.pi, 200)\n",
    "    cos_t, sin_t = np.cos(theta), np.sin(theta)\n",
    "    A = a*(cos_t**2) + c*cos_t*sin_t + e*(sin_t**2)\n",
    "    B = b*cos_t + d*sin_t\n",
    "    r = (-B + np.sqrt(B**2 + 4*A))/(2*A)\n",
    "    plt.plot(r*cos_t, r*sin_t, lw=2)\n",
    "    plt.gca().set_aspect(\"equal\", \"datalim\")"
   ]
  },
  {
   "cell_type": "code",
   "execution_count": 112,
   "metadata": {},
   "outputs": [
    {
     "data": {
      "image/png": "[encoded data removed]",
      "text/plain": [
       "<matplotlib.figure.Figure at 0x1189c6d68>"
      ]
     },
     "metadata": {},
     "output_type": "display_data"
    }
   ],
   "source": [
    "x=ellipse[:,0]\n",
    "y=ellipse[:,1]\n",
    "A=np.column_stack([x**2,x,x*y,y,y**2])\n",
    "bstar=np.ones(len(x))\n",
    "z=la.lstsq(A,bstar)[0]\n",
    "a,b,c,d,e=tuple(z)\n",
    "plot_ellipse(a,b,c,d,e)\n",
    "plt.scatter(x,y)\n",
    "plt.show()\n"
   ]
  },
  {
   "cell_type": "markdown",
   "metadata": {},
   "source": [
    "# Problem 5"
   ]
  },
  {
   "cell_type": "code",
   "execution_count": 140,
   "metadata": {},
   "outputs": [
    {
     "data": {
      "text/plain": [
       "(2.3103325868368363,\n",
       " array([ 0.53619495,  0.30482649,  0.52992424,  0.42609737,  0.39648092]))"
      ]
     },
     "execution_count": 140,
     "metadata": {},
     "output_type": "execute_result"
    }
   ],
   "source": [
    "def maxeig(A,maxiter=500, tol=1e-9):\n",
    "    n=len(A[0,:])\n",
    "    x0=np.random.randn(n)\n",
    "    x0=x0/np.linalg.norm(x0)\n",
    "    i=0\n",
    "    x=np.zeros(n)\n",
    "    xnew=x0\n",
    "    while i<maxiter and np.linalg.norm(x-xnew)>tol:\n",
    "        i+=1\n",
    "        x=xnew\n",
    "        xnew=np.dot(A,x)\n",
    "        xnew=xnew/np.linalg.norm(xnew)\n",
    "    return np.dot(np.dot(xnew,A),xnew), xnew\n",
    "A = np.random.random((5,5))\n",
    "maxeig(A)"
   ]
  },
  {
   "cell_type": "markdown",
   "metadata": {},
   "source": [
    "# Problem 6"
   ]
  },
  {
   "cell_type": "code",
   "execution_count": 161,
   "metadata": {},
   "outputs": [
    {
     "data": {
      "text/plain": [
       "[[2.3103325868994249],\n",
       " [(-0.36233076549240717+0.19126654685279543j),\n",
       "  (-0.36233076549240717-0.19126654685279543j)],\n",
       " [-0.35330026512386492],\n",
       " [0.067351374652549825],\n",
       " [0.37731570954542865]]"
      ]
     },
     "execution_count": 161,
     "metadata": {},
     "output_type": "execute_result"
    }
   ],
   "source": [
    "def alleigs(A,maxiter=1000, tol=1e-9):\n",
    "    n=len(A[0,:])\n",
    "    S=la.hessenberg(A)\n",
    "    i=0\n",
    "    while i<maxiter:\n",
    "        i+=1\n",
    "        Q,R=QRdecom(S)\n",
    "        S=np.dot(R,Q)\n",
    "    j=0\n",
    "    eigs=[]\n",
    "    while j<n:\n",
    "        if j==n-1:\n",
    "            eigs.append([S[j,j]])\n",
    "            j+=1\n",
    "        if j<n-1 and S[j+1,j]<tol:\n",
    "            eigs.append([S[j,j]])\n",
    "            j+=1\n",
    "        if j< n-1 and S[j+1,j]>=tol:\n",
    "            T=S[j:(j+2),j:(j+2)]\n",
    "            a,b,c,d=(T[0,0],T[0,1],T[1,0],T[1,1])\n",
    "            delta=(a+d)**2-4*(a*d-b*c)\n",
    "            lambda1=(a+d+cmath.sqrt(delta))/2\n",
    "            lambda2=(a+d-cmath.sqrt(delta))/2\n",
    "            eigs.append([lambda1,lambda2])\n",
    "            j+=1\n",
    "    return eigs\n",
    "alleigs(A)"
   ]
  }
 ],
 "metadata": {
  "kernelspec": {
   "display_name": "Python 3",
   "language": "python",
   "name": "python3"
  },
  "language_info": {
   "codemirror_mode": {
    "name": "ipython",
    "version": 3
   },
   "file_extension": ".py",
   "mimetype": "text/x-python",
   "name": "python",
   "nbconvert_exporter": "python",
   "pygments_lexer": "ipython3",
   "version": "3.6.1"
  }
 },
 "nbformat": 4,
 "nbformat_minor": 2
}
