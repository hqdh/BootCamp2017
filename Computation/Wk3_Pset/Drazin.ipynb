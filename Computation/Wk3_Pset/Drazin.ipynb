{
 "cells": [
  {
   "cell_type": "code",
   "execution_count": 1,
   "metadata": {
    "collapsed": true
   },
   "outputs": [],
   "source": [
    "import numpy as np\n",
    "import pandas as pd\n",
    "from scipy import linalg as la\n",
    "from matplotlib import pyplot as plt\n",
    "import cmath"
   ]
  },
  {
   "cell_type": "markdown",
   "metadata": {},
   "source": [
    "# Problem 1"
   ]
  },
  {
   "cell_type": "code",
   "execution_count": 70,
   "metadata": {},
   "outputs": [
    {
     "data": {
      "text/plain": [
       "(True, True)"
      ]
     },
     "execution_count": 70,
     "metadata": {},
     "output_type": "execute_result"
    }
   ],
   "source": [
    "def isdrazin(A,k,Ad):\n",
    "    return np.all([[np.dot(A,Ad)==np.dot(Ad,A)], [np.dot(np.linalg.matrix_power(A,k+1),Ad)==np.linalg.matrix_power(A,k)], [np.dot(np.dot(Ad,A),Ad)==Ad]])\n",
    "A=np.array([[1,3,0,0],[0,1,3,0],[0,0,1,3],[0,0,0,0]])\n",
    "Ad=np.array([[1,-3,9,81],[0,1,-3,-18],[0,0,1,3],[0,0,0,0]])\n",
    "B=np.array([[1,1,3],[5,2,6],[-2,-1,-3]])\n",
    "Bd=np.zeros([3,3])\n",
    "isdrazin(A,1,Ad), isdrazin(B,3,Bd)\n",
    "                                    "
   ]
  },
  {
   "cell_type": "markdown",
   "metadata": {},
   "source": [
    "# Problem 2"
   ]
  },
  {
   "cell_type": "code",
   "execution_count": 75,
   "metadata": {},
   "outputs": [
    {
     "data": {
      "text/plain": [
       "array([[  1.,  -3.,   9.,  81.],\n",
       "       [  0.,   1.,  -3., -18.],\n",
       "       [  0.,   0.,   1.,   3.],\n",
       "       [  0.,   0.,   0.,   0.]])"
      ]
     },
     "execution_count": 75,
     "metadata": {},
     "output_type": "execute_result"
    }
   ],
   "source": [
    "def drazin(A,tol=1e-9):\n",
    "    n=len(A[0,:])\n",
    "    f=lambda x:abs(x)>tol\n",
    "    g=lambda x: abs(x)<=tol\n",
    "    Q1,S,k1=la.schur(A, sort=f)\n",
    "    Q2,T,k2=la.schur(A, sort=g)\n",
    "    U=np.column_stack([S[:,:k1],T[:,:(n-k1)]])\n",
    "    Uinv=np.linalg.inv(U)\n",
    "    V=np.dot(np.dot(Uinv,A),U)\n",
    "    Z=np.zeros([n,n])\n",
    "    if k1!=0:\n",
    "        Minv=np.linalg.inv(V[:(k1),:(k1)])\n",
    "        Z[:(k1),:(k1)]=Minv\n",
    "    return np.dot(np.dot(U,Z),Uinv)\n",
    "drazin(A,1e-16)\n"
   ]
  },
  {
   "cell_type": "markdown",
   "metadata": {},
   "source": [
    "# Problem 3"
   ]
  },
  {
   "cell_type": "code",
   "execution_count": 144,
   "metadata": {},
   "outputs": [
    {
     "data": {
      "text/plain": [
       "array([[ 0.,  1.,  2.,  3.],\n",
       "       [ 1.,  0.,  1.,  2.],\n",
       "       [ 2.,  1.,  0.,  1.],\n",
       "       [ 3.,  2.,  1.,  0.]])"
      ]
     },
     "execution_count": 144,
     "metadata": {},
     "output_type": "execute_result"
    }
   ],
   "source": [
    "def eff_res(A):\n",
    "    n=len(A[0,:])\n",
    "    L=np.empty_like(A)\n",
    "    for i in range(n):\n",
    "        for j in range(n):\n",
    "            if j==i:\n",
    "                L[i,j]=sum(A[i,:])\n",
    "            if j!=i:\n",
    "                L[i,j]=-A[i,j]\n",
    "    I=np.eye(n)\n",
    "    R=np.copy(L).astype(float)\n",
    "    for j in range(n):\n",
    "        L0=np.copy(L)\n",
    "        L0[j,:]=I[j,:]\n",
    "        L0d=drazin(L0)\n",
    "        R[:,j]=np.diag(L0d)\n",
    "        R[j,j]=0\n",
    "    return R\n",
    "C=np.array([[0,1,0,0],[1,0,1,0],[0,1,0,1],[0,0,1,0]])\n",
    "eff_res(C)"
   ]
  },
  {
   "cell_type": "markdown",
   "metadata": {},
   "source": [
    "# Problem 4"
   ]
  },
  {
   "cell_type": "code",
   "execution_count": 301,
   "metadata": {},
   "outputs": [],
   "source": [
    "class LinkPredictor(object):\n",
    "    def __init__(self, name):\n",
    "        self.name=name\n",
    "        data=np.array(pd.read_csv(self.name))\n",
    "        self.namelist=sorted(list(set(data[:,0]).union(set(data[:,1]))))\n",
    "        A=np.random.randn(len(self.namelist),len(self.namelist))\n",
    "        n=len(self.namelist)\n",
    "        name1=np.random.randn(len(data[:,0]),n)\n",
    "        name2=np.random.randn(len(data[:,1]),n)\n",
    "        for i in range(n):\n",
    "            name1[:,i]=data[:,0]==self.namelist[i]\n",
    "            name2[:,i]=data[:,1]==self.namelist[i]\n",
    "        for i in range(n):\n",
    "            for j in range(n):\n",
    "                A[i,j]=np.dot(name1[:,i],name2[:,j])+np.dot(name1[:,j],name2[:,i])\n",
    "        self.adjmatrix=A\n",
    "        self.eff_res=eff_res(A)\n",
    "        \n",
    "        "
   ]
  },
  {
   "cell_type": "markdown",
   "metadata": {},
   "source": [
    "# Problem 5"
   ]
  },
  {
   "cell_type": "code",
   "execution_count": 395,
   "metadata": {},
   "outputs": [
    {
     "data": {
      "text/plain": [
       "(('Oliver', 'Emily'), 'Carol', 'Sonia')"
      ]
     },
     "execution_count": 395,
     "metadata": {},
     "output_type": "execute_result"
    }
   ],
   "source": [
    "class LinkPredictor(object):\n",
    "    def __init__(self, name):\n",
    "        self.name=name\n",
    "        data=np.array(pd.read_csv(self.name))\n",
    "        self.namelist=sorted(list(set(data[:,0]).union(set(data[:,1]))))\n",
    "        A=np.random.randn(len(self.namelist),len(self.namelist))\n",
    "        n=len(self.namelist)\n",
    "        name1=np.random.randn(len(data[:,0]),n)\n",
    "        name2=np.random.randn(len(data[:,1]),n)\n",
    "        for i in range(n):\n",
    "            name1[:,i]=data[:,0]==self.namelist[i]\n",
    "            name2[:,i]=data[:,1]==self.namelist[i]\n",
    "        for i in range(n):\n",
    "            for j in range(n):\n",
    "                A[i,j]=np.dot(name1[:,i],name2[:,j])+np.dot(name1[:,j],name2[:,i])\n",
    "        self.adjmatrix=A\n",
    "        self.eff_res=eff_res(A)\n",
    "    def predict_link(self, node):\n",
    "        if node==None:\n",
    "            A=self.adjmatrix\n",
    "            D=self.eff_res\n",
    "            mask=D==0\n",
    "            D[mask]=np.max(D)+1\n",
    "            D[A==1]=np.max(D)+1\n",
    "            link=D.argmin()\n",
    "            return namelist[link//len(self.namelist)],namelist[link%len(self.namelist)]\n",
    "        if node in namelist:\n",
    "            A=self.adjmatrix\n",
    "            D=self.eff_res\n",
    "            mask=D==0\n",
    "            D[mask]=np.max(D)+1\n",
    "            D[A==1]=np.max(D)+1\n",
    "            i=namelist.index(node)\n",
    "            link=np.argmin(D[i,:])\n",
    "            return namelist[link]\n",
    "        else:\n",
    "            raise ValueError(\"Node has to be None or in name list.\")\n",
    "    def add_link(self, node1, node2):\n",
    "        if np.all([[node1 in namelist,node2 in namelist]]):\n",
    "            i=namelist.index(node1)\n",
    "            j=namelist.index(node2)\n",
    "            A=self.adjmatrix\n",
    "            A[i,j]=1\n",
    "            A[j,i]=1\n",
    "            self.adjmatrix=A\n",
    "        else:\n",
    "            raise ValueError(\"The two nodes have to be in the network.\")\n",
    "soc=LinkPredictor('social_network.csv')\n",
    "soc.predict_link(None), soc.predict_link('Melanie'), soc.predict_link('Alan')\n",
    "\n"
   ]
  }
 ],
 "metadata": {
  "kernelspec": {
   "display_name": "Python 3",
   "language": "python",
   "name": "python3"
  },
  "language_info": {
   "codemirror_mode": {
    "name": "ipython",
    "version": 3
   },
   "file_extension": ".py",
   "mimetype": "text/x-python",
   "name": "python",
   "nbconvert_exporter": "python",
   "pygments_lexer": "ipython3",
   "version": "3.6.1"
  }
 },
 "nbformat": 4,
 "nbformat_minor": 2
}
