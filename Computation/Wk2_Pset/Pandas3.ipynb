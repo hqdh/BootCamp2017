{
 "cells": [
  {
   "cell_type": "code",
   "execution_count": 39,
   "metadata": {
    "collapsed": true
   },
   "outputs": [],
   "source": [
    "import numpy as np\n",
    "import pandas as pd\n",
    "from pydataset import data\n",
    "from matplotlib import pyplot as plt"
   ]
  },
  {
   "cell_type": "markdown",
   "metadata": {},
   "source": [
    "# Problem 1"
   ]
  },
  {
   "cell_type": "code",
   "execution_count": 75,
   "metadata": {},
   "outputs": [
    {
     "data": {
      "image/png": "[encoded data removed]",
      "text/plain": [
       "<matplotlib.figure.Figure at 0x121c8f198>"
      ]
     },
     "metadata": {},
     "output_type": "display_data"
    },
    {
     "data": {
      "image/png": "[encoded data removed]",
      "text/plain": [
       "<matplotlib.figure.Figure at 0x120611e48>"
      ]
     },
     "metadata": {},
     "output_type": "display_data"
    }
   ],
   "source": [
    "diamonds=data(\"diamonds\")\n",
    "clarity=diamonds.groupby(\"clarity\")\n",
    "means=clarity.mean()\n",
    "errors=clarity.std()\n",
    "\n",
    "means.loc[:,[\"carat\"]].plot(kind=\"bar\", title=\"Clarity vs Mean Carat\")\n",
    "plt.xlabel(\"Clarity\")\n",
    "plt.ylabel(\"Carat\")\n",
    "plt.show()\n",
    "\n",
    "means.loc[:,[\"price\"]].plot(kind=\"bar\", color=\"orange\", title=\"Clarity vs Mean Price\")\n",
    "plt.xlabel(\"Clarity\")\n",
    "plt.ylabel(\"Price\")\n",
    "plt.show()"
   ]
  },
  {
   "cell_type": "raw",
   "metadata": {},
   "source": [
    "The two plots explain the relations between clarity and price. The clarity is arranged in an increasing order (that is, I1 < IF < SI1 < SI2 < VS1 < VS2 < VVS1 < VVS2 in terms of value). However, we noticed in the second plot that the average price of VVS2 diamond (most valuable in terms of clarity) is even lower than that of I1 (the least valuable) diamond. In fact, the type of diamond with highest average price is SI1. Plot 1 explains this seemingly strange result, as SI1 and I1 diamonds are usually much heavier than VVS2 diamonds, therefore on average their prices are higher.\n"
   ]
  },
  {
   "cell_type": "markdown",
   "metadata": {},
   "source": [
    "# Problem 2"
   ]
  },
  {
   "cell_type": "code",
   "execution_count": 116,
   "metadata": {},
   "outputs": [
    {
     "data": {
      "text/plain": [
       "(          Survived\n",
       " Embarked          \n",
       " C         0.555556\n",
       " Q         0.357724\n",
       " S         0.332968, Pclass    1.0  2.0  3.0\n",
       " Embarked               \n",
       " C         141   28  101\n",
       " Q           3    7  113\n",
       " S         177  242  494,                    Survived\n",
       " Embarked Age               \n",
       " C        (0, 12]         16\n",
       "          (12, 18]        21\n",
       "          (18, 80]       233\n",
       " Q        (0, 12]          5\n",
       "          (12, 18]         6\n",
       "          (18, 80]       112\n",
       " S        (0, 12]         73\n",
       "          (12, 18]        72\n",
       "          (18, 80]       768)"
      ]
     },
     "execution_count": 116,
     "metadata": {},
     "output_type": "execute_result"
    }
   ],
   "source": [
    "titanic=pd.read_csv('titanic.csv')\n",
    "meanage=titanic['Age'].mean()\n",
    "titanic['Age']=titanic['Age'].fillna(meanage)\n",
    "titanic=titanic.loc[:,[\"Survived\", \"Pclass\", \"Sex\", \"Age\", \"Fare\", \"Embarked\"]].dropna()\n",
    "age = pd.cut(titanic['Age'], [0,12,18,80])\n",
    "embark_town=titanic.groupby('Embarked').mean()['Survived']\n",
    "city=titanic.pivot_table(\"Survived\", index=['Embarked'])\n",
    "cityclass=titanic.pivot_table('Survived', index='Embarked', columns='Pclass', aggfunc='count')\n",
    "cityage=titanic.pivot_table(\"Survived\", index=['Embarked',age], aggfunc='count')\n",
    "city, cityclass, cityage"
   ]
  },
  {
   "cell_type": "raw",
   "metadata": {},
   "source": [
    "People departing from Cherbourg have a higher survival rate than those departing from the other two cities. As we can see, this is probably because there are much more first class passengers departing from Cherbourg (141/270 Cherbourg passengers who survived are first class, whereas the ratio is much smaller for those in Queenstown and Southampton). "
   ]
  }
 ],
 "metadata": {
  "kernelspec": {
   "display_name": "Python 3",
   "language": "python",
   "name": "python3"
  },
  "language_info": {
   "codemirror_mode": {
    "name": "ipython",
    "version": 3
   },
   "file_extension": ".py",
   "mimetype": "text/x-python",
   "name": "python",
   "nbconvert_exporter": "python",
   "pygments_lexer": "ipython3",
   "version": "3.6.1"
  }
 },
 "nbformat": 4,
 "nbformat_minor": 2
}
