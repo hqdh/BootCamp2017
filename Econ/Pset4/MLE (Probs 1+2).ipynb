{
 "cells": [
  {
   "cell_type": "markdown",
   "metadata": {},
   "source": [
    "# Problem 1"
   ]
  },
  {
   "cell_type": "code",
   "execution_count": 2,
   "metadata": {},
   "outputs": [
    {
     "name": "stdout",
     "output_type": "stream",
     "text": [
      "mean= 720.277975327 median= 172.21 standard deviation= 3972.66375639 max= 227967.25 min= 0.01\n"
     ]
    }
   ],
   "source": [
    "import numpy as np\n",
    "import scipy.optimize as opt\n",
    "import matplotlib.pyplot as plt\n",
    "import scipy.stats as stats\n",
    "import sympy as sy\n",
    "import scipy.integrate as integrate\n",
    "import scipy.special as spec\n",
    "\n",
    "clms=np.loadtxt('clms.txt')\n",
    "datamean=np.mean(clms)\n",
    "datamedian=np.median(clms)\n",
    "datamax=np.max(clms)\n",
    "datamin=np.min(clms)\n",
    "weights=np.ones(len(clms))/len(clms)\n",
    "datastd=np.std(clms)\n",
    "print('mean=',datamean,'median=',datamedian,'standard deviation=',datastd,\n",
    "        'max=',datamax,'min=',datamin)"
   ]
  },
  {
   "cell_type": "code",
   "execution_count": 3,
   "metadata": {},
   "outputs": [
    {
     "data": {
      "image/png": "[encoded data removed]",
      "text/plain": [
       "<matplotlib.figure.Figure at 0x10f8cc780>"
      ]
     },
     "metadata": {},
     "output_type": "display_data"
    },
    {
     "data": {
      "image/png": "[encoded data removed]",
      "text/plain": [
       "<matplotlib.figure.Figure at 0x10f8cca20>"
      ]
     },
     "metadata": {},
     "output_type": "display_data"
    }
   ],
   "source": [
    "weights=np.ones(len(clms))/len(clms)\n",
    "plt.hist(clms, bins=1000, weights=weights)\n",
    "plt.show()\n",
    "\n",
    "plt.hist(clms[clms<=800], bins=100, weights=weights[:len(clms[clms<=800])])\n",
    "plt.show()"
   ]
  },
  {
   "cell_type": "markdown",
   "metadata": {},
   "source": [
    "## GA distribution"
   ]
  },
  {
   "cell_type": "code",
   "execution_count": 4,
   "metadata": {
    "collapsed": true
   },
   "outputs": [],
   "source": [
    "def critGA(params, *args):\n",
    "    alpha,beta=params\n",
    "    xvals=args\n",
    "    pdf_vals=stats.gamma.pdf(xvals,alpha,scale=beta)\n",
    "    log_vals=np.log(pdf_vals)\n",
    "    return -log_vals.sum()\n"
   ]
  },
  {
   "cell_type": "code",
   "execution_count": 5,
   "metadata": {},
   "outputs": [
    {
     "name": "stderr",
     "output_type": "stream",
     "text": [
      "/Users/hqdhftw/anaconda/lib/python3.6/site-packages/ipykernel_launcher.py:5: RuntimeWarning: divide by zero encountered in log\n",
      "  \"\"\"\n"
     ]
    },
    {
     "name": "stdout",
     "output_type": "stream",
     "text": [
      "Estimated value of alpha= 0.472507980137 \n",
      "Estimated value of beta= 1524.39759189 \n",
      "Maximized LLF= -77723.47342611522\n"
     ]
    },
    {
     "data": {
      "text/plain": [
       "     fun: 77723.47342611522\n",
       "     jac: array([ 0.00097656,  0.00097656])\n",
       " message: 'Optimization terminated successfully.'\n",
       "    nfev: 208\n",
       "     nit: 42\n",
       "    njev: 41\n",
       "  status: 0\n",
       " success: True\n",
       "       x: array([  4.72507980e-01,   1.52439759e+03])"
      ]
     },
     "execution_count": 5,
     "metadata": {},
     "output_type": "execute_result"
    }
   ],
   "source": [
    "betaGA_init=(((datastd)**2)/datamean)\n",
    "alphaGA_init=datamean/betaGA_init\n",
    "params_initGA=np.array([alphaGA_init,betaGA_init])\n",
    "resultsGA=opt.minimize(critGA,params_initGA, args=(clms), method='SLSQP', bounds=((1e-6,None),(1e-6,None)), tol=1e-14)\n",
    "alphaGA,betaGA=resultsGA.x\n",
    "print('Estimated value of alpha=',alphaGA,'\\nEstimated value of beta=',betaGA,\n",
    "         '\\nMaximized LLF=',-resultsGA.fun)\n",
    "resultsGA"
   ]
  },
  {
   "cell_type": "code",
   "execution_count": 6,
   "metadata": {},
   "outputs": [
    {
     "data": {
      "image/png": "[encoded data removed]",
      "text/plain": [
       "<matplotlib.figure.Figure at 0x1185be1d0>"
      ]
     },
     "metadata": {},
     "output_type": "display_data"
    }
   ],
   "source": [
    "#Plot the second histogram vs GA:\n",
    "x=np.linspace(0,200000,200000)\n",
    "plt.hist(clms[clms<=800], bins=100, weights=weights[:len(clms[clms<=800])], normed=True)\n",
    "plt.plot(x,stats.gamma.pdf(x,alphaGA,scale=betaGA),'r-.',label='Estimated GA distribution')\n",
    "plt.xlim(0,800)\n",
    "plt.legend()\n",
    "plt.show()"
   ]
  },
  {
   "cell_type": "markdown",
   "metadata": {},
   "source": [
    "## GG distribution"
   ]
  },
  {
   "cell_type": "code",
   "execution_count": 7,
   "metadata": {
    "collapsed": true
   },
   "outputs": [],
   "source": [
    "def critGG(params,*args):\n",
    "    alpha,beta,m=params\n",
    "    xvals=args\n",
    "    pdf_vals=stats.gengamma.pdf(xvals,alpha,m, scale=beta)\n",
    "    log_vals=np.log(pdf_vals)\n",
    "    return -log_vals.sum()"
   ]
  },
  {
   "cell_type": "code",
   "execution_count": 8,
   "metadata": {},
   "outputs": [
    {
     "name": "stdout",
     "output_type": "stream",
     "text": [
      "Estimated value of alpha= 0.562937371015 \n",
      "Estimated value of beta= 1524.3973761 \n",
      " Estimated value of m= 0.799054918742 \n",
      "Maximized LLF= -77283.3357982\n"
     ]
    },
    {
     "data": {
      "text/plain": [
       "      fun: 77283.335798197571\n",
       " hess_inv: <3x3 LbfgsInvHessProduct with dtype=float64>\n",
       "      jac: array([ 0.71595423,  0.76834112,  0.04511094])\n",
       "  message: b'CONVERGENCE: REL_REDUCTION_OF_F_<=_FACTR*EPSMCH'\n",
       "     nfev: 40\n",
       "      nit: 6\n",
       "   status: 0\n",
       "  success: True\n",
       "        x: array([  5.62937371e-01,   1.52439738e+03,   7.99054919e-01])"
      ]
     },
     "execution_count": 8,
     "metadata": {},
     "output_type": "execute_result"
    }
   ],
   "source": [
    "params_initGG=np.array([alphaGA, betaGA, 1])\n",
    "resultsGG=opt.minimize(critGG, params_initGG, args=(clms), method='L-BFGS-B', bounds=((1e-6,None),(1e-6,None),\n",
    "                                                                                       (1e-6,None)))\n",
    "                                                                                          \n",
    "alphaGG, betaGG, m=resultsGG.x\n",
    "print('Estimated value of alpha=',alphaGG,'\\nEstimated value of beta=',betaGG,'\\n Estimated value of m=',m,\n",
    "         '\\nMaximized LLF=',-resultsGG.fun)\n",
    "resultsGG"
   ]
  },
  {
   "cell_type": "code",
   "execution_count": 9,
   "metadata": {},
   "outputs": [
    {
     "data": {
      "image/png": "[encoded data removed]",
      "text/plain": [
       "<matplotlib.figure.Figure at 0x1185a1978>"
      ]
     },
     "metadata": {},
     "output_type": "display_data"
    }
   ],
   "source": [
    "#Plot the second histogram vs GG:\n",
    "plt.hist(clms[clms<=800], bins=100, weights=weights[:len(clms[clms<=800])], normed=True)\n",
    "plt.plot(x, stats.gengamma.pdf(x, alphaGG, m, scale=betaGG),'r-.', label='Estimated GG distribution')\n",
    "plt.legend()\n",
    "plt.xlim(0,800)\n",
    "plt.show()"
   ]
  },
  {
   "cell_type": "markdown",
   "metadata": {},
   "source": [
    "## GB2 distribution"
   ]
  },
  {
   "cell_type": "code",
   "execution_count": 10,
   "metadata": {
    "collapsed": true
   },
   "outputs": [],
   "source": [
    "def GB2pdf(x,a,b,p,q):\n",
    "    A=abs(a)*x**(a*p-1)\n",
    "    B=(b**(a*p))*(spec.beta(p,q))\n",
    "    C=(1+(x/b)**a)**(p+q)\n",
    "    return A/(B*C)"
   ]
  },
  {
   "cell_type": "code",
   "execution_count": 11,
   "metadata": {
    "collapsed": true
   },
   "outputs": [],
   "source": [
    "def critGB2(params,*args):\n",
    "    a,b,p,q=params\n",
    "    xvals=args\n",
    "    pdf_vals=GB2pdf(xvals,a,b,p,q)\n",
    "    log_vals=np.log(pdf_vals)\n",
    "    return -log_vals.sum()"
   ]
  },
  {
   "cell_type": "code",
   "execution_count": 12,
   "metadata": {},
   "outputs": [
    {
     "name": "stdout",
     "output_type": "stream",
     "text": [
      "Estimated value of a= 0.104717381415 \n",
      "Estimated value of b= 27200.4542084 \n",
      "Estimated value of p= 64.516655514 \n",
      "Estimated value of q= 108.40901168 \n",
      "Maximized LLF= -74861.5538263\n"
     ]
    },
    {
     "data": {
      "text/plain": [
       "      fun: 74861.553826339528\n",
       " hess_inv: <4x4 LbfgsInvHessProduct with dtype=float64>\n",
       "      jac: array([  1.90062565e+01,  -1.45519152e-03,   1.02591002e+00,\n",
       "        -4.55474947e-01])\n",
       "  message: b'CONVERGENCE: REL_REDUCTION_OF_F_<=_FACTR*EPSMCH'\n",
       "     nfev: 760\n",
       "      nit: 97\n",
       "   status: 0\n",
       "  success: True\n",
       "        x: array([  1.04717381e-01,   2.72004542e+04,   6.45166555e+01,\n",
       "         1.08409012e+02])"
      ]
     },
     "execution_count": 12,
     "metadata": {},
     "output_type": "execute_result"
    }
   ],
   "source": [
    "q=10\n",
    "params_initGB2=np.array([m, betaGG*(q**(1/m)), alphaGG, q])\n",
    "resultsGB2=opt.minimize(critGB2, params_initGB2, args=(clms), method='L-BFGS-B', bounds=((1e-10,None),(1e-10,None),\n",
    "                                                                                       (1e-10,None), (1e-10,None)))                                                                                      \n",
    "aGB2, bGB2, pGB2, qGB2=resultsGB2.x\n",
    "print('Estimated value of a=',aGB2,'\\nEstimated value of b=',bGB2,'\\nEstimated value of p=',pGB2,\n",
    "         '\\nEstimated value of q=',qGB2,'\\nMaximized LLF=',-resultsGB2.fun)\n",
    "resultsGB2"
   ]
  },
  {
   "cell_type": "code",
   "execution_count": 13,
   "metadata": {},
   "outputs": [
    {
     "data": {
      "image/png": "[encoded data removed]",
      "text/plain": [
       "<matplotlib.figure.Figure at 0x11d4ffba8>"
      ]
     },
     "metadata": {},
     "output_type": "display_data"
    }
   ],
   "source": [
    "#plot the second histogram vs GB2:\n",
    "plt.hist(clms[clms<=800], bins=100, weights=weights[:len(clms[clms<=800])], normed=True)\n",
    "plt.plot(x, GB2pdf(x,aGB2,bGB2,pGB2,qGB2), 'r-.', label='Estimated GB2 distribution')\n",
    "plt.legend()\n",
    "plt.xlim(0,800)\n",
    "plt.show()"
   ]
  },
  {
   "cell_type": "markdown",
   "metadata": {
    "collapsed": true
   },
   "source": [
    "## Likelihood test"
   ]
  },
  {
   "cell_type": "code",
   "execution_count": 14,
   "metadata": {},
   "outputs": [
    {
     "data": {
      "text/plain": [
       "(0.0, 0.0)"
      ]
     },
     "execution_count": 14,
     "metadata": {},
     "output_type": "execute_result"
    }
   ],
   "source": [
    "q=10000\n",
    "log_lik_GA = np.log(GB2pdf(clms, 1, q*betaGA, alphaGA, q)).sum()\n",
    "log_lik_GG = np.log(GB2pdf(clms, m, q**(1/m)*betaGG, alphaGG, q)).sum()\n",
    "log_lik_GB2= np.log(GB2pdf(clms, aGB2,bGB2,pGB2,qGB2)).sum()\n",
    "LR_GA=2*(log_lik_GB2-log_lik_GA)\n",
    "LR_GG=2*(log_lik_GB2-log_lik_GG)\n",
    "pval_GA = 1.0 - stats.chi2.cdf(LR_GA, 4)\n",
    "pval_GG = 1.0 - stats.chi2.cdf(LR_GG, 4)\n",
    "pval_GA, pval_GG"
   ]
  },
  {
   "cell_type": "code",
   "execution_count": 15,
   "metadata": {},
   "outputs": [
    {
     "name": "stdout",
     "output_type": "stream",
     "text": [
      "Probability of monthly healthcare >$1,000 using GB2= 0.1313834231482699 \n",
      "Probability of monthly healthcare >$1,000 using GA = 0.236780829325\n"
     ]
    }
   ],
   "source": [
    "probGB2=integrate.quad(lambda x: GB2pdf(x,aGB2,bGB2,pGB2,qGB2), 0, 1000)[0]\n",
    "probGA=stats.gamma.cdf(1000,alphaGA,scale=betaGA)\n",
    "print('Probability of monthly healthcare >$1,000 using GB2=',1-probGB2,\n",
    "     '\\nProbability of monthly healthcare >$1,000 using GA =',1-probGA)"
   ]
  },
  {
   "cell_type": "markdown",
   "metadata": {},
   "source": [
    "# Problem 2"
   ]
  },
  {
   "cell_type": "code",
   "execution_count": 16,
   "metadata": {
    "collapsed": true
   },
   "outputs": [],
   "source": [
    "import pandas as pd"
   ]
  },
  {
   "cell_type": "code",
   "execution_count": 17,
   "metadata": {
    "collapsed": true
   },
   "outputs": [],
   "source": [
    "macro = pd.read_csv('MacroSeries.txt', sep=',', header = None)\n",
    "macro.columns=['c_t','k_t','w_t','r_t']\n",
    "beta=0.99\n",
    "c=np.array(macro['c_t'])\n",
    "k=np.array(macro['k_t'])\n",
    "w=np.array(macro['w_t'])\n",
    "r=np.array(macro['r_t'])"
   ]
  },
  {
   "cell_type": "markdown",
   "metadata": {},
   "source": [
    "## MLE estimation using w and k"
   ]
  },
  {
   "cell_type": "code",
   "execution_count": 18,
   "metadata": {
    "collapsed": true
   },
   "outputs": [],
   "source": [
    "def MLEfunc_wk(alpha, rho, mu, sigma):\n",
    "    z=np.zeros(100)\n",
    "    z[0]=mu\n",
    "    probz=np.empty_like(z)\n",
    "    probz[0]=1\n",
    "    for t in range(1,100,1):\n",
    "        z[t]=np.log(w[t])-alpha*np.log(k[t])-np.log(1-alpha)\n",
    "        probz[t]=stats.norm.pdf(z[t], loc=rho*z[t-1]+(1-rho)*mu, scale=sigma)\n",
    "    return z, probz"
   ]
  },
  {
   "cell_type": "code",
   "execution_count": 19,
   "metadata": {
    "collapsed": true
   },
   "outputs": [],
   "source": [
    "def crit1(params):\n",
    "    alpha, rho, mu, sigma=params\n",
    "    probz=MLEfunc_wk(alpha, rho, mu, sigma)[1]\n",
    "    log_vals=np.log(probz)\n",
    "    return -log_vals.sum()"
   ]
  },
  {
   "cell_type": "code",
   "execution_count": 25,
   "metadata": {},
   "outputs": [
    {
     "name": "stdout",
     "output_type": "stream",
     "text": [
      "Estimated values: \n",
      "alpha= 0.48631399148 \n",
      "rho= 0.701902428778 \n",
      "mu= 9.1303320528 \n",
      "sigma= 0.0923158509393 \n",
      "VCV matrix= <4x4 LbfgsInvHessProduct with dtype=float64>\n"
     ]
    },
    {
     "data": {
      "text/plain": [
       "      fun: -95.396482276710287\n",
       " hess_inv: <4x4 LbfgsInvHessProduct with dtype=float64>\n",
       "      jac: array([  1.42108547e-05,   8.52651283e-06,   0.00000000e+00,\n",
       "        -1.42108547e-06])\n",
       "  message: b'CONVERGENCE: REL_REDUCTION_OF_F_<=_FACTR*EPSMCH'\n",
       "     nfev: 305\n",
       "      nit: 41\n",
       "   status: 0\n",
       "  success: True\n",
       "        x: array([ 0.48631399,  0.70190243,  9.13033205,  0.09231585])"
      ]
     },
     "execution_count": 25,
     "metadata": {},
     "output_type": "execute_result"
    }
   ],
   "source": [
    "params_init=np.array([0.5,0.4,9,0.1])\n",
    "results1=opt.minimize(crit1, params_init, method='L-BFGS-B', bounds=((1e-6,0.999),(-1,0.999), \n",
    "                                                                               (1e-6,None), (1e-6,None)), tol=1e-16)\n",
    "alpha1, rho1, mu1, sigma1=results1.x\n",
    "vcv1=results1.hess_inv\n",
    "print('Estimated values: \\nalpha=',alpha1,'\\nrho=',rho1,'\\nmu=',mu1,'\\nsigma=',sigma1\n",
    "         ,'\\nVCV matrix=',vcv1)\n",
    "results1"
   ]
  },
  {
   "cell_type": "markdown",
   "metadata": {},
   "source": [
    "## MLE estimation using r and k"
   ]
  },
  {
   "cell_type": "code",
   "execution_count": 21,
   "metadata": {
    "collapsed": true
   },
   "outputs": [],
   "source": [
    "def MLEfunc_rk(alpha, rho, mu, sigma):\n",
    "    z=np.zeros(100)\n",
    "    z[0]=mu\n",
    "    probz=np.empty_like(z)\n",
    "    probz[0]=1\n",
    "    for t in range(1,100,1):\n",
    "        z[t]=np.log(r[t])+(1-alpha)*np.log(k[t])-np.log(alpha)\n",
    "        probz[t]=stats.norm.pdf(z[t], loc=rho*z[t-1]+(1-rho)*mu, scale=sigma)\n",
    "    return z, probz"
   ]
  },
  {
   "cell_type": "code",
   "execution_count": 22,
   "metadata": {
    "collapsed": true
   },
   "outputs": [],
   "source": [
    "def crit2(params):\n",
    "    alpha, rho, mu, sigma=params\n",
    "    probz=MLEfunc_rk(alpha, rho, mu, sigma)[1]\n",
    "    log_vals=np.log(probz)\n",
    "    return -log_vals.sum()"
   ]
  },
  {
   "cell_type": "code",
   "execution_count": 30,
   "metadata": {},
   "outputs": [
    {
     "name": "stdout",
     "output_type": "stream",
     "text": [
      "Estimated values: \n",
      "alpha= 0.48624225239 \n",
      "rho= 0.701957174516 \n",
      "mu= 8.86360209194 \n",
      "sigma= 0.3 \n",
      "VCV matrix= <4x4 LbfgsInvHessProduct with dtype=float64>\n"
     ]
    },
    {
     "data": {
      "text/plain": [
       "      fun: -23.531173331098888\n",
       " hess_inv: <4x4 LbfgsInvHessProduct with dtype=float64>\n",
       "      jac: array([ -1.62359015e-04,  -4.12114787e-05,  -7.10542736e-06,\n",
       "         2.98751866e+02])\n",
       "  message: b'CONVERGENCE: REL_REDUCTION_OF_F_<=_FACTR*EPSMCH'\n",
       "     nfev: 210\n",
       "      nit: 27\n",
       "   status: 0\n",
       "  success: True\n",
       "        x: array([ 0.48624225,  0.70195717,  8.86360209,  0.3       ])"
      ]
     },
     "execution_count": 30,
     "metadata": {},
     "output_type": "execute_result"
    }
   ],
   "source": [
    "params_init=np.array([0.4,0.4,9,0.2])\n",
    "results2=opt.minimize(crit2, params_init, method='L-BFGS-B', bounds=((1e-6,0.999),(-1,0.999), \n",
    "                                                                               (1e-6,None), (3e-1,None)))\n",
    "alpha2,rho2,mu2,sigma2=results2.x\n",
    "vcv2=results2.hess_inv\n",
    "print('Estimated values: \\nalpha=',alpha2,'\\nrho=',rho2,'\\nmu=',mu2,'\\nsigma=',sigma2\n",
    "         ,'\\nVCV matrix=',vcv2)\n",
    "results2"
   ]
  },
  {
   "cell_type": "markdown",
   "metadata": {
    "collapsed": true
   },
   "source": [
    "## Estimate probability of r>1"
   ]
  },
  {
   "cell_type": "code",
   "execution_count": 32,
   "metadata": {},
   "outputs": [
    {
     "data": {
      "text/plain": [
       "0.99643662424259694"
      ]
     },
     "execution_count": 32,
     "metadata": {},
     "output_type": "execute_result"
    }
   ],
   "source": [
    "kt=7500000\n",
    "oldz=10\n",
    "#value of zstar such that r=1:\n",
    "zstar=(1-alpha2)*np.log(kt)-np.log(alpha2)\n",
    "#P(r>1|params)=P(z>zstar):\n",
    "prob_r=1-stats.norm.cdf(zstar, loc=rho2*oldz+(1-rho2)*mu2, scale=sigma2)\n",
    "prob_r"
   ]
  }
 ],
 "metadata": {
  "kernelspec": {
   "display_name": "Python 3",
   "language": "python",
   "name": "python3"
  },
  "language_info": {
   "codemirror_mode": {
    "name": "ipython",
    "version": 3
   },
   "file_extension": ".py",
   "mimetype": "text/x-python",
   "name": "python",
   "nbconvert_exporter": "python",
   "pygments_lexer": "ipython3",
   "version": "3.6.1"
  }
 },
 "nbformat": 4,
 "nbformat_minor": 2
}
