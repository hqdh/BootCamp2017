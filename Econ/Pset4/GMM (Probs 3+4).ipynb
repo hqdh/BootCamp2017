{
 "cells": [
  {
   "cell_type": "code",
   "execution_count": 314,
   "metadata": {},
   "outputs": [],
   "source": [
    "import numpy as np\n",
    "import scipy.optimize as opt\n",
    "import matplotlib.pyplot as plt\n",
    "from scipy import linalg as la\n",
    "import scipy.stats as stats\n",
    "import sympy as sy\n",
    "import scipy.integrate as integrate\n",
    "import scipy.special as spec\n",
    "\n",
    "income=np.loadtxt('usincmoms.txt')\n",
    "income[:,1]=income[:,1]/1000\n",
    "originalincome=np.copy(income[:,0])\n",
    "income[:,0]=np.append(income[:-2,0],[income[-2,0]/10,income[-1,0]/20])"
   ]
  },
  {
   "cell_type": "markdown",
   "metadata": {},
   "source": [
    "# Problem 3"
   ]
  },
  {
   "cell_type": "markdown",
   "metadata": {},
   "source": [
    "## Plot the histogram of US income"
   ]
  },
  {
   "cell_type": "code",
   "execution_count": 229,
   "metadata": {},
   "outputs": [
    {
     "data": {
      "image/png": "[encoded data removed]",
      "text/plain": [
       "<matplotlib.figure.Figure at 0x112929940>"
      ]
     },
     "metadata": {},
     "output_type": "display_data"
    }
   ],
   "source": [
    "bins=list(range(0,205,5))+[250,350]\n",
    "plt.hist(income[:,1], weights=income[:,0], bins=bins, edgecolor='black')\n",
    "plt.xlabel('Income class')\n",
    "plt.ylabel('Percent')\n",
    "plt.show()"
   ]
  },
  {
   "cell_type": "markdown",
   "metadata": {},
   "source": [
    "## LN distribution"
   ]
  },
  {
   "cell_type": "code",
   "execution_count": 469,
   "metadata": {},
   "outputs": [],
   "source": [
    "inc_moments=income[:,0]\n",
    "def model_moments_LN(mu, sigma):\n",
    "    A=np.empty_like(inc_moments)\n",
    "    for i in range(40):\n",
    "        A[i]=stats.lognorm.pdf(income[:,1][i],sigma, scale=np.exp(mu))\n",
    "    A[40]=stats.lognorm.pdf(income[:,1][-2], sigma, scale=np.exp(mu))\n",
    "    A[41]=stats.lognorm.pdf(income[:,1][-1], sigma, scale=np.exp(mu))\n",
    "    return A\n"
   ]
  },
  {
   "cell_type": "code",
   "execution_count": 470,
   "metadata": {},
   "outputs": [],
   "source": [
    "def err_vecLN(mu, sigma, simple=False):\n",
    "    if simple==True:\n",
    "        return model_moments_LN(mu,sigma)-inc_moments\n",
    "    else:\n",
    "        return (model_moments_LN(mu,sigma)-inc_moments)/inc_moments"
   ]
  },
  {
   "cell_type": "code",
   "execution_count": 471,
   "metadata": {},
   "outputs": [],
   "source": [
    "def critLN(params, *args):\n",
    "    mu, sigma=params\n",
    "    W=args\n",
    "    err=err_vecLN(mu,sigma, False)\n",
    "    return np.dot(np.dot(err.T,W),err)"
   ]
  },
  {
   "cell_type": "code",
   "execution_count": 472,
   "metadata": {},
   "outputs": [
    {
     "name": "stdout",
     "output_type": "stream",
     "text": [
      "Estimated value of mu= 3.75062196967 \n",
      "Estimated value of sigma= 0.706316352498 \n",
      "Minimized value of criterion funciton= 0.6130014889865019\n"
     ]
    }
   ],
   "source": [
    "#Solve for mu and sigma:\n",
    "W=np.diag(inc_moments)\n",
    "params_initLN=np.array([5, 2])\n",
    "resultsLN=opt.minimize(critLN, params_initLN, args=(W), method='L-BFGS-B', bounds=((1e-9,350),(1e-9,None)))\n",
    "muLN,sigmaLN=resultsLN.x\n",
    "print('Estimated value of mu=',muLN,'\\nEstimated value of sigma=',sigmaLN,\n",
    "     '\\nMinimized value of criterion funciton=',float(resultsLN.fun))"
   ]
  },
  {
   "cell_type": "code",
   "execution_count": 473,
   "metadata": {},
   "outputs": [
    {
     "data": {
      "image/png": "[encoded data removed]",
      "text/plain": [
       "<matplotlib.figure.Figure at 0x11f299b38>"
      ]
     },
     "metadata": {},
     "output_type": "display_data"
    }
   ],
   "source": [
    "#Plot the histogram vs LN distribution:\n",
    "plt.plot(income[:,1], stats.lognorm.pdf(income[:,1], sigmaLN, scale=np.exp(muLN)), label='Estimated LN distribution')\n",
    "plt.hist(income[:,1], weights=income[:,0], bins=bins, edgecolor='black', normed=True)\n",
    "plt.xlabel('Income class')\n",
    "plt.ylabel('Percent')\n",
    "plt.legend()\n",
    "plt.show()"
   ]
  },
  {
   "cell_type": "markdown",
   "metadata": {},
   "source": [
    "## GA distribution"
   ]
  },
  {
   "cell_type": "code",
   "execution_count": 478,
   "metadata": {},
   "outputs": [],
   "source": [
    "def model_moments_GA(alpha, beta):\n",
    "    A=np.empty_like(inc_moments)\n",
    "    for i in range(40):\n",
    "        A[i]=stats.gamma.pdf(income[:,1][i],alpha, scale=beta)\n",
    "    A[40]=stats.gamma.pdf(income[:,1][-2],alpha, scale=beta)\n",
    "    A[41]=stats.gamma.pdf(income[:,1][-1],alpha, scale=beta)\n",
    "    return A"
   ]
  },
  {
   "cell_type": "code",
   "execution_count": 479,
   "metadata": {
    "collapsed": true
   },
   "outputs": [],
   "source": [
    "def err_vecGA(alpha,beta, simple=False):\n",
    "    if simple==True:\n",
    "        return model_moments_GA(alpha,beta)-inc_moments\n",
    "    else:\n",
    "        return (model_moments_GA(alpha,beta)-inc_moments)/inc_moments"
   ]
  },
  {
   "cell_type": "code",
   "execution_count": 480,
   "metadata": {
    "collapsed": true
   },
   "outputs": [],
   "source": [
    "def critGA(params,*args):\n",
    "    alpha, beta=params\n",
    "    W=args\n",
    "    errGA=err_vecGA(alpha,beta, False)\n",
    "    return np.dot(np.dot(errGA.T,W),errGA)"
   ]
  },
  {
   "cell_type": "code",
   "execution_count": 481,
   "metadata": {},
   "outputs": [
    {
     "name": "stdout",
     "output_type": "stream",
     "text": [
      "Estimated value of alpha= 1.66804783006 \n",
      "Estimated value of beta= 31.4986778985 \n",
      "Minimized value of criterion function= 0.6055150162636782\n"
     ]
    }
   ],
   "source": [
    "#Solve for alpha and beta:\n",
    "params_initGA=np.array([3, 200])\n",
    "resultsGA=opt.minimize(critGA, params_initGA, args=(W), method='L-BFGS-B', bounds=((1e-9,None),(1e-9,None)))\n",
    "alphaGA,betaGA=resultsGA.x\n",
    "print('Estimated value of alpha=',alphaGA,'\\nEstimated value of beta=',betaGA,\n",
    "     '\\nMinimized value of criterion function=',float(resultsGA.fun))"
   ]
  },
  {
   "cell_type": "code",
   "execution_count": 468,
   "metadata": {},
   "outputs": [
    {
     "data": {
      "image/png": "[encoded data removed]",
      "text/plain": [
       "<matplotlib.figure.Figure at 0x11f1825f8>"
      ]
     },
     "metadata": {},
     "output_type": "display_data"
    }
   ],
   "source": [
    "#Plot the histogram vs GA distribution\n",
    "plt.plot(income[:,1], stats.gamma.pdf(income[:,1], alphaGA, scale=betaGA), label='Estimated GA distribution')\n",
    "plt.hist(income[:,1], weights=income[:,0], bins=bins, edgecolor='black', normed=True)\n",
    "plt.xlabel('Income class')\n",
    "plt.ylabel('Percent')\n",
    "plt.legend()\n",
    "plt.show()"
   ]
  },
  {
   "cell_type": "markdown",
   "metadata": {},
   "source": [
    "## Compare LN vs GA"
   ]
  },
  {
   "cell_type": "code",
   "execution_count": 488,
   "metadata": {},
   "outputs": [
    {
     "data": {
      "image/png": "[encoded data removed]",
      "text/plain": [
       "<matplotlib.figure.Figure at 0x11f6a8f28>"
      ]
     },
     "metadata": {},
     "output_type": "display_data"
    }
   ],
   "source": [
    "plt.plot(income[:,1], stats.lognorm.pdf(income[:,1], sigmaLN, scale=np.exp(muLN)), 'g-.'\n",
    "         ,label='Estimated LN distribution')\n",
    "plt.plot(income[:,1], stats.gamma.pdf(income[:,1], alphaGA, scale=betaGA), label='Estimated GA distribution')\n",
    "plt.hist(income[:,1], weights=income[:,0], bins=bins, edgecolor='black', normed=True, facecolor='orange')\n",
    "plt.xlabel('Income class')\n",
    "plt.ylabel('Percent')\n",
    "plt.legend()\n",
    "plt.show()"
   ]
  },
  {
   "cell_type": "markdown",
   "metadata": {},
   "source": [
    "The GA distribution fits the data better."
   ]
  },
  {
   "cell_type": "code",
   "execution_count": 326,
   "metadata": {},
   "outputs": [
    {
     "data": {
      "text/plain": [
       "      fun: array([ 18.86443966])\n",
       " hess_inv: <2x2 LbfgsInvHessProduct with dtype=float64>\n",
       "      jac: array([ -7.10542736e-07,   0.00000000e+00])\n",
       "  message: b'CONVERGENCE: NORM_OF_PROJECTED_GRADIENT_<=_PGTOL'\n",
       "     nfev: 153\n",
       "      nit: 37\n",
       "   status: 0\n",
       "  success: True\n",
       "        x: array([  7.91172835,  15.61630762])"
      ]
     },
     "execution_count": 326,
     "metadata": {},
     "output_type": "execute_result"
    }
   ],
   "source": [
    "params_initGA=np.array([3, 200])\n",
    "resultsGA2=opt.minimize(critGA, params_initGA, args=(np.eye(42)), method='L-BFGS-B', bounds=((1e-9,None),(1e-9,None)))\n",
    "alphaGA2,betaGA2=resultsGA2.x"
   ]
  },
  {
   "cell_type": "code",
   "execution_count": 339,
   "metadata": {},
   "outputs": [
    {
     "data": {
      "text/plain": [
       "array([[  3.20243791e+01,   2.02914212e+01,   2.02999028e+01, ...,\n",
       "          3.25293249e+00,   3.20000000e+01,   1.60000000e+01],\n",
       "       [ -1.70451404e+00,   1.53809705e+00,   1.78069556e-01, ...,\n",
       "         -6.74485282e-02,   1.50000000e+00,  -2.00000000e+00],\n",
       "       [  2.08138861e+01,  -1.65700557e+01,   1.52310970e+01, ...,\n",
       "         -5.84798130e+00,   0.00000000e+00,  -4.80000000e+01],\n",
       "       ..., \n",
       "       [  7.31410812e+01,  -5.05315666e+00,   6.74310501e+01, ...,\n",
       "         -9.80982012e-01,   2.56000000e+02,   6.40000000e+01],\n",
       "       [ -5.41410179e-02,   1.07288846e+00,   1.46840098e+00, ...,\n",
       "          1.94016909e-01,   4.00000000e+00,   0.00000000e+00],\n",
       "       [ -1.72493719e+01,  -1.79262020e+01,  -4.68861861e+00, ...,\n",
       "         -4.00414271e+00,  -3.20000000e+01,  -1.60000000e+01]])"
      ]
     },
     "execution_count": 339,
     "metadata": {},
     "output_type": "execute_result"
    }
   ],
   "source": [
    "sigma2=(1/42) * np.dot(np.array([err_vecGA(alphaGA2,betaGA2)]).T,np.array([err_vecGA(alphaGA2,betaGA2)]))"
   ]
  },
  {
   "cell_type": "markdown",
   "metadata": {},
   "source": [
    "# Problem 4"
   ]
  },
  {
   "cell_type": "code",
   "execution_count": 458,
   "metadata": {
    "collapsed": true
   },
   "outputs": [],
   "source": [
    "import pandas as pd"
   ]
  },
  {
   "cell_type": "code",
   "execution_count": 459,
   "metadata": {
    "collapsed": true
   },
   "outputs": [],
   "source": [
    "macro = pd.read_csv('MacroSeries.txt', sep=',', header = None)\n",
    "macro.columns=['c_t','k_t','w_t','r_t']\n",
    "beta=0.99\n",
    "c=np.array(macro['c_t'])\n",
    "k=np.array(macro['k_t'])\n",
    "w=np.array(macro['w_t'])\n",
    "r=np.array(macro['r_t'])"
   ]
  },
  {
   "cell_type": "code",
   "execution_count": 460,
   "metadata": {
    "collapsed": true
   },
   "outputs": [],
   "source": [
    "def getz(alpha, beta, rho, mu):\n",
    "    z=np.zeros(100)\n",
    "    for t in range(100):\n",
    "        z[t]=np.log(w[t])-alpha*np.log(k[t])-np.log(1-alpha)\n",
    "    return z"
   ]
  },
  {
   "cell_type": "code",
   "execution_count": 461,
   "metadata": {
    "collapsed": true
   },
   "outputs": [],
   "source": [
    "def model_moments(alpha, beta, rho, mu):\n",
    "    z=getz(alpha, beta, rho, mu)\n",
    "    moment1=np.zeros(99)\n",
    "    moment2=np.zeros(99)\n",
    "    moment3=np.zeros(99)\n",
    "    moment4=np.zeros(99)\n",
    "    for t in range(99):\n",
    "        moment1[t]=z[t+1]-rho*z[t]-(1-rho)*mu\n",
    "        moment2[t]=z[t]*(z[t+1]-rho*z[t]-(1-rho)*mu)\n",
    "        moment3[t]=(beta*alpha*np.exp(z[t+1])*(k[t+1]**(alpha-1))*(c[t]/c[t+1]))-1\n",
    "        moment4[t]=w[t]*((beta*alpha*np.exp(z[t+1])*(k[t+1]**(alpha-1))*(c[t]/c[t+1]))-1)\n",
    "    return moment1, moment2, moment3, moment4"
   ]
  },
  {
   "cell_type": "code",
   "execution_count": 462,
   "metadata": {},
   "outputs": [],
   "source": [
    "def critBM(params, *args):\n",
    "    alpha, beta, rho, mu=params\n",
    "    W=args\n",
    "    m=model_moments(alpha,beta,rho,mu)\n",
    "    mean1=m[0].mean()\n",
    "    mean2=m[1].mean()\n",
    "    mean3=m[2].mean()\n",
    "    mean4=m[3].mean()\n",
    "    e=np.array([mean1,mean2,mean3,mean4])\n",
    "    return np.dot(np.dot(e.T,W),e)"
   ]
  },
  {
   "cell_type": "code",
   "execution_count": 492,
   "metadata": {},
   "outputs": [
    {
     "name": "stdout",
     "output_type": "stream",
     "text": [
      "Estimated values of parameters:\n",
      "alpha= 0.492495690446 \n",
      "beta= 0.738743690603 \n",
      "rho= 0.8 \n",
      "mu= 9.0 \n",
      "Minimized value of criterion function= 0.03012967597978603\n"
     ]
    }
   ],
   "source": [
    "params_initBM=np.array([0.5,0.75,0.8,9])\n",
    "resultsBM=opt.minimize(critBM, params_initBM, args=(np.eye(4)), method='L-BFGS-B', bounds=((1e-9,1),(1e-9,1),\n",
    "                                                                                         (-1,1),(1e-9,None)))\n",
    "alphaBM, betaBM, rhoBM, muBM=resultsBM.x\n",
    "print('Estimated values of parameters:\\nalpha=',alphaBM,'\\nbeta=',betaBM,'\\nrho=',rhoBM,'\\nmu=',muBM, \n",
    "     '\\nMinimized value of criterion function=',float(resultsBM.fun))"
   ]
  }
 ],
 "metadata": {
  "kernelspec": {
   "display_name": "Python 3",
   "language": "python",
   "name": "python3"
  },
  "language_info": {
   "codemirror_mode": {
    "name": "ipython",
    "version": 3
   },
   "file_extension": ".py",
   "mimetype": "text/x-python",
   "name": "python",
   "nbconvert_exporter": "python",
   "pygments_lexer": "ipython3",
   "version": "3.6.1"
  }
 },
 "nbformat": 4,
 "nbformat_minor": 2
}
