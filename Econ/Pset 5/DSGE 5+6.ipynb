{
 "cells": [
  {
   "cell_type": "markdown",
   "metadata": {
    "collapsed": true
   },
   "source": [
    "# Exercise 5"
   ]
  },
  {
   "cell_type": "code",
   "execution_count": 1,
   "metadata": {
    "collapsed": true
   },
   "outputs": [],
   "source": [
    "def Modeldefs5(Xp, X, Z, params):\n",
    " \n",
    "    # unpack input vectors\n",
    "    kp = Xp\n",
    "    k = X\n",
    "    z = Z\n",
    "    \n",
    "    # find definintion values\n",
    "    Y = k**alpha*(np.exp(z))**(1-alpha)\n",
    "    w = (1-alpha)*Y\n",
    "    r = alpha*Y/k\n",
    "    T = tau*(w+(r-delta)*k)\n",
    "    c = (1-tau)*(w + (r - delta)*k) + k + T - kp\n",
    "    u = (c**(1-gamma)-1)/(1-gamma)\n",
    "    return Y, w, r, c, u"
   ]
  },
  {
   "cell_type": "code",
   "execution_count": 2,
   "metadata": {
    "collapsed": true
   },
   "outputs": [],
   "source": [
    "def Modeldyn5(theta0, params):\n",
    "\n",
    "    # unpack theat0\n",
    "    (Xpp, Xp, X, Zp, Z) = theta0\n",
    "    \n",
    "    # find definitions for now and next period\n",
    "    Y, w, r, c, u = Modeldefs5(Xp, X, Z, params)\n",
    "    Yp, wp, rp, cp, up = Modeldefs5(Xpp, Xp, Zp, params)\n",
    "    \n",
    "    # Evaluate Euler equations\n",
    "    E2 = (c**(-gamma)) / (beta*cp**(-gamma)*(1 + (rp - delta)*(1-tau))) - 1\n",
    "    \n",
    "    \n",
    "    return E2"
   ]
  },
  {
   "cell_type": "code",
   "execution_count": 5,
   "metadata": {
    "collapsed": true
   },
   "outputs": [],
   "source": [
    "import numpy as np\n",
    "import scipy as sp\n",
    "import matplotlib.pyplot as plt\n",
    "import scipy.optimize as opt\n",
    "from LinApp_FindSS import LinApp_FindSS\n",
    "from LinApp_Deriv import LinApp_Deriv\n",
    "from LinApp_Solve import LinApp_Solve"
   ]
  },
  {
   "cell_type": "markdown",
   "metadata": {
    "collapsed": true
   },
   "source": [
    "Next we set our parameter values."
   ]
  },
  {
   "cell_type": "code",
   "execution_count": 4,
   "metadata": {
    "collapsed": true
   },
   "outputs": [],
   "source": [
    "# set parameter values\n",
    "alpha = .40\n",
    "beta = .98\n",
    "gamma = 2.5\n",
    "delta = .10\n",
    "chi = 10.\n",
    "tau=0.05\n",
    "rho = .9\n",
    "sigma = .02\n",
    "\n",
    "# make parameter list to pass to functions\n",
    "params = (alpha, beta, gamma, delta, tau, rho, sigma)\n",
    "\n",
    "# set LinApp parameters\n",
    "Zbar = np.array([0.])\n",
    "nx = 1\n",
    "ny = 1\n",
    "nz = 1\n",
    "logX = 0\n",
    "Sylv = 0"
   ]
  },
  {
   "cell_type": "markdown",
   "metadata": {},
   "source": [
    "### Finding the Steady State"
   ]
  },
  {
   "cell_type": "code",
   "execution_count": 6,
   "metadata": {},
   "outputs": [
    {
     "name": "stdout",
     "output_type": "stream",
     "text": [
      "kbar:  [ 7.28749795]\n",
      "check:  [ 0.]\n"
     ]
    }
   ],
   "source": [
    "# take a guess for steady state values of k and ell\n",
    "guessXY = 0.25\n",
    "\n",
    "# find the steady state values using LinApp_FindSS\n",
    "XYbar = LinApp_FindSS(Modeldyn5, params, guessXY, Zbar, nx, ny)\n",
    "(kbar) = XYbar\n",
    "print ('kbar: ', XYbar)\n",
    "\n",
    "# set up steady state input vector\n",
    "theta0 = np.array([kbar, kbar, kbar, 0., 0.])\n",
    "\n",
    "# check SS solution\n",
    "check = Modeldyn5(theta0, params)\n",
    "print ('check: ', check)\n",
    "if np.max(np.abs(check)) > 1.E-6:\n",
    "    print ('Have NOT found steady state')"
   ]
  },
  {
   "cell_type": "markdown",
   "metadata": {},
   "source": [
    "We can get the steady states for all the other variables using our definintions function"
   ]
  },
  {
   "cell_type": "code",
   "execution_count": 7,
   "metadata": {},
   "outputs": [
    {
     "name": "stdout",
     "output_type": "stream",
     "text": [
      "Ybar:  [ 2.21325461]\n",
      "wbar:  [ 1.32795277]\n",
      "rbar:  [ 0.12148228]\n",
      "cbar:  [ 1.48450482]\n",
      "ubar:  [ 0.2980828]\n",
      "ibar:  [ 0.7287498]\n"
     ]
    }
   ],
   "source": [
    "Ybar, wbar, rbar, cbar, ubar = Modeldefs5(kbar, kbar, 0, params)\n",
    "print ('Ybar: ', Ybar)\n",
    "print ('wbar: ', wbar)\n",
    "print ('rbar: ', rbar)\n",
    "print ('cbar: ', cbar)\n",
    "print ('ubar: ', ubar)\n",
    "print ('ibar: ', Ybar-cbar)"
   ]
  },
  {
   "cell_type": "markdown",
   "metadata": {},
   "source": [
    "# Exercise 6"
   ]
  },
  {
   "cell_type": "code",
   "execution_count": 10,
   "metadata": {
    "collapsed": true
   },
   "outputs": [],
   "source": [
    "def Modeldefs6(Xp, X, Z, params):\n",
    "    # unpack input vectors\n",
    "    (kp, ellp)=Xp\n",
    "    (k, ell)=X\n",
    "    z= Z\n",
    "    \n",
    "    # find definintion values\n",
    "    Y = k**alpha*(np.exp(z)*ell)**(1-alpha)\n",
    "    w = (1-alpha)*Y/ell\n",
    "    r = alpha*Y/k\n",
    "    T = tau*(w*ell+(r-delta)*k)\n",
    "    c = (1-tau)*(w*ell + (r - delta)*k) + k + T - kp\n",
    "    u = (c**(1-gamma)-1)/(1-gamma) + a*((1-ell)**(1-xi)-1)/(1-xi)\n",
    "    return Y, w, r, c, u"
   ]
  },
  {
   "cell_type": "code",
   "execution_count": 11,
   "metadata": {
    "collapsed": true
   },
   "outputs": [],
   "source": [
    "def Modeldyn6(theta0, params):    \n",
    "    Xpp=theta0[:2]\n",
    "    Xp=theta0[2:4]\n",
    "    X=theta0[4:6]\n",
    "    Zp=theta0[6]\n",
    "    Z=theta0[7]\n",
    "    # find definitions for now and next period\n",
    "    Y, w, r, c, u = Modeldefs6(Xp, X, Z, params)\n",
    "    Yp, wp, rp, cp, up = Modeldefs6(Xpp, Xp, Zp, params)\n",
    "    \n",
    "    # Evaluate Euler equations\n",
    "    ell=Xp[1]\n",
    "    E1 = (c**(-gamma) * w * (1-tau)* (1-ell)**(xi) )/(a) - 1\n",
    "    E2 = (c**(-gamma)) / (beta * cp**(-gamma) * (1 + (1-tau)*(rp - delta))) - 1\n",
    "    \n",
    "    \n",
    "    return np.array([E1, E2])"
   ]
  },
  {
   "cell_type": "code",
   "execution_count": 12,
   "metadata": {
    "collapsed": true
   },
   "outputs": [],
   "source": [
    "\n",
    "# set parameter values\n",
    "alpha = .4\n",
    "beta = .98\n",
    "gamma = 2.5\n",
    "delta = .1\n",
    "xi=1.5\n",
    "rho = .9\n",
    "a=0.5\n",
    "tau=0.05\n",
    "sigma = .02\n",
    "\n",
    "# make parameter list to pass to functions\n",
    "params = (alpha, beta, gamma, delta, tau, a, rho, xi, sigma)\n",
    "\n",
    "# set LinApp parameters\n",
    "Zbar = np.array([0.])\n",
    "nx = 2\n",
    "ny = 0\n",
    "nz = 1\n",
    "logX = 0\n",
    "Sylv = 0"
   ]
  },
  {
   "cell_type": "code",
   "execution_count": 14,
   "metadata": {},
   "outputs": [
    {
     "name": "stdout",
     "output_type": "stream",
     "text": [
      "Xbar:  [ 4.22522903  0.57979145]\n",
      "check:  [ -4.88498131e-15   0.00000000e+00]\n"
     ]
    }
   ],
   "source": [
    "# take a guess for steady state values of k and ell\n",
    "guessXY = np.array([3, .25])\n",
    "\n",
    "# find the steady state values using LinApp_FindSS\n",
    "XYbar = LinApp_FindSS(Modeldyn6, params, guessXY, Zbar, nx, ny)\n",
    "(kbar, ellbar) = XYbar\n",
    "print ('Xbar: ', XYbar)\n",
    "\n",
    "# set up steady state input vector\n",
    "theta0 = np.array([kbar, ellbar, kbar, ellbar, kbar, ellbar, 0., 0.])\n",
    "\n",
    "# check SS solution\n",
    "check = Modeldyn6(theta0, params)\n",
    "print ('check: ', check)\n",
    "if np.max(np.abs(check)) > 1.E-6:\n",
    "    print ('Have NOT found steady state')"
   ]
  }
 ],
 "metadata": {
  "celltoolbar": "Raw Cell Format",
  "kernelspec": {
   "display_name": "Python 3",
   "language": "python",
   "name": "python3"
  },
  "language_info": {
   "codemirror_mode": {
    "name": "ipython",
    "version": 3
   },
   "file_extension": ".py",
   "mimetype": "text/x-python",
   "name": "python",
   "nbconvert_exporter": "python",
   "pygments_lexer": "ipython3",
   "version": "3.6.1"
  }
 },
 "nbformat": 4,
 "nbformat_minor": 2
}
