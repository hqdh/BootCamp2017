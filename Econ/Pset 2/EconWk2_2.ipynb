{
 "cells": [
  {
   "cell_type": "code",
   "execution_count": 129,
   "metadata": {
    "collapsed": true
   },
   "outputs": [],
   "source": [
    "import numpy as np\n",
    "import matplotlib.pyplot as plt\n",
    "import scipy.stats\n",
    "from numba import jit"
   ]
  },
  {
   "cell_type": "markdown",
   "metadata": {},
   "source": [
    "# Exercise 1"
   ]
  },
  {
   "cell_type": "raw",
   "metadata": {},
   "source": [
    "We have:\n",
    "norm(Uw-Uw') = beta. sup_y | \\int w(f(y-varphi(y))z)phi(dz) - w'(f(y-varphi(y))z)phi(dz) | \n",
    "             = beta. sup_y | \\int [ w(f(y-varphi(y))z) - w'(f(y-varphi(y))z) ] phi(dz) |\n",
    "             =<beta. sup_t | w(t)-w'(t) | \\int phi(dz) \n",
    "             =<beta norm (w-w')\n",
    "Since beta<1, U is a contraction mapping."
   ]
  },
  {
   "cell_type": "code",
   "execution_count": 103,
   "metadata": {
    "collapsed": true
   },
   "outputs": [],
   "source": [
    "class LogLinearOG:\n",
    "    \"\"\"\n",
    "    Log linear optimal growth model, with log utility, CD production and\n",
    "    multiplicative lognormal shock, so that\n",
    "\n",
    "        y = f(k, z) = z k^alpha\n",
    "\n",
    "    with z ~ LN(mu, s).\n",
    "\n",
    "    The class holds parameters and true value and policy functions.\n",
    "    \"\"\"\n",
    "\n",
    "    def __init__(self, alpha=0.4, beta=0.96, mu=0, s=0.1):\n",
    "\n",
    "        self.alpha, self.beta, self.mu, self.s = alpha, beta, mu, s \n",
    "\n",
    "        # == Some useful constants == #\n",
    "        self.ab = alpha * beta\n",
    "        self.c1 = np.log(1 - self.ab) / (1 - beta)\n",
    "        self.c2 = (mu + alpha * np.log(self.ab)) / (1 - alpha)\n",
    "        self.c3 = 1 / (1 - beta)\n",
    "        self.c4 = 1 / (1 - self.ab)\n",
    "\n",
    "    def u(self, c):\n",
    "        \" Utility \"\n",
    "        return np.log(c)\n",
    "\n",
    "    def u_prime(self, c):\n",
    "        return 1 / c\n",
    "\n",
    "    def f(self, k):\n",
    "        \" Deterministic part of production function.  \"\n",
    "        return k**self.alpha\n",
    "\n",
    "    def f_prime(self, k):\n",
    "        return self.alpha * k**(self.alpha - 1)\n",
    "\n",
    "    def c_star(self, y):\n",
    "        \" True optimal policy.  \"\n",
    "        return (1 - self.alpha * self.beta) * y\n",
    "\n",
    "    def v_star(self, y):\n",
    "        \" True value function. \"\n",
    "        return self.c1 + self.c2 * (self.c3 - self.c4) + self.c4 * np.log(y)"
   ]
  },
  {
   "cell_type": "markdown",
   "metadata": {},
   "source": [
    "# Exercise 2"
   ]
  },
  {
   "cell_type": "code",
   "execution_count": 131,
   "metadata": {},
   "outputs": [
    {
     "data": {
      "image/png": "[encoded data removed]",
      "text/plain": [
       "<matplotlib.figure.Figure at 0x9d61908>"
      ]
     },
     "metadata": {},
     "output_type": "display_data"
    }
   ],
   "source": [
    "def u(c, gamma):\n",
    "    return (c**(1-gamma)-1)/(1-gamma)\n",
    "def f(k, alpha):\n",
    "    return k**(alpha)\n",
    "def operator1(w, grid, beta, alpha, gamma, mu, s):\n",
    "    w_func= lambda x: np.interp(x,grid,w)\n",
    "    shocks=np.exp(mu + s * np.random.randn(shock_size))\n",
    "    gridw_func=np.empty_like(grid)\n",
    "    for i in range(len(grid)):\n",
    "        gridw_func[i]=np.mean(w_func(f(0.05*grid, alpha)[i]*shocks))\n",
    "    return u(0.95*grid, gamma)+beta*gridw_func\n",
    "alpha=0.4\n",
    "beta=0.96\n",
    "grid_max=4\n",
    "grid_size=200\n",
    "shock_size=250\n",
    "mu=0\n",
    "gamma=0.5\n",
    "tol=1e-3\n",
    "s=0.1\n",
    "grid=np.linspace(1e-5,grid_max,grid_size)\n",
    "w=5*np.log(grid)\n",
    "while np.linalg.norm(w-operator(w, grid, beta, alpha, gamma, mu, s))>tol:\n",
    "    w=operator1(w, grid, beta, alpha, gamma, mu, s)\n",
    "plt.plot(grid, w)\n",
    "plt.show()"
   ]
  },
  {
   "cell_type": "code",
   "execution_count": 105,
   "metadata": {},
   "outputs": [
    {
     "data": {
      "image/png": "[encoded data removed]",
      "text/plain": [
       "<matplotlib.figure.Figure at 0x87bd668>"
      ]
     },
     "metadata": {},
     "output_type": "display_data"
    }
   ],
   "source": [
    "lg = LogLinearOG()\n",
    "# == Unpack parameters / functions for convenience == #\n",
    "alpha, beta, mu, s = lg.alpha, lg.beta, lg.mu, lg.s\n",
    "v_star = lg.v_star\n",
    "plt.plot(grid, v_star(grid))\n",
    "plt.show()"
   ]
  },
  {
   "cell_type": "code",
   "execution_count": 128,
   "metadata": {},
   "outputs": [
    {
     "data": {
      "image/png": "[encoded data removed]",
      "text/plain": [
       "<matplotlib.figure.Figure at 0x9365128>"
      ]
     },
     "metadata": {},
     "output_type": "display_data"
    }
   ],
   "source": [
    "def operator2(w, grid, beta, alpha, gamma, mu, s):\n",
    "    w_func= lambda x: np.interp(x,grid,w)\n",
    "    shocks=np.exp(mu + s * np.random.randn(shock_size))\n",
    "    gridw_func=np.empty_like(grid)\n",
    "    for i in range(len(grid)):\n",
    "        gridw_func[i]=np.mean(w_func(f(grid-scipy.stats.lognorm.cdf(grid, 0.5)*grid, alpha)[i]*shocks))\n",
    "    return u(scipy.stats.lognorm.cdf(grid, 0.5)*grid, gamma)+beta*gridw_func\n",
    "w=5*np.log(grid)\n",
    "while np.linalg.norm(w-operator2(w, grid, beta, alpha, gamma, mu, s))>1e-2:\n",
    "    w=operator2(w, grid, beta, alpha, gamma, mu, s)\n",
    "plt.plot(grid, w)\n",
    "plt.show()\n"
   ]
  },
  {
   "cell_type": "raw",
   "metadata": {},
   "source": [
    "The plots of the two operators do not resemble that of v_star, hence both policy functions are not optimal."
   ]
  }
 ],
 "metadata": {
  "kernelspec": {
   "display_name": "Python 3",
   "language": "python",
   "name": "python3"
  },
  "language_info": {
   "codemirror_mode": {
    "name": "ipython",
    "version": 3
   },
   "file_extension": ".py",
   "mimetype": "text/x-python",
   "name": "python",
   "nbconvert_exporter": "python",
   "pygments_lexer": "ipython3",
   "version": "3.6.1"
  }
 },
 "nbformat": 4,
 "nbformat_minor": 2
}
