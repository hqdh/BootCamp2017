{
 "cells": [
  {
   "cell_type": "code",
   "execution_count": 102,
   "metadata": {
    "collapsed": true
   },
   "outputs": [],
   "source": [
    "import numpy as np\n",
    "from matplotlib import pyplot as plt"
   ]
  },
  {
   "cell_type": "markdown",
   "metadata": {},
   "source": [
    "# Exercise 1"
   ]
  },
  {
   "cell_type": "code",
   "execution_count": 2,
   "metadata": {
    "collapsed": true
   },
   "outputs": [],
   "source": [
    "A = [[0.6, 0.1, -0.3],\n",
    "     [0.5, -0.4, 0.2],\n",
    "     [1.0, -0.2, 1.1]]\n",
    "\n",
    "b = [[12],\n",
    "     [10],\n",
    "     [-1]]\n",
    "\n",
    "A, b = map(np.asarray, (A, b))"
   ]
  },
  {
   "cell_type": "code",
   "execution_count": 29,
   "metadata": {
    "collapsed": true
   },
   "outputs": [],
   "source": [
    "from scipy.linalg import eigvals, solve\n",
    "evs = eigvals(A)\n",
    "rho = max(abs(evs))"
   ]
  },
  {
   "cell_type": "code",
   "execution_count": 65,
   "metadata": {},
   "outputs": [
    {
     "name": "stdout",
     "output_type": "stream",
     "text": [
      "[[ -6.67910172e-13]\n",
      " [ -3.16191517e-13]\n",
      " [ -5.82645043e-13]]\n"
     ]
    }
   ],
   "source": [
    "tol=1e-12\n",
    "x=np.ones(3).reshape(3,1)\n",
    "while np.linalg.norm(x-np.dot(A,x)-b)>tol:\n",
    "    x=np.dot(A,x)+b\n",
    "print(x-np.dot(A,x)-b)"
   ]
  },
  {
   "cell_type": "code",
   "execution_count": 64,
   "metadata": {},
   "outputs": [
    {
     "data": {
      "text/plain": [
       "array([[ -0.89552239],\n",
       "       [ 13.34328358],\n",
       "       [ 45.64179104]])"
      ]
     },
     "execution_count": 64,
     "metadata": {},
     "output_type": "execute_result"
    }
   ],
   "source": [
    "I=np.eye(3)\n",
    "np.linalg.solve(A-I,-b)"
   ]
  },
  {
   "cell_type": "markdown",
   "metadata": {},
   "source": [
    "# Exercise 2"
   ]
  },
  {
   "cell_type": "raw",
   "metadata": {},
   "source": [
    "Let f(x)=c(1-beta)+beta \\sigma_1^K max{wk,x}pk.\n",
    "|f(x)-f(y)|=beta |\\sigma_1^K pk (max{wk,x}-max{wk,y})| =< beta \\sigma_1^K pk|max{wk,x}-max{wk,y}| \n",
    "                                                       =< beta |x-y| \\sigma pk \n",
    "                                                       =beta|x-y|\n",
    "beta<1 => f is a contraction mapping. Hence there exists a unique x that solves f(x)=x.                                                    "
   ]
  },
  {
   "cell_type": "markdown",
   "metadata": {},
   "source": [
    "# Exercise 3"
   ]
  },
  {
   "cell_type": "code",
   "execution_count": 66,
   "metadata": {
    "collapsed": true
   },
   "outputs": [],
   "source": [
    "c_vals = np.linspace(1, 2, 100)"
   ]
  },
  {
   "cell_type": "code",
   "execution_count": 110,
   "metadata": {},
   "outputs": [
    {
     "data": {
      "image/png": "[encoded data removed]",
      "text/plain": [
       "<matplotlib.figure.Figure at 0x11b997668>"
      ]
     },
     "metadata": {},
     "output_type": "display_data"
    }
   ],
   "source": [
    "beta=0.96\n",
    "wage=(0.5,1,1.5)\n",
    "prob=(0.2,0.4,0.4)\n",
    "def rewage(c):\n",
    "    tol=1e-16\n",
    "    bestwage=np.empty_like(wage)\n",
    "    xstart=0\n",
    "    xnew=1\n",
    "    while abs(xnew-xstart)>tol:\n",
    "        xstart=xnew\n",
    "        for i in range(3):\n",
    "            bestwage[i]=max(wage[i],xstart)\n",
    "        xnew=c*(1-beta)+beta*np.dot(bestwage,prob)\n",
    "    return xnew\n",
    "reservationwage=np.vectorize(rewage)\n",
    "reservationwage(c_vals)\n",
    "plt.plot(c_vals,reservationwage(c_vals))\n",
    "plt.show()"
   ]
  }
 ],
 "metadata": {
  "kernelspec": {
   "display_name": "Python 3",
   "language": "python",
   "name": "python3"
  },
  "language_info": {
   "codemirror_mode": {
    "name": "ipython",
    "version": 3
   },
   "file_extension": ".py",
   "mimetype": "text/x-python",
   "name": "python",
   "nbconvert_exporter": "python",
   "pygments_lexer": "ipython3",
   "version": "3.6.1"
  }
 },
 "nbformat": 4,
 "nbformat_minor": 2
}
