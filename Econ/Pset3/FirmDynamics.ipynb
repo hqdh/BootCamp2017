{
 "cells": [
  {
   "cell_type": "code",
   "execution_count": 145,
   "metadata": {
    "collapsed": true
   },
   "outputs": [],
   "source": [
    "import numpy as np\n",
    "from matplotlib import pyplot as plt\n",
    "import seaborn as sns\n",
    "import numba\n",
    "from numba import jit"
   ]
  },
  {
   "cell_type": "code",
   "execution_count": 11,
   "metadata": {},
   "outputs": [],
   "source": [
    "import ar1_approx as ar"
   ]
  },
  {
   "cell_type": "markdown",
   "metadata": {},
   "source": [
    "# Exercise 1"
   ]
  },
  {
   "cell_type": "code",
   "execution_count": 28,
   "metadata": {
    "collapsed": true
   },
   "outputs": [],
   "source": [
    "#parameters:\n",
    "alpha_k=0.297\n",
    "alpha_l=0.650\n",
    "delta = 0.154\n",
    "psi = 1.08\n",
    "w = 0.7\n",
    "r= 0.04\n",
    "z = 1\n",
    "mu=0\n",
    "rho=0.7605\n",
    "sigma_z=0.213\n",
    "sizez=9\n",
    "betafirm = (1 / (1 + r))\n",
    "sigma_eps=sigma_z*((1 - rho ** 2) ** (1 / 2))"
   ]
  },
  {
   "cell_type": "code",
   "execution_count": 177,
   "metadata": {},
   "outputs": [
    {
     "data": {
      "text/plain": [
       "1.0842021724855044e-19"
      ]
     },
     "execution_count": 177,
     "metadata": {},
     "output_type": "execute_result"
    }
   ],
   "source": [
    "dens = 5\n",
    "kstar = (((alpha_k/(r+delta))**(1-alpha_l))*((alpha_l/w)**(alpha_l)))**(1-alpha_k-alpha_l)      \n",
    "kbar = 2*kstar\n",
    "lb_k = 0.001\n",
    "ub_k = kbar\n",
    "krat = np.log(lb_k / ub_k)\n",
    "numb = np.ceil(krat / np.log(1 - delta))\n",
    "K = np.zeros(int(numb * dens))\n",
    "for j in range(int(numb * dens)):\n",
    "    K[j] = ub_k * (1 - delta) ** (j / dens)\n",
    "kvec = K[::-1]\n",
    "sizek = kvec.shape[0]\n",
    "z_grid, pi=ar.addacooper(sizez,mu,rho,sigma_z)\n",
    "realz=np.exp(z_grid)\n",
    "kvec[5]*(1-delta)-kvec[0]"
   ]
  },
  {
   "cell_type": "code",
   "execution_count": 158,
   "metadata": {},
   "outputs": [],
   "source": [
    "# operating profits, op\n",
    "op = ((1 - alpha_l) * ((alpha_l / w) ** (alpha_l / (1 - alpha_l)))*\n",
    "      ((kvec ** alpha_k) ** (1 / (1 - alpha_l))))\n",
    "#define profit as a function of both z and k:\n",
    "profit=np.dot(np.array([op]).T,np.array([realz**(1/(1-alpha_l))])).T\n",
    "# firm cash flow, e:\n",
    "e = np.zeros((sizez,sizek, sizek))\n",
    "for l in range(sizez):\n",
    "    for i in range(sizek):\n",
    "        for j in range(sizek):\n",
    "                e[l,i, j] = (profit[l,i] - kvec[j] + ((1 - delta) * kvec[i]) -\n",
    "                           ((psi / 2) * ((kvec[j] - ((1 - delta) * kvec[i])) ** 2)\n",
    "                            / kvec[i]))\n"
   ]
  },
  {
   "cell_type": "code",
   "execution_count": 159,
   "metadata": {},
   "outputs": [],
   "source": [
    "VFtol = 1e-5\n",
    "VFdist = 7.0\n",
    "VFmaxiter = 200\n",
    "V = np.zeros((sizez,sizek))  # initial guess at value function\n",
    "Vmat = np.zeros((sizez, sizek, sizek))  # initialize Vmat matrix\n",
    "Vstore = np.zeros((sizez,sizek, VFmaxiter))  # initialize Vstore array\n",
    "VFiter = 1"
   ]
  },
  {
   "cell_type": "code",
   "execution_count": 212,
   "metadata": {},
   "outputs": [],
   "source": [
    "@jit\n",
    "def VFI(VFtol, VFmaxiter):\n",
    "    VFtol = 1e-5\n",
    "    VFdist = 7.0\n",
    "    VFmaxiter = 300\n",
    "    V = np.zeros((sizez,sizek))  # initial guess at value function\n",
    "    Vmat = np.zeros((sizez, sizek, sizek))  # initialize Vmat matrix\n",
    "    VFiter = 1\n",
    "    PF=0\n",
    "    while VFdist > VFtol and VFiter < VFmaxiter:\n",
    "        TV = V\n",
    "        for h in range(sizez):\n",
    "            for i in range(sizek):  # loop over k\n",
    "                for j in range(sizek):  # loop over k'\n",
    "                    Vmat[h,i,j] = e[h,i,j] + betafirm * np.dot(pi[h,:],V[:,j])\n",
    "        V = Vmat.max(axis=2)  # apply max operator to Vmat (to get V(z,k))\n",
    "        PF = np.argmax(Vmat, axis=2)  # find the index of the optimal k'\n",
    "        VFdist = (np.absolute(V - TV)).max()  # check distance between value\n",
    "        # function for this iteration and value function from past iteration\n",
    "        VFiter += 1\n",
    "    return V, PF\n",
    "\n",
    "\n"
   ]
  },
  {
   "cell_type": "code",
   "execution_count": 182,
   "metadata": {},
   "outputs": [],
   "source": [
    "V, PF=VFI(VFtol, VFmaxiter)\n",
    "optK = kvec[PF]\n",
    "optI = optK - (1 - delta) * kvec\n"
   ]
  },
  {
   "cell_type": "markdown",
   "metadata": {},
   "source": [
    "# Exercise 2"
   ]
  },
  {
   "cell_type": "code",
   "execution_count": 219,
   "metadata": {},
   "outputs": [],
   "source": [
    "psi1=0.03\n",
    "f = np.zeros((sizez,sizek, sizek))\n",
    "g = np.zeros((sizez,sizek))\n",
    "for l in range(sizez):\n",
    "    for i in range(sizek):\n",
    "        for j in range(sizek):\n",
    "                f[l,i, j] = (profit[l,i] - kvec[j] + ((1 - delta) * kvec[i]) - psi1*kvec[i])\n",
    "for l in range(sizez):\n",
    "    for i in range(sizek):\n",
    "            g[l,i] = (profit[l,i] - kvec[j] + ((1 - delta) * kvec[i]))    "
   ]
  },
  {
   "cell_type": "code",
   "execution_count": 236,
   "metadata": {},
   "outputs": [],
   "source": [
    "@jit\n",
    "def VFInew(VFtol, VFmaxiter):\n",
    "    VFtol = 1e-5\n",
    "    VFdist = 7.0\n",
    "    VFmaxiter = 300\n",
    "    V = np.zeros((sizez,sizek))  # initial guess at value function\n",
    "    Vmat1 = np.zeros((sizez, sizek, sizek))  # initialize Vmat matrix\n",
    "    V2 = np.zeros((sizez, sizek)) \n",
    "    VFiter = 1\n",
    "    PF=np.copy(V)\n",
    "    while VFdist > VFtol and VFiter < VFmaxiter:\n",
    "        TV = V\n",
    "        for h in range(sizez):\n",
    "            for i in range(sizek):\n",
    "                s=max((i-dens),0)\n",
    "                V2[h,i] = g[h,i] + betafirm * np.dot(pi[h,:],V[:,s])\n",
    "                for j in range(sizek):  # loop over k'\n",
    "                    Vmat1[h,i,j] = f[h,i,j] + betafirm * np.dot(pi[h,:],V[:,j])     \n",
    "        V1=Vmat1.max(axis=2)  # apply max operator to Vmat (to get V(z,k))\n",
    "        for h in range(sizez):\n",
    "            for i in range(sizek):\n",
    "                V[h,i]=max(V1[h,i],V2[h,i])\n",
    "                if V[h,i]==V1[h,i]:\n",
    "                    PF[h,i]=np.argmax(Vmat1,axis=2)[h,i]\n",
    "                else:\n",
    "                    PF[h,i]=max((i-dens),0)\n",
    "        VFdist = (np.absolute(V - TV)).max()  # check distance between value\n",
    "        # function for this iteration and value function from past iteration\n",
    "        VFiter += 1\n",
    "    return V, PF\n"
   ]
  },
  {
   "cell_type": "code",
   "execution_count": 237,
   "metadata": {},
   "outputs": [
    {
     "data": {
      "text/plain": [
       "(array([[ -6.52109858e-06,   2.46317948e-05,   5.68190277e-05, ...,\n",
       "           1.63913600e+00,   1.69436878e+00,   1.75146432e+00],\n",
       "        [  1.58087512e-04,   1.93979313e-04,   2.31041882e-04, ...,\n",
       "           1.74253580e+00,   1.80074535e+00,   1.86090336e+00],\n",
       "        [  3.01907632e-04,   3.41939862e-04,   3.83262058e-04, ...,\n",
       "           1.83287719e+00,   1.89368758e+00,   1.95652129e+00],\n",
       "        ..., \n",
       "        [  1.27106414e-03,   1.33899736e-03,   1.40902378e-03, ...,\n",
       "           2.44165814e+00,   2.51999469e+00,   2.60085912e+00],\n",
       "        [  1.89620294e-03,   1.98213324e-03,   2.07067487e-03, ...,\n",
       "           2.83434250e+00,   2.92398401e+00,   3.01647886e+00],\n",
       "        [  3.92564004e-03,   4.06999569e-03,   4.21864466e-03, ...,\n",
       "           4.10914449e+00,   4.23548620e+00,   4.36573782e+00]]),\n",
       " array([[ 0.,  0.,  0., ...,  0.,  0.,  0.],\n",
       "        [ 0.,  0.,  0., ...,  0.,  0.,  0.],\n",
       "        [ 0.,  0.,  0., ...,  0.,  0.,  0.],\n",
       "        ..., \n",
       "        [ 0.,  0.,  0., ...,  0.,  0.,  0.],\n",
       "        [ 0.,  0.,  0., ...,  0.,  0.,  0.],\n",
       "        [ 0.,  0.,  0., ...,  0.,  0.,  0.]]))"
      ]
     },
     "execution_count": 237,
     "metadata": {},
     "output_type": "execute_result"
    }
   ],
   "source": [
    "VFInew(VFtol, VFmaxiter)\n"
   ]
  },
  {
   "cell_type": "code",
   "execution_count": null,
   "metadata": {
    "collapsed": true
   },
   "outputs": [],
   "source": []
  },
  {
   "cell_type": "code",
   "execution_count": 226,
   "metadata": {},
   "outputs": [
    {
     "ename": "TypeError",
     "evalue": "'int' object does not support item assignment",
     "output_type": "error",
     "traceback": [
      "\u001b[0;31m---------------------------------------------------------------------------\u001b[0m",
      "\u001b[0;31mTypeError\u001b[0m                                 Traceback (most recent call last)",
      "\u001b[0;32m<ipython-input-226-335215ba441c>\u001b[0m in \u001b[0;36m<module>\u001b[0;34m()\u001b[0m\n\u001b[1;32m     20\u001b[0m             \u001b[0mV\u001b[0m\u001b[0;34m[\u001b[0m\u001b[0mh\u001b[0m\u001b[0;34m,\u001b[0m\u001b[0mi\u001b[0m\u001b[0;34m]\u001b[0m\u001b[0;34m=\u001b[0m\u001b[0mmax\u001b[0m\u001b[0;34m(\u001b[0m\u001b[0mV1\u001b[0m\u001b[0;34m[\u001b[0m\u001b[0mh\u001b[0m\u001b[0;34m,\u001b[0m\u001b[0mi\u001b[0m\u001b[0;34m]\u001b[0m\u001b[0;34m,\u001b[0m\u001b[0mV2\u001b[0m\u001b[0;34m[\u001b[0m\u001b[0mh\u001b[0m\u001b[0;34m,\u001b[0m\u001b[0mi\u001b[0m\u001b[0;34m]\u001b[0m\u001b[0;34m)\u001b[0m\u001b[0;34m\u001b[0m\u001b[0m\n\u001b[1;32m     21\u001b[0m             \u001b[0;32mif\u001b[0m \u001b[0mV\u001b[0m\u001b[0;34m[\u001b[0m\u001b[0mh\u001b[0m\u001b[0;34m,\u001b[0m\u001b[0mi\u001b[0m\u001b[0;34m]\u001b[0m\u001b[0;34m==\u001b[0m\u001b[0mV1\u001b[0m\u001b[0;34m[\u001b[0m\u001b[0mh\u001b[0m\u001b[0;34m,\u001b[0m\u001b[0mi\u001b[0m\u001b[0;34m]\u001b[0m\u001b[0;34m:\u001b[0m\u001b[0;34m\u001b[0m\u001b[0m\n\u001b[0;32m---> 22\u001b[0;31m                 \u001b[0mPF\u001b[0m\u001b[0;34m[\u001b[0m\u001b[0mh\u001b[0m\u001b[0;34m,\u001b[0m\u001b[0mi\u001b[0m\u001b[0;34m]\u001b[0m\u001b[0;34m=\u001b[0m\u001b[0mnp\u001b[0m\u001b[0;34m.\u001b[0m\u001b[0margmax\u001b[0m\u001b[0;34m(\u001b[0m\u001b[0mVmat1\u001b[0m\u001b[0;34m,\u001b[0m\u001b[0maxis\u001b[0m\u001b[0;34m=\u001b[0m\u001b[0;36m2\u001b[0m\u001b[0;34m)\u001b[0m\u001b[0;34m[\u001b[0m\u001b[0mh\u001b[0m\u001b[0;34m,\u001b[0m\u001b[0mi\u001b[0m\u001b[0;34m]\u001b[0m\u001b[0;34m\u001b[0m\u001b[0m\n\u001b[0m\u001b[1;32m     23\u001b[0m             \u001b[0;32melse\u001b[0m\u001b[0;34m:\u001b[0m\u001b[0;34m\u001b[0m\u001b[0m\n\u001b[1;32m     24\u001b[0m                 \u001b[0mPF\u001b[0m\u001b[0;34m[\u001b[0m\u001b[0mh\u001b[0m\u001b[0;34m,\u001b[0m\u001b[0mi\u001b[0m\u001b[0;34m]\u001b[0m\u001b[0;34m=\u001b[0m\u001b[0mmax\u001b[0m\u001b[0;34m(\u001b[0m\u001b[0;34m(\u001b[0m\u001b[0mi\u001b[0m\u001b[0;34m-\u001b[0m\u001b[0mdens\u001b[0m\u001b[0;34m)\u001b[0m\u001b[0;34m,\u001b[0m\u001b[0;36m0\u001b[0m\u001b[0;34m)\u001b[0m\u001b[0;34m\u001b[0m\u001b[0m\n",
      "\u001b[0;31mTypeError\u001b[0m: 'int' object does not support item assignment"
     ]
    }
   ],
   "source": [
    "VFtol = 1e-5\n",
    "VFdist = 7.0\n",
    "VFmaxiter = 100\n",
    "V = np.zeros((sizez,sizek))  # initial guess at value function\n",
    "Vmat1 = np.zeros((sizez, sizek, sizek))  # initialize Vmat matrix\n",
    "V2 = np.zeros((sizez, sizek)) \n",
    "VFiter = 1\n",
    "PF=np.copy(V)\n",
    "while VFdist > VFtol and VFiter < VFmaxiter:\n",
    "    TV = V\n",
    "    for h in range(sizez):\n",
    "        for i in range(sizek):\n",
    "            s=max((i-dens),0)\n",
    "            V2[h,i] = g[h,i] + betafirm * np.dot(pi[h,:],V[:,s])\n",
    "            for j in range(sizek):  # loop over k'\n",
    "                Vmat1[h,i,j] = f[h,i,j] + betafirm * np.dot(pi[h,:],V[:,j])     \n",
    "    V1=Vmat1.max(axis=2)  # apply max operator to Vmat (to get V(z,k))\n",
    "    for h in range(sizez):\n",
    "        for i in range(sizek):\n",
    "            V[h,i]=max(V1[h,i],V2[h,i])\n",
    "            if V[h,i]==V1[h,i]:\n",
    "                PF[h,i]=np.argmax(Vmat1,axis=2)[h,i]\n",
    "            else:\n",
    "                PF[h,i]=max((i-dens),0)\n",
    "    VFdist = (np.absolute(V - TV)).max()  # check distance between value\n",
    "        # function for this iteration and value function from past iteration\n",
    "    VFiter += 1"
   ]
  },
  {
   "cell_type": "code",
   "execution_count": null,
   "metadata": {
    "collapsed": true
   },
   "outputs": [],
   "source": []
  }
 ],
 "metadata": {
  "kernelspec": {
   "display_name": "Python 3",
   "language": "python",
   "name": "python3"
  },
  "language_info": {
   "codemirror_mode": {
    "name": "ipython",
    "version": 3
   },
   "file_extension": ".py",
   "mimetype": "text/x-python",
   "name": "python",
   "nbconvert_exporter": "python",
   "pygments_lexer": "ipython3",
   "version": "3.6.1"
  }
 },
 "nbformat": 4,
 "nbformat_minor": 2
}
